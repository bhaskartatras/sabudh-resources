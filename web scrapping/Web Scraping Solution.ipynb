{
 "cells": [
  {
   "cell_type": "markdown",
   "metadata": {},
   "source": [
    "# Web Scraping and Data Analysis & Visualization"
   ]
  },
  {
   "cell_type": "code",
   "execution_count": 1,
   "metadata": {},
   "outputs": [],
   "source": [
    "# Importing required libraries\n",
    "import pandas as pd\n",
    "import requests\n",
    "from requests import get\n",
    "import re\n",
    "import numpy as np\n",
    "from time import time, sleep\n",
    "from IPython.core.display import clear_output\n",
    "from random import randint\n",
    "from bs4 import BeautifulSoup\n",
    "import matplotlib.pyplot as plt\n",
    "import seaborn as sns\n",
    "%matplotlib inline"
   ]
  },
  {
   "cell_type": "markdown",
   "metadata": {},
   "source": [
    "## Scraping data for over 2000 movies from IMDB website"
   ]
  },
  {
   "cell_type": "code",
   "execution_count": 2,
   "metadata": {},
   "outputs": [],
   "source": [
    "pages = [str(i) for i in range(1,5)]\n",
    "years_url = [str(i) for i in range(2000,2018)]\n",
    "headers = {\"Accept-Language\": \"en-US, en;q=0.5\"}"
   ]
  },
  {
   "cell_type": "code",
   "execution_count": 3,
   "metadata": {},
   "outputs": [
    {
     "name": "stdout",
     "output_type": "stream",
     "text": [
      "Request:72; Frequency: 0.06007852494308931 requests/s\n"
     ]
    }
   ],
   "source": [
    "# Declaring the lists to store data in\n",
    "names = []\n",
    "years = []\n",
    "imdb_ratings = []\n",
    "metascores = []\n",
    "votes = []\n",
    "\n",
    "# Preparing the monitoring of the loop\n",
    "start_time = time()\n",
    "requests = 0\n",
    "\n",
    "# For every year in the interval 2000-2017\n",
    "for year_url in years_url:\n",
    "\n",
    "    # For every page in the interval 1-4\n",
    "    for page in pages:\n",
    "\n",
    "        # Make a get request\n",
    "        response = get('https://www.imdb.com/search/title?release_date=' + year_url +\n",
    "        '&sort=num_votes,desc&page=' + page, headers = headers)\n",
    "\n",
    "        # Pause the loop\n",
    "        sleep(randint(8,15))\n",
    "\n",
    "        # Monitor the requests\n",
    "        requests += 1\n",
    "        elapsed_time = time() - start_time\n",
    "        print('Request:{}; Frequency: {} requests/s'.format(requests, requests/elapsed_time))\n",
    "        clear_output(wait = True)\n",
    "\n",
    "        # Throw a warning for non-200 status codes\n",
    "        if response.status_code != 200:\n",
    "            warn('Request: {}; Status code: {}'.format(requests, response.status_code))\n",
    "\n",
    "        # Break the loop if the number of requests is greater than expected\n",
    "        if requests > 72:\n",
    "            warn('Number of requests was greater than expected.')\n",
    "            break\n",
    "\n",
    "        # Parse the content of the request with BeautifulSoup\n",
    "        page_html = BeautifulSoup(response.text, 'html.parser')\n",
    "\n",
    "        # Select all the 50 movie containers from a single page\n",
    "        mv_containers = page_html.find_all('div', class_ = 'lister-item mode-advanced')\n",
    "\n",
    "        # For every movie of these 50\n",
    "        for container in mv_containers:\n",
    "            # If the movie has a Metascore, then:\n",
    "            if container.find('div', class_ = 'ratings-metascore') is not None:\n",
    "\n",
    "                # Scrape the name\n",
    "                name = container.h3.a.text\n",
    "                names.append(name)\n",
    "\n",
    "                # Scrape the year\n",
    "                year = container.h3.find('span', class_ = 'lister-item-year').text\n",
    "                years.append(year)\n",
    "\n",
    "                # Scrape the IMDB rating\n",
    "                imdb = float(container.strong.text)\n",
    "                imdb_ratings.append(imdb)\n",
    "\n",
    "                # Scrape the Metascore\n",
    "                m_score = container.find('span', class_ = 'metascore').text\n",
    "                metascores.append(int(m_score))\n",
    "\n",
    "                # Scrape the number of votes\n",
    "                vote = container.find('span', attrs = {'name':'nv'})['data-value']\n",
    "                votes.append(int(vote))"
   ]
  },
  {
   "cell_type": "markdown",
   "metadata": {},
   "source": [
    "## Storing the Scraped Data into a Pandas DataFrame"
   ]
  },
  {
   "cell_type": "code",
   "execution_count": 4,
   "metadata": {},
   "outputs": [
    {
     "name": "stdout",
     "output_type": "stream",
     "text": [
      "<class 'pandas.core.frame.DataFrame'>\n",
      "RangeIndex: 3264 entries, 0 to 3263\n",
      "Data columns (total 5 columns):\n",
      "movie        3264 non-null object\n",
      "year         3264 non-null object\n",
      "imdb         3264 non-null float64\n",
      "metascore    3264 non-null int64\n",
      "votes        3264 non-null int64\n",
      "dtypes: float64(1), int64(2), object(2)\n",
      "memory usage: 127.6+ KB\n",
      "None\n"
     ]
    }
   ],
   "source": [
    "movie_ratings = pd.DataFrame({'movie': names,\n",
    "'year': years,\n",
    "'imdb': imdb_ratings,\n",
    "'metascore': metascores,\n",
    "'votes': votes\n",
    "})\n",
    "print(movie_ratings.info())"
   ]
  },
  {
   "cell_type": "code",
   "execution_count": 5,
   "metadata": {},
   "outputs": [
    {
     "data": {
      "text/html": [
       "<div>\n",
       "<style scoped>\n",
       "    .dataframe tbody tr th:only-of-type {\n",
       "        vertical-align: middle;\n",
       "    }\n",
       "\n",
       "    .dataframe tbody tr th {\n",
       "        vertical-align: top;\n",
       "    }\n",
       "\n",
       "    .dataframe thead th {\n",
       "        text-align: right;\n",
       "    }\n",
       "</style>\n",
       "<table border=\"1\" class=\"dataframe\">\n",
       "  <thead>\n",
       "    <tr style=\"text-align: right;\">\n",
       "      <th></th>\n",
       "      <th>movie</th>\n",
       "      <th>year</th>\n",
       "      <th>imdb</th>\n",
       "      <th>metascore</th>\n",
       "      <th>votes</th>\n",
       "    </tr>\n",
       "  </thead>\n",
       "  <tbody>\n",
       "    <tr>\n",
       "      <th>0</th>\n",
       "      <td>Gladiator</td>\n",
       "      <td>(2000)</td>\n",
       "      <td>8.5</td>\n",
       "      <td>67</td>\n",
       "      <td>1359035</td>\n",
       "    </tr>\n",
       "    <tr>\n",
       "      <th>1</th>\n",
       "      <td>Memento</td>\n",
       "      <td>(2000)</td>\n",
       "      <td>8.4</td>\n",
       "      <td>80</td>\n",
       "      <td>1139291</td>\n",
       "    </tr>\n",
       "    <tr>\n",
       "      <th>2</th>\n",
       "      <td>Snatch</td>\n",
       "      <td>(2000)</td>\n",
       "      <td>8.3</td>\n",
       "      <td>55</td>\n",
       "      <td>790865</td>\n",
       "    </tr>\n",
       "    <tr>\n",
       "      <th>3</th>\n",
       "      <td>Requiem for a Dream</td>\n",
       "      <td>(2000)</td>\n",
       "      <td>8.3</td>\n",
       "      <td>68</td>\n",
       "      <td>776547</td>\n",
       "    </tr>\n",
       "    <tr>\n",
       "      <th>4</th>\n",
       "      <td>X-Men</td>\n",
       "      <td>(2000)</td>\n",
       "      <td>7.4</td>\n",
       "      <td>64</td>\n",
       "      <td>576129</td>\n",
       "    </tr>\n",
       "    <tr>\n",
       "      <th>5</th>\n",
       "      <td>Cast Away</td>\n",
       "      <td>(2000)</td>\n",
       "      <td>7.8</td>\n",
       "      <td>73</td>\n",
       "      <td>532753</td>\n",
       "    </tr>\n",
       "    <tr>\n",
       "      <th>6</th>\n",
       "      <td>American Psycho</td>\n",
       "      <td>(2000)</td>\n",
       "      <td>7.6</td>\n",
       "      <td>64</td>\n",
       "      <td>502281</td>\n",
       "    </tr>\n",
       "    <tr>\n",
       "      <th>7</th>\n",
       "      <td>Unbreakable</td>\n",
       "      <td>(2000)</td>\n",
       "      <td>7.3</td>\n",
       "      <td>62</td>\n",
       "      <td>390696</td>\n",
       "    </tr>\n",
       "    <tr>\n",
       "      <th>8</th>\n",
       "      <td>Mission: Impossible II</td>\n",
       "      <td>(2000)</td>\n",
       "      <td>6.1</td>\n",
       "      <td>59</td>\n",
       "      <td>317839</td>\n",
       "    </tr>\n",
       "    <tr>\n",
       "      <th>9</th>\n",
       "      <td>Meet the Parents</td>\n",
       "      <td>(2000)</td>\n",
       "      <td>7.0</td>\n",
       "      <td>73</td>\n",
       "      <td>313610</td>\n",
       "    </tr>\n",
       "  </tbody>\n",
       "</table>\n",
       "</div>"
      ],
      "text/plain": [
       "                    movie    year  imdb  metascore    votes\n",
       "0               Gladiator  (2000)   8.5         67  1359035\n",
       "1                 Memento  (2000)   8.4         80  1139291\n",
       "2                  Snatch  (2000)   8.3         55   790865\n",
       "3     Requiem for a Dream  (2000)   8.3         68   776547\n",
       "4                   X-Men  (2000)   7.4         64   576129\n",
       "5               Cast Away  (2000)   7.8         73   532753\n",
       "6         American Psycho  (2000)   7.6         64   502281\n",
       "7             Unbreakable  (2000)   7.3         62   390696\n",
       "8  Mission: Impossible II  (2000)   6.1         59   317839\n",
       "9        Meet the Parents  (2000)   7.0         73   313610"
      ]
     },
     "execution_count": 5,
     "metadata": {},
     "output_type": "execute_result"
    }
   ],
   "source": [
    "movie_ratings.head(10)"
   ]
  },
  {
   "cell_type": "markdown",
   "metadata": {},
   "source": [
    "# Cleaning the scraped data"
   ]
  },
  {
   "cell_type": "markdown",
   "metadata": {},
   "source": [
    "We’ll clean the scraped data for: plotting the distribution of IMDB and Metascore ratings.<br>"
   ]
  },
  {
   "cell_type": "markdown",
   "metadata": {},
   "source": [
    "### Step I: Reordering the columns"
   ]
  },
  {
   "cell_type": "code",
   "execution_count": 6,
   "metadata": {},
   "outputs": [
    {
     "data": {
      "text/html": [
       "<div>\n",
       "<style scoped>\n",
       "    .dataframe tbody tr th:only-of-type {\n",
       "        vertical-align: middle;\n",
       "    }\n",
       "\n",
       "    .dataframe tbody tr th {\n",
       "        vertical-align: top;\n",
       "    }\n",
       "\n",
       "    .dataframe thead th {\n",
       "        text-align: right;\n",
       "    }\n",
       "</style>\n",
       "<table border=\"1\" class=\"dataframe\">\n",
       "  <thead>\n",
       "    <tr style=\"text-align: right;\">\n",
       "      <th></th>\n",
       "      <th>movie</th>\n",
       "      <th>year</th>\n",
       "      <th>imdb</th>\n",
       "      <th>metascore</th>\n",
       "      <th>votes</th>\n",
       "    </tr>\n",
       "  </thead>\n",
       "  <tbody>\n",
       "    <tr>\n",
       "      <th>0</th>\n",
       "      <td>Gladiator</td>\n",
       "      <td>(2000)</td>\n",
       "      <td>8.5</td>\n",
       "      <td>67</td>\n",
       "      <td>1359035</td>\n",
       "    </tr>\n",
       "    <tr>\n",
       "      <th>1</th>\n",
       "      <td>Memento</td>\n",
       "      <td>(2000)</td>\n",
       "      <td>8.4</td>\n",
       "      <td>80</td>\n",
       "      <td>1139291</td>\n",
       "    </tr>\n",
       "    <tr>\n",
       "      <th>2</th>\n",
       "      <td>Snatch</td>\n",
       "      <td>(2000)</td>\n",
       "      <td>8.3</td>\n",
       "      <td>55</td>\n",
       "      <td>790865</td>\n",
       "    </tr>\n",
       "    <tr>\n",
       "      <th>3</th>\n",
       "      <td>Requiem for a Dream</td>\n",
       "      <td>(2000)</td>\n",
       "      <td>8.3</td>\n",
       "      <td>68</td>\n",
       "      <td>776547</td>\n",
       "    </tr>\n",
       "    <tr>\n",
       "      <th>4</th>\n",
       "      <td>X-Men</td>\n",
       "      <td>(2000)</td>\n",
       "      <td>7.4</td>\n",
       "      <td>64</td>\n",
       "      <td>576129</td>\n",
       "    </tr>\n",
       "  </tbody>\n",
       "</table>\n",
       "</div>"
      ],
      "text/plain": [
       "                 movie    year  imdb  metascore    votes\n",
       "0            Gladiator  (2000)   8.5         67  1359035\n",
       "1              Memento  (2000)   8.4         80  1139291\n",
       "2               Snatch  (2000)   8.3         55   790865\n",
       "3  Requiem for a Dream  (2000)   8.3         68   776547\n",
       "4                X-Men  (2000)   7.4         64   576129"
      ]
     },
     "execution_count": 6,
     "metadata": {},
     "output_type": "execute_result"
    }
   ],
   "source": [
    "movie_ratings = movie_ratings[['movie', 'year', 'imdb', 'metascore', 'votes']]\n",
    "movie_ratings.head()"
   ]
  },
  {
   "cell_type": "markdown",
   "metadata": {},
   "source": [
    "### Step II: Cleaning the year column and convert the values to integers"
   ]
  },
  {
   "cell_type": "markdown",
   "metadata": {},
   "source": [
    "Right now all the values are of the object type. To avoid ValueErrors upon conversion, we want the values to be composed only from numbers from 0 to 9.\n",
    "Let’s examine the unique values of the year column. This helps us to get an idea of what we could do to make the conversions we want. "
   ]
  },
  {
   "cell_type": "code",
   "execution_count": 7,
   "metadata": {},
   "outputs": [
    {
     "data": {
      "text/plain": [
       "array(['(2000)', '(I) (2000)', '(2001)', '(2002)', '(2003)', '(2004)',\n",
       "       '(I) (2004)', '(2005)', '(I) (2005)', '(2006)', '(I) (2006)',\n",
       "       '(2007)', '(I) (2007)', '(2008)', '(I) (2008)', '(2009)',\n",
       "       '(I) (2009)', '(2010)', '(I) (2010)', '(2011)', '(I) (2011)',\n",
       "       '(2012)', '(I) (2012)', '(2013)', '(I) (2013)', '(2014)',\n",
       "       '(I) (2014)', '(II) (2014)', '(2015)', '(I) (2015)', '(II) (2015)',\n",
       "       '(2016)', '(II) (2016)', '(IX) (2016)', '(I) (2016)', '(2017)',\n",
       "       '(I) (2017)'], dtype=object)"
      ]
     },
     "execution_count": 7,
     "metadata": {},
     "output_type": "execute_result"
    }
   ],
   "source": [
    "movie_ratings['year'].unique()"
   ]
  },
  {
   "cell_type": "code",
   "execution_count": 8,
   "metadata": {},
   "outputs": [
    {
     "data": {
      "text/plain": [
       "0    2000\n",
       "1    2000\n",
       "2    2000\n",
       "Name: year, dtype: int32"
      ]
     },
     "execution_count": 8,
     "metadata": {},
     "output_type": "execute_result"
    }
   ],
   "source": [
    "# converting the year values to integers \n",
    "movie_ratings.loc[:, 'year'] = movie_ratings['year'].str[-5:-1].astype(int)\n",
    "movie_ratings['year'].head(3)"
   ]
  },
  {
   "cell_type": "markdown",
   "metadata": {},
   "source": [
    "### Step III: Checking the extreme rating values to determine if all the ratings are within the expected intervals"
   ]
  },
  {
   "cell_type": "code",
   "execution_count": 9,
   "metadata": {},
   "outputs": [
    {
     "data": {
      "text/html": [
       "<div>\n",
       "<style scoped>\n",
       "    .dataframe tbody tr th:only-of-type {\n",
       "        vertical-align: middle;\n",
       "    }\n",
       "\n",
       "    .dataframe tbody tr th {\n",
       "        vertical-align: top;\n",
       "    }\n",
       "\n",
       "    .dataframe thead th {\n",
       "        text-align: right;\n",
       "    }\n",
       "</style>\n",
       "<table border=\"1\" class=\"dataframe\">\n",
       "  <thead>\n",
       "    <tr style=\"text-align: right;\">\n",
       "      <th></th>\n",
       "      <th>imdb</th>\n",
       "      <th>metascore</th>\n",
       "    </tr>\n",
       "  </thead>\n",
       "  <tbody>\n",
       "    <tr>\n",
       "      <th>min</th>\n",
       "      <td>4.1</td>\n",
       "      <td>24.0</td>\n",
       "    </tr>\n",
       "    <tr>\n",
       "      <th>max</th>\n",
       "      <td>9.0</td>\n",
       "      <td>100.0</td>\n",
       "    </tr>\n",
       "  </tbody>\n",
       "</table>\n",
       "</div>"
      ],
      "text/plain": [
       "     imdb  metascore\n",
       "min   4.1       24.0\n",
       "max   9.0      100.0"
      ]
     },
     "execution_count": 9,
     "metadata": {},
     "output_type": "execute_result"
    }
   ],
   "source": [
    "movie_ratings.describe().loc[['min', 'max'], ['imdb', 'metascore']]"
   ]
  },
  {
   "cell_type": "markdown",
   "metadata": {},
   "source": [
    "There are no unexpected outliers.<br>\n",
    "From the values above, we can see that the two ratings have different scales.<br>\n",
    "To be able to plot the two distributions on a single graph, we’ll have to bring them to the same scale."
   ]
  },
  {
   "cell_type": "markdown",
   "metadata": {},
   "source": [
    "### Step IV: Normalizing one of the ratings type (or both) for generating a comparative histogram."
   ]
  },
  {
   "cell_type": "code",
   "execution_count": 10,
   "metadata": {},
   "outputs": [
    {
     "data": {
      "text/html": [
       "<div>\n",
       "<style scoped>\n",
       "    .dataframe tbody tr th:only-of-type {\n",
       "        vertical-align: middle;\n",
       "    }\n",
       "\n",
       "    .dataframe tbody tr th {\n",
       "        vertical-align: top;\n",
       "    }\n",
       "\n",
       "    .dataframe thead th {\n",
       "        text-align: right;\n",
       "    }\n",
       "</style>\n",
       "<table border=\"1\" class=\"dataframe\">\n",
       "  <thead>\n",
       "    <tr style=\"text-align: right;\">\n",
       "      <th></th>\n",
       "      <th>movie</th>\n",
       "      <th>year</th>\n",
       "      <th>imdb</th>\n",
       "      <th>metascore</th>\n",
       "      <th>votes</th>\n",
       "      <th>n_imdb</th>\n",
       "    </tr>\n",
       "  </thead>\n",
       "  <tbody>\n",
       "    <tr>\n",
       "      <th>0</th>\n",
       "      <td>Gladiator</td>\n",
       "      <td>2000</td>\n",
       "      <td>8.5</td>\n",
       "      <td>67</td>\n",
       "      <td>1359035</td>\n",
       "      <td>85.0</td>\n",
       "    </tr>\n",
       "    <tr>\n",
       "      <th>1</th>\n",
       "      <td>Memento</td>\n",
       "      <td>2000</td>\n",
       "      <td>8.4</td>\n",
       "      <td>80</td>\n",
       "      <td>1139291</td>\n",
       "      <td>84.0</td>\n",
       "    </tr>\n",
       "    <tr>\n",
       "      <th>2</th>\n",
       "      <td>Snatch</td>\n",
       "      <td>2000</td>\n",
       "      <td>8.3</td>\n",
       "      <td>55</td>\n",
       "      <td>790865</td>\n",
       "      <td>83.0</td>\n",
       "    </tr>\n",
       "  </tbody>\n",
       "</table>\n",
       "</div>"
      ],
      "text/plain": [
       "       movie  year  imdb  metascore    votes  n_imdb\n",
       "0  Gladiator  2000   8.5         67  1359035    85.0\n",
       "1    Memento  2000   8.4         80  1139291    84.0\n",
       "2     Snatch  2000   8.3         55   790865    83.0"
      ]
     },
     "execution_count": 10,
     "metadata": {},
     "output_type": "execute_result"
    }
   ],
   "source": [
    "# normalizing the imdb column to a 100-points scale by multiplying each IMDB rating by 10\n",
    "movie_ratings['n_imdb'] = movie_ratings['imdb'] * 10\n",
    "movie_ratings.head(3)"
   ]
  },
  {
   "cell_type": "markdown",
   "metadata": {},
   "source": [
    "# Plotting and analyzing the distributions"
   ]
  },
  {
   "cell_type": "code",
   "execution_count": 11,
   "metadata": {},
   "outputs": [
    {
     "data": {
      "image/png": "[encoded data removed]",
      "text/plain": [
       "<Figure size 1152x288 with 3 Axes>"
      ]
     },
     "metadata": {
      "needs_background": "light"
     },
     "output_type": "display_data"
    }
   ],
   "source": [
    "import matplotlib.pyplot as plt\n",
    "\n",
    "fig, axes = plt.subplots(nrows = 1, ncols = 3, figsize = (16,4))\n",
    "ax1, ax2, ax3 = fig.axes\n",
    "ax1.hist(movie_ratings['imdb'], bins = 10, range = (0,10)) # bin range = 1\n",
    "ax1.set_title('IMDB rating')\n",
    "ax2.hist(movie_ratings['metascore'], bins = 10, range = (0,100)) # bin range = 10\n",
    "ax2.set_title('Metascore')\n",
    "ax3.hist(movie_ratings['n_imdb'], bins = 10, range = (0,100), histtype = 'step')\n",
    "ax3.hist(movie_ratings['metascore'], bins = 10, range = (0,100), histtype = 'step')\n",
    "ax3.legend(loc = 'upper left')\n",
    "ax3.set_title('The Two Normalized Distributions')\n",
    "for ax in fig.axes:\n",
    "    ax.spines['top'].set_visible(False)\n",
    "    ax.spines['right'].set_visible(False)\n",
    "plt.show()"
   ]
  },
  {
   "cell_type": "markdown",
   "metadata": {},
   "source": [
    "## Conclusion -\n",
    "Starting with the IMDB histogram, we can see that most ratings are between 6 and 8. There are few movies with a rating greater than 8, and even fewer with a rating smaller than 4. This indicates that both very good movies and very bad movies are rarer.<br>\n",
    "\n",
    "The distribution of Metascore ratings resembles a normal distribution – most ratings are average, peaking at the value of approximately 50. From this peak, the frequencies gradually decrease toward extreme rating values. According to this distribution, there are indeed fewer very good and very bad movies, but not that few as the IMDB ratings indicate.<br>\n",
    "\n",
    "On the comparative graph, it’s clearer that the IMDB distribution is highly skewed toward the higher part of the average ratings, while the Metascore ratings seem to have a much more balanced distribution.<br>\n",
    "\n",
    "What might be the reason for that skew in the IMDB distribution? One hypothesis is that many users tend to have a binary method of assessing movies. If they like the movie, they give it a 10. If they don’t like the movie, they give it a very small rating, or they don’t bother to rate the movie."
   ]
  },
  {
   "cell_type": "code",
   "execution_count": null,
   "metadata": {},
   "outputs": [],
   "source": []
  }
 ],
 "metadata": {
  "kernelspec": {
   "display_name": "Python 3",
   "language": "python",
   "name": "python3"
  },
  "language_info": {
   "codemirror_mode": {
    "name": "ipython",
    "version": 3
   },
   "file_extension": ".py",
   "mimetype": "text/x-python",
   "name": "python",
   "nbconvert_exporter": "python",
   "pygments_lexer": "ipython3",
   "version": "3.7.3"
  }
 },
 "nbformat": 4,
 "nbformat_minor": 2
}
