{
 "cells": [
  {
   "cell_type": "markdown",
   "id": "fe76a8b1",
   "metadata": {},
   "source": [
    "## What is Web Scraping? :-\n",
    "Web Scrapping also called “Crawling” or “Spidering” is the technique to gather data automatically from an online source usually from a website. While Web Scrapping is an easy way to get a large volume of data in a relatively short time frame, it adds stress to the server where the source is hosted.\n",
    "\n",
    "This is also one of the main reasons why many websites don’t allow scraping all on their website. However, as long as it does not disrupt the primary function of the online source, it is fairly acceptable.\n",
    "\n",
    " \n",
    "\n",
    "## Why Web Scraping? –\n",
    "There’s a large volume of data lying on the web that people can utilize to serve the business needs.  So, one needs some tool or technique to gather this information from the web. And that’s where the concept of Web-Scrapping comes in to play.\n",
    "\n",
    " \n",
    "\n",
    "## How Web Scraping is useful? –\n",
    "Web scraping can help us extract an enormous amount of data about customers, products, people, stock markets, etc.\n",
    "\n",
    "One can utilize the data collected from a website such as e-commerce portal, Job portals, social media channels to understand customer’s buying patterns, employee attrition behavior, and customer’s sentiments and the list goes on.\n",
    "\n",
    "Most popular libraries or frameworks that are used in Python for Web – Scrapping are BeautifulSoup, Scrappy & Selenium.\n",
    "\n",
    "In this article, we’ll talk about Web-scrapping using Selenium in Python. And the cherry on top we’ll see how can we gather images from the web that you can use to build train data for your deep learning project.\n",
    "\n"
   ]
  },
  {
   "cell_type": "markdown",
   "id": "1c2c4f58",
   "metadata": {},
   "source": [
    "## What is Selenium: –\n",
    "Selenium is an open-source web-based automation tool. Selenium primarily used for testing in the industry but It can also be used for web scraping. We’ll use the Chrome browser but you can try on any browser, It’s almost the same."
   ]
  },
  {
   "cell_type": "markdown",
   "id": "f335b1b9",
   "metadata": {},
   "source": [
    "Now let us see how to use selenium for Web Scraping.\n",
    "\n"
   ]
  },
  {
   "cell_type": "markdown",
   "id": "1449bbcf",
   "metadata": {},
   "source": [
    "## Setup & tools:-\n",
    "## Installation:\n",
    "### Install selenium using pip\n",
    "    pip install selenium\n",
    "### Install selenium using conda\n",
    "    conda install -c conda-forge selenium\n",
    "## Download Chrome Driver:\n",
    "To download web drivers, you can choose any of below methods-\n",
    "### You can either directly download chrome driver from the below link-\n",
    "https://chromedriver.chromium.org/downloads\n",
    "### Or, you can download it directly using below line of code-\n",
    "driver = webdriver.Chrome(ChromeDriverManager().install())\n",
    "\n",
    "You can find complete documentation on selenium here. Documentation is very much self-explanatory so make sure to read it to leverage selenium with Python.\n",
    "\n",
    "Following methods will help us to find elements in a Web-page (these methods will return a list):\n",
    "\n",
    "1. find_element(by=By.name, value='name')\n",
    "2. find_element(by=By.XPATH, value='xpath')\n",
    "3. find_element(by=By.LINK_TEXT, value='link_text')\n",
    "4. find_element(by=By.PARTIAL_LINK_TEXT, value='partial_link_text')\n",
    "5. find_element(by=By.TAG_NAME, value='tag')\n",
    "6. find_element(by=By.CLASS_NAME, value='class_name')\n",
    "7. find_element(by=By.CSS_SELECTOR, value='css_selector')\n",
    "Now let’s write one Python code to scrape images from web.\n",
    "\n"
   ]
  },
  {
   "cell_type": "code",
   "execution_count": 36,
   "id": "19d1e6ea",
   "metadata": {},
   "outputs": [],
   "source": [
    "# Import Libraries\n",
    "import os\n",
    "import selenium\n",
    "from selenium import webdriver\n",
    "import time\n",
    "from PIL import Image\n",
    "import io\n",
    "import requests\n",
    "from webdriver_manager.chrome import ChromeDriverManager\n",
    "from selenium.common.exceptions import ElementClickInterceptedException\n",
    "from selenium.webdriver.common.by import By"
   ]
  },
  {
   "cell_type": "code",
   "execution_count": 37,
   "id": "23f15ff4",
   "metadata": {},
   "outputs": [
    {
     "name": "stderr",
     "output_type": "stream",
     "text": [
      "/tmp/ipykernel_467670/264285448.py:2: DeprecationWarning: executable_path has been deprecated, please pass in a Service object\n",
      "  driver = webdriver.Chrome(ChromeDriverManager().install())\n"
     ]
    }
   ],
   "source": [
    "# Install Driver\n",
    "driver = webdriver.Chrome(ChromeDriverManager().install())"
   ]
  },
  {
   "cell_type": "code",
   "execution_count": 38,
   "id": "c84ba72d",
   "metadata": {},
   "outputs": [],
   "source": [
    "#Specify Search URL \n",
    "search_url=\"https://www.google.com/search?q={q}&tbm=isch&tbs=sur%3Afc&hl=en&ved=0CAIQpwVqFwoTCKCa1c6s4-oCFQAAAAAdAAAAABAC&biw=1251&bih=568\" \n",
    "\n",
    "driver.get(search_url.format(q='car'))"
   ]
  },
  {
   "cell_type": "code",
   "execution_count": 39,
   "id": "3c6cb8cc",
   "metadata": {},
   "outputs": [],
   "source": [
    "#Scroll to the end of the page\n",
    "time.sleep(5)#sleep_between_interactions\n",
    "driver.execute_script(\"window.scrollTo(0, document.body.scrollHeight);\")"
   ]
  },
  {
   "cell_type": "code",
   "execution_count": 40,
   "id": "7f014169",
   "metadata": {},
   "outputs": [
    {
     "name": "stdout",
     "output_type": "stream",
     "text": [
      "100\n"
     ]
    }
   ],
   "source": [
    "#Locate the images to be scraped from the current page \n",
    "imgResults = driver.find_elements(by=By.XPATH, value=\"//img[contains(@class,'Q4LuWd')]\")\n",
    "totalResults=len(imgResults)\n",
    "print(totalResults)\n",
    "# XPath is the language used for locating nodes in an XML document. \n",
    "# As HTML can be an implementation of XML (XHTML), Selenium users can leverage this powerful language \n",
    "# to target elements in their web applications. One of the main reasons for using XPath is when you don’t \n",
    "# have a suitable id or name attribute for the element you wish to locate. You can use XPath to either \n",
    "# locate the element in absolute terms (not advised), or relative to an element that does have an id or \n",
    "# name attribute. XPath locators can also be used to specify elements via attributes other than id and name."
   ]
  },
  {
   "cell_type": "markdown",
   "id": "e1195b5e",
   "metadata": {},
   "source": [
    "XPath contains the path of the element situated at the web page. Standard XPath syntax for creating XPath is.\n",
    "\n",
    "Xpath=//tagname[@attribute='value']\n",
    "\n",
    "- // : Select current node.\n",
    "- Tagname: Tagname of the particular node.\n",
    "- @: Select attribute.\n",
    "- Attribute: Attribute name of the node.\n",
    "- Value: Value of the attribute."
   ]
  },
  {
   "cell_type": "code",
   "execution_count": 42,
   "id": "6b3a3dcd",
   "metadata": {},
   "outputs": [
    {
     "name": "stdout",
     "output_type": "stream",
     "text": [
      "Message: element click intercepted: Element <img src=\"data:image/jpeg;base64,/9j/4AAQSkZJRgABAQAAAQABAAD/2wCEAAoHCBUUFRgVFhUYGRgZGhweGhocHBgZGh4aGBgcGhwaGhocIS4lHB4rHx0aJjgmKy8xNTU1GiQ7QDs0TS40NTQBDAwMEA8QHxISHzQrJSs1NjY2NjY4NTQ0NDQ1NDQ0NDQ0NDE2NDQ0NDQ0NTQ0NDQ0NDQ0MTQ0NTQ0NDQ0NDQ0NP/AABEIALcBEwMBIgACEQEDEQH/xAAcAAACAwEBAQEAAAAAAAAAAAABAgADBAUGBwj/xABMEAACAAQDBQQFCAYIAwkAAAABAgADESEEEjEFE0FRYQYicYEyQpGhsQcUUnKCktHSFRYzYpPwI0RTVKKywdOjwuMkQ3N0lLPD4fH/xAAZAQEAAwEBAAAAAAAAAAAAAAAAAQIDBAX/xAAmEQEBAAICAQQCAgMBAAAAAAAAAQIRAxIhFDFBUQQTYaEysfEi/9oADAMBAAIRAxEAPwD6xGuVoIm7HIRQ7EEgGAM/Xyg4fjDSripvAm20tAPO9E/zxjMuo8YslsSaG4i1kFNICyMTanxg7w840KgppAST6I/njFeI4QJjEGgsIaVfW8AsjXyi6boYSbYVForRiSATAVxuhMg5CM28POAkzUxdI084KKCASIrmGhoLQDYjhCSfShpN61vDTFAFRYwDvofCMkOrmusaN2OQgCugjNN1MRnNdYtlqCKm5gBh+MGfp5ws21KWgSzU0N4BZXpCNcVOoAJAijeHnALGuXoIm7HIRQ7EEgGAM/Xyg4fjDSripvAm2pS0A07SM66jxEWS2JNDcRayCmkBZGJtT4wd4ecaFQU0gJI9ERIRraCJALvz0h92Dc8YX5v1g7ylqaQAZsth74iHNrw5RCua+nCIBl61gCUC3EKJpNrXhi+a2kDc0vXSAbcDrCGaRa1obf8ASBua3rrAEIGuYDnLpx5wQ+W2tIBGbpSAitmsfdDGWBccIULlvrwg7ytqawC789IfcDrC/N+sHf8ASAUzCLCloZVzXPugbrNeusEHLbXjABu7px5wFctYwa5ulIgl5b6wDGUBe9oTfnpDb2tqawPm/WAbcg3vCM5Wwht7S1NIGTNfSAi97XhygsMtx4XgVy9axCc1tOMABMJseMPuB1hd3lvXSDv+kAu/PSH3YNzxhfm/WDvaWppABmy2HviIc2vDlEK5r6cIgGXrWAJQLcQomk2teGL5raQNzS9dIBtwOsIZpFrWht/0gbmt66wEqTEg5qWiQD75ecVMhJqNDFeQ8j7I0oQALwCI2UUMRzm04Qs0VNr2gybVrbxgAqlTU6RYZgNok01FrxSqmosYA7o8otEwC0NnHMRmZTU2MA7KWNRpDIcuvGGlmgFbQk69KX8IAu2YUEKqEGp0ESUKG9rRa5BBvATfLzindHlCZDyPsjVnHMQCK4AodRCOuY1EJOtUmw58PbFabQlgelW/qhn96gxFsnuNEvu68YZmDCg1jnztpKdEc/cHxasVrj2BqEHmxB9ymKXlwnyt1v06AlkXi3erzjmnaj/2a/fP5IpGOf6C/fP5Ij92H2dMnUMsm8OrBRQ6xz12oRqg8mqfeohW2ipNcjAdch9wYn2RacuF+Trfp0HGbThARcpqYow+Pl3qwX61U9mYCsaZhDAUNfC8Wll9lRZwRQamK90eURFIItF+ccxEgb5ecVMhJqNDFeQ8j7I0oQALwCI2UUMRzm04Qs0VNr2gybVrbxgAqlTU6RYZgNok01FrxSqmosdYA7o8otE0C0NnHMRmZTU2MBaWrpAhpYNBEgLoxzNTAzHmY0yxYQCyNPOBiOELONDblBk3rW8AkrURofQ+ELNsIoVjUX4wCxrTQeEHKOQjKzGpvAGbqYsw/GGlXAhJ1qUtANP084pl6iHkmpvyi2YLGAePNYnahM15aEKiAB3tUzGGYS0HEhKMePfUDjTXtbHNKSq3mOcstSbFyCan91QGZuimPJ4ie0sphpC7ye+YjNa2Ys86aVobvmNLXrSlO9jy5X/HH3q2M+a7L4kEg0JPBnJ9xNWHsgPiSLkgD6tf8RYfCOPjdgTQoM7Eu7O6JkSsqXV2pohWtBW5HCO5h+y2CF/m0onm67w+ZepMZent82r9/qMb7SljWeo8XlL/AMsUttjDccTK/wDUIPgRHabYuGWmXDSF8JUsfBYslbPkg2lS/uJ+ET6efaO9cOTtOQ2bJMRyqliqTs7UGpoD/NYXF7aw8pyjz8jjVSVJFbiuZbWob8xB7S4dExOGKoqky8VXKoFaShStPE+0xv7PyFJxJKqScS4JIBJAVaA9Bf2mKzgnfrv4T2utscja8l/QxCN4tLb3IwMbVnH9w9e8nxB+MdOfsPCzPTw0luploT7aVjmTuyWFB7ivKPAypjoPuVKe6Jv431UTkOs8alWA50zD2oTQeNIeTT0lNK+sppXxK6+cYW2HiU70ues4D1Zo3b05LNljKPNPOKJeL74SYrSpx0R6Kzgf2cxTlmjpXxWMsuLPDz/paZSu6202lqzOQyKpLMaKQFFSSfRNug8Y04LFJORJiElHUMtQVNCKioNxHAxUsTEeU+bK6MhIs4DAioGjHWlANPRMdLYe0g4El8qzkUejZJiCwmS+a6VW5UmnJj0cHJb4yqmeOvZ6KMczUxWs06E/gfwjYgsI6FCyNPOBiOELONDblBk3rW8AknURofQ+ELNFBaKFY1F+MAsbF0ETKOUZWY1N4AztTEi+ULCJATdLy+MVM5BoNBB355Qd3W9dYCIuYVMSZbS0AtltrxiA5ulIAIxY0OkWGWBekLky3gb6tqQCbw84uEsG9I5s/HylsCWOtFGao4kcDTpGRttu3oItOfecEeKjunowimXJjj71aY2uy7FTQaQyCuvCPOPMnvqzDzCU+0hNfNYrOFY6keYD+8BT74yv5M+Imcdeim4hF0dQerD/AFMVrjkJoZiUP7y/jHEXCvwdh9UfnLQMScuflkbN9awXzIr7B0inqf4T+tkx+OVmmYhmpLRSq0vSWKM7Co9J2oKXFEQWzGKOx6VaZPcgYiaqOU9aXIaolLQ6A5a+QrcRg2ts5nwirLZGfOjlHZQrqo/ZtVhbQ3Pq0rpFaY7FmbInthl3iI6Tcs/DBZktrgAZ+6VYBhr63OL4ZY7uVv8AxGUupHrsYoebITq7n7CZR/icRvY0sI8tL23O3u8bCMKS8igT8KdWzMSTMGtFHlGptvuf6nN8puFP/wAsad8fuI1XfS+sFloKiOAu35g0wM8/bw/+kyGO3px/qGJ8jJP/ADw74/cNVk7SsTicN/4eK/8AaWOv2bQEYj/zMz/KkcDHTJs+akxsNNlJKlzqlwGLNMQKAAhagFK1MbsJjMRh3nBcM01Jk1nVlLIe8qgqyuuoK6g8Yz74997+E6vV6YzDDqoIqY88duzuOAn/AH5P+rCIO0kwf1Gd5vhh8Zka98fuK9a9AxppGfGYJMQhlzUDKeB4EaMp1VhwIuI4j9p2OuEm/wATCf70PL7QTW9DBTGPWbhQPasw/CHfH7hq/TLsZmZHkzCXeRMeWXOrBaFHPUoy15kGGxuCzUuwIbMjqaOj6BlNDRuBsQwJDBgaA7GwkxN7MnZRMnTGdlU1VRQKqV9agGsdIiODLKTO3FvJueWfA7bVBlxWVCB+29GS31iSRKbTuscpqCrNwqftdLEzLL78gC80GoqSKCVY7wAVJaoA0BJtDvLKGoNuB1pXgRxFf5r6XOxmCzsCNWIBWtwSCQyk6qQDemgNrEDafkXSlwezw0xZihgQwOhGhHlDzLaWrHEwDGQABdbZgOgpmUdAAKcQOJpHZVs/hqCL1rHTx8kzm4plj1qIxY0OkWGWBekLky3gb6tqaxdUu9POLRLBvSF+bjnC74i1NIBitNIEHLW8SAG4PSCJgW3KLN4OcUOpJJAgGZc1x4XiKMuvHlBlHKKG0Y8dj1Sw7zAEkCtgBUljSwAp1uLGoiLZJuiY/aKoCNW5cuppXkaAAk8rGnn8finKM7migEhTQZqaBVrx51JFiGItAWWWJaYS7MbKLLVQAx6jMDckimS3oiNKYYcQL+qBRfZ63ieVgI4uXlytsbY4yeWDATldA/detyAjtf61SufrQE8Y0YjGTbZJJodWZvR8VWpPkYwba7W4TCkrMm1ceogLOOhAsv2iI4kr5T8GWoZeIUfSKIQPEK5PsBjOced862m5R6hBNY0aaik+qFYHyDZWp7Ys/RpPpzGbyT4sGPvhNmbVw+LTNKdJi+sOI5B0YVU+IjWAy6VYfRJqfsk/A+0Uit3PCdRmOyEPF/aB7wKwk/ZqKpIzE0I7zsRcEUINqX5R0kcMKg2/n2HpFeK9AxEyu/dOozytmIALMDyV5gA6ABgAPIQ/zBOTHxdz8WjXEiLllfk1GX9Hy/oe9vxgfo6X9D/E34xriQ3fs1GT9HS/on7z/jGPFbJB9FARXg4U0+1Lb4+zSOvEiZnZ8lxleUnbEcEsUlhAhzAtme1T6qKptQf6x322XIqf6JPYIuxn7N/qN/lMXtqYm8lvyiYyMX6Lk/2SfdET9GSf7NPZGyJFe2X2nUZBs+X9H/E34xXO2fLpUs4HV2Iv0ckRtmPlFfIAak8hFKoa5mu3uXov46n2ATLfs1GL5o3/AHbOo/eotfujN5GkWy5M5R+1UnhmSo86MCfbFG1tvYbC/t5yIaVC3ZiOYVQWp1pHGX5RNn1pvXHXdzKe5a+6LyZ5TxP6R4j1GdvWSo/dObxqCB7BWM+QZ1YGwDANxRmKHKwN8rUvWmg40MDZu1JGIXNJmo4GuUgkfWXVfMCNLyw3jSlRrTl1HQ1HSKeyVkt62IoRqPgRzB4H8CI2bOnZTkOjej0OpX4kefSOPnKsEatQCUcKzW4qwFTTT3XrQxZnWavdylkYZlPBqaMKVHdaotxBi+GVwy3Fcp2mnpWbNYQolEXtaON2YxomJMsVMuYyMhFMjLSgF7qwKsCKAh9BHeLgjWPRxu5thS78dYQyib2vC7tuUXq45xIroREgtfSJAUUh5+IEtASCeAA1J1+AJ8o1x5LbeIPzyXKoKNKmPX1gUZFAHIFXcGnErAd6XNzqjUpmUGmtK8Kx5idPbO6aO70HMKjtfwz1an0Q3KFmukqQs1S6upJAylQaBiKHLetAdb1pesbtwCwc3cA3vqa1NPM/ePOOfny1JF8cdjIlZR1oB5CwUdB+J4mPnXbrtswZsNhWpSqzJqm4OhSWRoRoWF62GlY7HyhdpDh5W5ltSdMGoN0Q2LW0Zj3V+0eEfIkTQAVJ0AFT5AanpFOHi3/6yWyy14hcg4xCg/moj0+H2VKluZDSnxWKA78lWZJcs27sx07zuLZsrKq1IqaRpx2AaWmfE7LCJoXw8yZmQH1u88xDT95R4x1snl9n4ybhpizZLlHXQjiOKsNGU8QY+3dle0KY2TnACutFmJ9FqWI5q2oPQjUGPjm19l7nK6tnkzK5HplPdpmR1qcrrUVFSCCCCQY29iNrHDYtDXuTCEccKOaK32Woa8g3OMebjmWO/lfHLVfbHOQ5xp6w6fS8QPaOdBBxJ7piyMkw5VZeC3H1TWg8qEeAEcDZtrErFYaJWI0lZmiViusSsNCysSsJWBWGguLPcf6jf5TF7G5jJiz3H+o3+UxoZrmGkGrErCViuc5CmliaAHkWIUHyJENJRDmJbgKhfDifM+4DmY8T297ZNhycPhz/AEpHfmWOQEVCrW2ci99ARzt6za+OXDYd5tLS0JVeZFkXzbKPOPgM2azszuSzuxZidSzGpPtNf/yOjg45ld32jPPLXhW4LEs7EsxqWJJJJ4km5PWJkH81/GO5gtnSkRJuJLkzf2MhLPMANM7MQd3LLAqDQs5rSgFY7P6KmhWJ2QmQXUCbiN6fE77MD0ynwjuYvHYWc8lxMlOyOujKaHw6jmDUHjH2LsR2sGNQpMAXEIKsBYOumdBwvSo4VHA2+aY3Zst5ZxGHzhVNJsp6GZKJbKDmUAPLLd3NQEEqCL1jnbPxr4eak5LOjZhy5FT0IJB6Exnycczn8rY5ar9BzUJuPSFx15r5j30PCPLbaJTGSZiU/pFTUEd6U4DAnVSVdVNj6JtHpdn4xJ8tJqei6hhzoRoeo0PURVi9mpMZGcVCMWy2oSVK/wCoNNKqDzr5+p7V1ceUxu7Nzz/auSGl4tJyKSk8CViFtVXQFpUw9RdDzDpStBHoZuLRVZsykqCaZgK5RWnSPPuCDlapIViG1zBVNAwPpEMQRrpfWrbJkuSZZzKwelNZlK/TAB0GtOhHU9vBb11XNn7u5gMYJqkgUINCNb0BseIvAbU+Mea2U4SfkWwNqc1CGlDxAyr4V/ej2C6CN1CyPRESKJ2piQAznmY4u09lzZmJlzVUFBhp0tjUA5pkySwA41orGuluFY9DuR1itphFhwgOHjMJM3RLFFbKbUre4HrUqbe2LJGDaapCkotKBwFLXFAUDAi2tWBBpoa1js5A47wr04c4Ld3TjFMsJlZb8JmVns/PPbzYE7B4lhMZ5izCWSa1y4pox0DLYEaUAIABAGLsqKYkPQEypc2aoN6vJkPMT2OFb7MfaflFwDYnATkUVZAJigCpO7OZgBzKhgPGPhOx8fuJyTsucKe8v0kZSjp9pGZa9Yuh9G7EysmC3xFZkwsXOp7jlACeQoW+0THo1LKwVmVwy5rDTgQRxWPD7J2qNngK2edg5rkyZ6itCxHdaujDRkNCCrG9b9Kd2ywqVXDo02adJaoVq3ANWhN+Cg+WsEvO7RwaSxtHDqe4jSZyA6IxmJLovik1l+yOUeSpWg/nlHodsTWkypkuYQcTiHV8SBfIqFnSUx0zl2zso9EIo5gJ2Q7MzNoTmlI4QImdphUsBcBVoCLk6fVblBD7Rs3FCbKlzAah0Vq+Kgn31jJt3GpIRXc0uVHEnMCaAVFbqp1FgY5OD7BY/DqEl7SCKCSFEnMATc0zMaXv5mFx/YHG4jKJ20g4WuX+gRaZqV9FhXQaxyemvb38Nf2eDy+12GVQP6SwA9FeAp9KG/XLDcpn3V/PGIfJJN44/wD4P/UhB8lT8cef4P8A1I09Pir3rofrlhuUz7qfngfrnhuUz7qfnjMvySEivz5v4I/PFeJ+SdgKLjmzcM0vu+56w9Pid62/rnhuUz7qfngfrphvozfup+ePI475ONppXIJc4fuTMppzImZQPImMJ7B7XH9Vb+NI/wByHp8TvXucR2ywzIyhZlSpA7qcQR9OHbtthvozfup+ePA/qNtf+7H+NI/3Yb9Qdsf3U/xpH+7D9GJ3r3f664b6M37qfnjRgO08jETUlIHBZj6QUA5UZqWY3qB7I+c/qJtf+7f8aR/ux6fZfyV4lkSY+KEqZQEoFZijcg6zKEjmIX8fHXg71t+VLEFcIqD15ig+CKz/AOZVj5NKl5mVa0qaV5VNK++Pre0fkzxE3LvcfnyghS6OxAOur+/oOUfKdoYRpMx5Tgh0dkbUaEio6HUHlSL8WHXHSMst3b6N2fkh8fjHZAPm77qSNciIWlKV5USXT7R5x6MTGyh8y0L5cnrC9K669OUeFwe1mV22hLVpiuqjGSl9JHFA00KLhHIzhrgEsppHbbtngAA9XzsKhclHNeFSctftRohVtnBou0sMdPnaNJmqNHVxkYt5EHxQGPmKXAPMA+0Cse2x+0nztjp6iW2Rkwcsmr0ZWQziOCKGdgxHeYqBYW8rsrZ7YidLkJXNMdVFOC8W+yoLfZMEO72Y7UT8H3VAmSiatLYkUJFyjU7pJ1sQb2rePr+z8XvpSTVRwrS0mXykhXXMKhWJrSOZ2q7I4KXgcTNl4dEdJLsjAsCCqEg+lrHr8FJWVLQIqqMiigAAoFFAAIyy4ccrurTKxxJsxGqjGmhuCpBuQRmHQ+wxmlI7lgJgNCKFUdwQa3qhNNBbXXoT35OzZWYnLWoAoSWUZa0opJA1IjS2zpWu7S37q/hDDi6XxfBlltxNnYRZbB3ZqILKEmECiFasxUVsx4DhHdZyCbxR83l/2Uv7qxsEoG/ONVSreJDUAtEgBv8ApA3Wa9dYXctFiuAKHhALmy214xK5ulIDrmNRBQZdeMBMmW+sfD/lA7EPhnfEYdC2GYlmVbmUTc2Hqcj6uhpQE/cmYMKDWEEoi8B+YdnbVnSKmTNZMw7wFCrD99GBV/tAxsbtNiqELMEsEUYy0kyWNdavKRW98fbdrdhdnYhizSArEklpZaXUnUlV7rHqQTHOk/JVgAalZrjk0wgf4Ap98B8W2Xs2dipglSELu3AaKDqzHRV6n/6j9AdjezSbOkbsEPMY5pj6ZmpoK+qNB5nUmOrsrZsjCpu5MpJYrUhABU82OrGnE1Ma3GbThATNmtpxibrLeukRFy3MMzgig1MAN/0gbjr7oXctFu+WATe5bU0iZc19OEBkJNRoYZGyihgBTL1rEz5raQX72nCFVSpqdIA7ml66Qd/0ht6DaKty0A25reusTPl7usOJoForZSxqNIA0zdKR87+UrsK2I/7VhwDOAAdNN4qixH74Ap1AA4Cv0VO7rxiO2awgPy1h58yQ+ZGeXMQ0sWR1PFbUI6g+Yjp/rPiq1zoG+mJOGEz74l5vPWPvO2Oy+FxV8RIRzSmcVR6DhnUhqdK0jgj5MNmVrkm05bx6e3X3wHxF3mT5lSXmzHPNnd297MenSPs/ycdhzhV+cYim/daKmolodRUWLm1SNBYakn0+x+zOGwg/oJCIaULXZyORdqsR0rHYWYAKHhAc3b+AM/DT8OGCmbLZAx0BdStSI2ykqqr9EAV52pDOuY1EFO7rxgJky3rWDva2prBZgwoNYrEoi/KAbcdfdE31LU0h98sVmUTeAbLW9IEFRTWJAWZxzHtih1JJoDFca5WggElGgvbxgTr0pfwvCz9fKDh+MAJQINTaLWYUNxEneif54xmXUeMAch5H2RoVhQXEWRibU+MBZNBJqBWGk2rW3jaHk+iP54xXiOEA001Fr+EVopBFQYMjXyi6boYCZxzHtjNkPI+yFjdAVowAFTFU0VNr24QkzUxdI084BZNq1t42hpjAigvAxHCEk+lABVNRYxozjmPbEfQ+EZIBypqbGLZbAChtFi6CM07UwDzr0pfwvAk2N7W42hsPxg4jTzgGdgQaGM2Q8j7IMr0hGyATOOY9sZ3UkmgMJGuXoIBJRoL28YE69KX8Lws/Xyg4fjACUKGptFrMKG4gTtIzrqPEQByHkfZGkOKaiHjE2p8YC5iOcSHkeiIkA2UcozTDcxN63P4RcqAipFzACTcecCfakLMahoLQZfe1vALJN4vbQwjqFFRrFazCbV+EAmY841JoIG6Xl8YpMwi1fhAScbw8i9YKKGFTrCzO7paAadYecVSzcQ0tqmhvFjIAKgXEA9BGTMecPvTz+EXbpeXxgDLFhFM6x8oDOQaA2EPLGYVN4ASL1h5wtCzBTS0KjFjQ6QCKbjxjVlHKEMsC9Ip3rc/hABjc+MXyRaCJYN6RU7lTQaQBn2pAk3PlDSxXW8SYMoqLQDzBYxmzHnDq5JoTYxdul5fGAbKOUZphuYm9bn8IuVARUi5gBJuPOBPtSFmNQ0FoMvva3pALJN4vbQwjqFFRrFazCTSvwgEzHnGpRYQN0vL4xSZhFq/CAaZrEiLfWJANuRzMKZuW1NIkSAIGa+nCA3c0vWJEgCHzWibkC9dIkSAX5weUMJIN66xIkAC+WwiL39bUiRIAlctx4QBMzW5xIkA25HMwnzg8okSAbdg35wGbLYRIkBFOfpSDky3iRIBd9W1NYfcjmYkSAQzqWppDZM14kSADHJ1rEDZ7acYkSAO7AvyhfnB5RIkA+5HMwpm5bU0iRIAhc1z4QG7ml6xIkBA+axg7kC9dIkSAX5weUNuQb11iRICZqWiRIkB//9k=\" data-deferred=\"1\" class=\"rg_i Q4LuWd\" jsname=\"Q4LuWd\" width=\"275\" height=\"184\" alt=\"Car Cartoon Images | Free Photos, PNG Stickers, Wallpapers &amp; Backgrounds -  rawpixel\" data-iml=\"1194.2999999970198\" data-atf=\"true\"> is not clickable at point (230, 92). Other element would receive the click: <a href=\"/search?q=car&amp;tbm=isch&amp;hl=en&amp;chips=q:car,g_1:wallpaper:VWfd0ZMY5f0%3D&amp;bih=568&amp;biw=1251&amp;sa=X&amp;ved=2ahUKEwjMg5e4vIH9AhUPLLcAHbCZBbAQ4lYoAXoECAEQJA\" data-navigation=\"server\" jslog=\"11106\" aria-label=\"wallpaper\" class=\"ZZ7G7b A6Smgb\">...</a>\n",
      "  (Session info: chrome=108.0.5359.124)\n",
      "Stacktrace:\n",
      "#0 0x55d43cbfd2a3 <unknown>\n",
      "#1 0x55d43c9bbf77 <unknown>\n",
      "#2 0x55d43c9ff0a9 <unknown>\n",
      "#3 0x55d43c9fd18d <unknown>\n",
      "#4 0x55d43c9fad88 <unknown>\n",
      "#5 0x55d43c9f9f2d <unknown>\n",
      "#6 0x55d43c9eddc5 <unknown>\n",
      "#7 0x55d43ca18b32 <unknown>\n",
      "#8 0x55d43c9ed61f <unknown>\n",
      "#9 0x55d43ca18cfe <unknown>\n",
      "#10 0x55d43ca3047c <unknown>\n",
      "#11 0x55d43ca18903 <unknown>\n",
      "#12 0x55d43c9ebece <unknown>\n",
      "#13 0x55d43c9ecfde <unknown>\n",
      "#14 0x55d43cc4d63e <unknown>\n",
      "#15 0x55d43cc50b79 <unknown>\n",
      "#16 0x55d43cc3389e <unknown>\n",
      "#17 0x55d43cc51a83 <unknown>\n",
      "#18 0x55d43cc26505 <unknown>\n",
      "#19 0x55d43cc72ca8 <unknown>\n",
      "#20 0x55d43cc72e36 <unknown>\n",
      "#21 0x55d43cc8e333 <unknown>\n",
      "#22 0x7ff8d0b13609 start_thread\n",
      "\n"
     ]
    }
   ],
   "source": [
    "#Click on each Image to extract its corresponding link to download\n",
    "\n",
    "img_urls = set()\n",
    "for i in  range(0,10):\n",
    "    img=imgResults[i]\n",
    "    try:\n",
    "        img.click()\n",
    "        time.sleep(2)\n",
    "        actual_images = driver.find_elements(by=By.CSS_SELECTOR, value='img.n3VNCb')\n",
    "        for actual_image in actual_images:\n",
    "            if actual_image.get_attribute('src') and 'https' in actual_image.get_attribute('src'):\n",
    "                img_urls.add(actual_image.get_attribute('src'))\n",
    "    except ElementClickInterceptedException or ElementNotInteractableException as err:\n",
    "        print(err)"
   ]
  },
  {
   "cell_type": "code",
   "execution_count": 45,
   "id": "eb3eb533",
   "metadata": {},
   "outputs": [],
   "source": [
    "baseDir=os.getcwd()\n",
    "baseDir = baseDir+\"/images\""
   ]
  },
  {
   "cell_type": "code",
   "execution_count": 47,
   "id": "773ec019",
   "metadata": {},
   "outputs": [
    {
     "name": "stdout",
     "output_type": "stream",
     "text": [
      "SAVED - https://freesvg.org/img/coupe2.png - AT: /home/bhaskar/Documents/WORK/Sabudh/sabudh sessions repo/web scrapping/images/0.jpg\n",
      "SAVED - https://c0.wallpaperflare.com/preview/494/368/967/car-concept-vehicle-auto.jpg - AT: /home/bhaskar/Documents/WORK/Sabudh/sabudh sessions repo/web scrapping/images/1.jpg\n",
      "SAVED - https://upload.wikimedia.org/wikipedia/commons/thumb/f/f0/Car_with_Driver-Silhouette.svg/1221px-Car_with_Driver-Silhouette.svg.png - AT: /home/bhaskar/Documents/WORK/Sabudh/sabudh sessions repo/web scrapping/images/2.jpg\n",
      "SAVED - https://live.staticflickr.com/4895/46847145421_996d71da17_b.jpg - AT: /home/bhaskar/Documents/WORK/Sabudh/sabudh sessions repo/web scrapping/images/3.jpg\n",
      "SAVED - https://upload.wikimedia.org/wikipedia/commons/b/b5/Mansory_Kitted_Cars_at_Geneva_2014_%28Ank_Kumar%29_01.jpg - AT: /home/bhaskar/Documents/WORK/Sabudh/sabudh sessions repo/web scrapping/images/4.jpg\n",
      "SAVED - https://c0.wallpaperflare.com/preview/764/426/400/car-dealership-car-car-showroom-car-sales.jpg - AT: /home/bhaskar/Documents/WORK/Sabudh/sabudh sessions repo/web scrapping/images/5.jpg\n",
      "SAVED - https://shmector.com/_ph/11/625998784.png - AT: /home/bhaskar/Documents/WORK/Sabudh/sabudh sessions repo/web scrapping/images/6.jpg\n",
      "SAVED - https://c0.wallpaperflare.com/preview/493/136/944/car-street-bugatti-luxury.jpg - AT: /home/bhaskar/Documents/WORK/Sabudh/sabudh sessions repo/web scrapping/images/7.jpg\n",
      "SAVED - https://upload.wikimedia.org/wikipedia/commons/thumb/6/61/Cars_movie%27s_car.jpg/1024px-Cars_movie%27s_car.jpg - AT: /home/bhaskar/Documents/WORK/Sabudh/sabudh sessions repo/web scrapping/images/8.jpg\n"
     ]
    }
   ],
   "source": [
    "for i, url in enumerate(img_urls):\n",
    "    file_name = \"{}.jpg\".format(i)    \n",
    "    try:\n",
    "        image_content = requests.get(url).content\n",
    "\n",
    "    except Exception as e:\n",
    "        print(f\"ERROR - COULD NOT DOWNLOAD {url} - {e}\")\n",
    "\n",
    "    try:\n",
    "        image_file = io.BytesIO(image_content)\n",
    "        image = Image.open(image_file).convert('RGB')\n",
    "        \n",
    "        file_path = os.path.join(baseDir, file_name)\n",
    "        \n",
    "        with open(file_path, 'wb') as f:\n",
    "            image.save(f, \"JPEG\", quality=85)\n",
    "        print(f\"SAVED - {url} - AT: {file_path}\")\n",
    "    except Exception as e:\n",
    "        print(f\"ERROR - COULD NOT SAVE {url} - {e}\")"
   ]
  },
  {
   "cell_type": "code",
   "execution_count": null,
   "id": "3695a135",
   "metadata": {},
   "outputs": [],
   "source": []
  }
 ],
 "metadata": {
  "kernelspec": {
   "display_name": "Python 3 (ipykernel)",
   "language": "python",
   "name": "python3"
  },
  "language_info": {
   "codemirror_mode": {
    "name": "ipython",
    "version": 3
   },
   "file_extension": ".py",
   "mimetype": "text/x-python",
   "name": "python",
   "nbconvert_exporter": "python",
   "pygments_lexer": "ipython3",
   "version": "3.9.12"
  }
 },
 "nbformat": 4,
 "nbformat_minor": 5
}
