{
 "cells": [
  {
   "cell_type": "code",
   "execution_count": 1,
   "id": "instrumental-audit",
   "metadata": {
    "_cell_guid": "b1076dfc-b9ad-4769-8c92-a6c4dae69d19",
    "_uuid": "8f2839f25d086af736a60e9eeb907d3b93b6e0e5",
    "execution": {
     "iopub.execute_input": "2021-05-05T07:26:57.549171Z",
     "iopub.status.busy": "2021-05-05T07:26:57.548434Z",
     "iopub.status.idle": "2021-05-05T07:26:58.955332Z",
     "shell.execute_reply": "2021-05-05T07:26:58.954650Z"
    },
    "papermill": {
     "duration": 1.438089,
     "end_time": "2021-05-05T07:26:58.955590",
     "exception": false,
     "start_time": "2021-05-05T07:26:57.517501",
     "status": "completed"
    },
    "tags": []
   },
   "outputs": [],
   "source": [
    "# Csv and Array manuplation libraries\n",
    "import numpy as np\n",
    "import pandas as pd\n",
    "\n",
    "# Visual Libraries\n",
    "import matplotlib.pyplot as plt\n",
    "import matplotlib.patches as mpatches\n",
    "import seaborn as sns \n",
    "sns.set_theme()\n",
    "\n",
    "# Sklearn \n",
    "from sklearn.preprocessing import LabelEncoder, OrdinalEncoder, OneHotEncoder\n",
    "from sklearn.linear_model import LinearRegression\n",
    "from sklearn.model_selection import train_test_split, GridSearchCV, RandomizedSearchCV\n",
    "from sklearn.metrics import mean_squared_error, r2_score\n",
    "import sklearn.model_selection as ms\n",
    "import sklearn.linear_model as lm\n",
    "import sklearn.neighbors as ng\n",
    "import sklearn.svm as svm\n",
    "import sklearn.tree as tree\n",
    "import sklearn.ensemble as en"
   ]
  },
  {
   "cell_type": "markdown",
   "id": "muslim-bracelet",
   "metadata": {
    "papermill": {
     "duration": 0.013454,
     "end_time": "2021-05-05T07:26:58.983439",
     "exception": false,
     "start_time": "2021-05-05T07:26:58.969985",
     "status": "completed"
    },
    "tags": []
   },
   "source": [
    "# Data loading and parsing"
   ]
  },
  {
   "cell_type": "code",
   "execution_count": 2,
   "id": "institutional-amazon",
   "metadata": {
    "execution": {
     "iopub.execute_input": "2021-05-05T07:26:59.016820Z",
     "iopub.status.busy": "2021-05-05T07:26:59.016177Z",
     "iopub.status.idle": "2021-05-05T07:26:59.080909Z",
     "shell.execute_reply": "2021-05-05T07:26:59.081472Z"
    },
    "papermill": {
     "duration": 0.084513,
     "end_time": "2021-05-05T07:26:59.081665",
     "exception": false,
     "start_time": "2021-05-05T07:26:58.997152",
     "status": "completed"
    },
    "tags": []
   },
   "outputs": [
    {
     "name": "stdout",
     "output_type": "stream",
     "text": [
      "(461, 17)\n"
     ]
    },
    {
     "data": {
      "text/html": [
       "<div>\n",
       "<style scoped>\n",
       "    .dataframe tbody tr th:only-of-type {\n",
       "        vertical-align: middle;\n",
       "    }\n",
       "\n",
       "    .dataframe tbody tr th {\n",
       "        vertical-align: top;\n",
       "    }\n",
       "\n",
       "    .dataframe thead th {\n",
       "        text-align: right;\n",
       "    }\n",
       "</style>\n",
       "<table border=\"1\" class=\"dataframe\">\n",
       "  <thead>\n",
       "    <tr style=\"text-align: right;\">\n",
       "      <th></th>\n",
       "      <th>name</th>\n",
       "      <th>club</th>\n",
       "      <th>age</th>\n",
       "      <th>position</th>\n",
       "      <th>position_cat</th>\n",
       "      <th>market_value</th>\n",
       "      <th>page_views</th>\n",
       "      <th>fpl_value</th>\n",
       "      <th>fpl_sel</th>\n",
       "      <th>fpl_points</th>\n",
       "      <th>region</th>\n",
       "      <th>nationality</th>\n",
       "      <th>new_foreign</th>\n",
       "      <th>age_cat</th>\n",
       "      <th>club_id</th>\n",
       "      <th>big_club</th>\n",
       "      <th>new_signing</th>\n",
       "    </tr>\n",
       "  </thead>\n",
       "  <tbody>\n",
       "    <tr>\n",
       "      <th>0</th>\n",
       "      <td>Alexis Sanchez</td>\n",
       "      <td>Arsenal</td>\n",
       "      <td>28</td>\n",
       "      <td>LW</td>\n",
       "      <td>1</td>\n",
       "      <td>65.0</td>\n",
       "      <td>4329</td>\n",
       "      <td>12.0</td>\n",
       "      <td>17.10%</td>\n",
       "      <td>264</td>\n",
       "      <td>3.0</td>\n",
       "      <td>Chile</td>\n",
       "      <td>0</td>\n",
       "      <td>4</td>\n",
       "      <td>1</td>\n",
       "      <td>1</td>\n",
       "      <td>0</td>\n",
       "    </tr>\n",
       "    <tr>\n",
       "      <th>1</th>\n",
       "      <td>Mesut Ozil</td>\n",
       "      <td>Arsenal</td>\n",
       "      <td>28</td>\n",
       "      <td>AM</td>\n",
       "      <td>1</td>\n",
       "      <td>50.0</td>\n",
       "      <td>4395</td>\n",
       "      <td>9.5</td>\n",
       "      <td>5.60%</td>\n",
       "      <td>167</td>\n",
       "      <td>2.0</td>\n",
       "      <td>Germany</td>\n",
       "      <td>0</td>\n",
       "      <td>4</td>\n",
       "      <td>1</td>\n",
       "      <td>1</td>\n",
       "      <td>0</td>\n",
       "    </tr>\n",
       "    <tr>\n",
       "      <th>2</th>\n",
       "      <td>Petr Cech</td>\n",
       "      <td>Arsenal</td>\n",
       "      <td>35</td>\n",
       "      <td>GK</td>\n",
       "      <td>4</td>\n",
       "      <td>7.0</td>\n",
       "      <td>1529</td>\n",
       "      <td>5.5</td>\n",
       "      <td>5.90%</td>\n",
       "      <td>134</td>\n",
       "      <td>2.0</td>\n",
       "      <td>Czech Republic</td>\n",
       "      <td>0</td>\n",
       "      <td>6</td>\n",
       "      <td>1</td>\n",
       "      <td>1</td>\n",
       "      <td>0</td>\n",
       "    </tr>\n",
       "    <tr>\n",
       "      <th>3</th>\n",
       "      <td>Theo Walcott</td>\n",
       "      <td>Arsenal</td>\n",
       "      <td>28</td>\n",
       "      <td>RW</td>\n",
       "      <td>1</td>\n",
       "      <td>20.0</td>\n",
       "      <td>2393</td>\n",
       "      <td>7.5</td>\n",
       "      <td>1.50%</td>\n",
       "      <td>122</td>\n",
       "      <td>1.0</td>\n",
       "      <td>England</td>\n",
       "      <td>0</td>\n",
       "      <td>4</td>\n",
       "      <td>1</td>\n",
       "      <td>1</td>\n",
       "      <td>0</td>\n",
       "    </tr>\n",
       "    <tr>\n",
       "      <th>4</th>\n",
       "      <td>Laurent Koscielny</td>\n",
       "      <td>Arsenal</td>\n",
       "      <td>31</td>\n",
       "      <td>CB</td>\n",
       "      <td>3</td>\n",
       "      <td>22.0</td>\n",
       "      <td>912</td>\n",
       "      <td>6.0</td>\n",
       "      <td>0.70%</td>\n",
       "      <td>121</td>\n",
       "      <td>2.0</td>\n",
       "      <td>France</td>\n",
       "      <td>0</td>\n",
       "      <td>4</td>\n",
       "      <td>1</td>\n",
       "      <td>1</td>\n",
       "      <td>0</td>\n",
       "    </tr>\n",
       "  </tbody>\n",
       "</table>\n",
       "</div>"
      ],
      "text/plain": [
       "                name     club  age position  position_cat  market_value  \\\n",
       "0     Alexis Sanchez  Arsenal   28       LW             1          65.0   \n",
       "1         Mesut Ozil  Arsenal   28       AM             1          50.0   \n",
       "2          Petr Cech  Arsenal   35       GK             4           7.0   \n",
       "3       Theo Walcott  Arsenal   28       RW             1          20.0   \n",
       "4  Laurent Koscielny  Arsenal   31       CB             3          22.0   \n",
       "\n",
       "   page_views  fpl_value fpl_sel  fpl_points  region     nationality  \\\n",
       "0        4329       12.0  17.10%         264     3.0           Chile   \n",
       "1        4395        9.5   5.60%         167     2.0         Germany   \n",
       "2        1529        5.5   5.90%         134     2.0  Czech Republic   \n",
       "3        2393        7.5   1.50%         122     1.0         England   \n",
       "4         912        6.0   0.70%         121     2.0          France   \n",
       "\n",
       "   new_foreign  age_cat  club_id  big_club  new_signing  \n",
       "0            0        4        1         1            0  \n",
       "1            0        4        1         1            0  \n",
       "2            0        6        1         1            0  \n",
       "3            0        4        1         1            0  \n",
       "4            0        4        1         1            0  "
      ]
     },
     "execution_count": 2,
     "metadata": {},
     "output_type": "execute_result"
    }
   ],
   "source": [
    "# Load the data\n",
    "data = pd.read_csv(\"../input/epl-football-dataset/football.csv\")\n",
    "\n",
    "# Handle the single missing value in the data with most probable value \n",
    "data[\"region\"] = data[\"region\"].fillna(data[\"region\"].value_counts().index[0])\n",
    "\n",
    "# Printer\n",
    "print(data.shape)\n",
    "data.head()"
   ]
  },
  {
   "cell_type": "markdown",
   "id": "incoming-blogger",
   "metadata": {
    "papermill": {
     "duration": 0.014744,
     "end_time": "2021-05-05T07:26:59.112342",
     "exception": false,
     "start_time": "2021-05-05T07:26:59.097598",
     "status": "completed"
    },
    "tags": []
   },
   "source": [
    "# Data Preprocessing"
   ]
  },
  {
   "cell_type": "code",
   "execution_count": 3,
   "id": "chemical-sellers",
   "metadata": {
    "execution": {
     "iopub.execute_input": "2021-05-05T07:26:59.150257Z",
     "iopub.status.busy": "2021-05-05T07:26:59.149261Z",
     "iopub.status.idle": "2021-05-05T07:26:59.154269Z",
     "shell.execute_reply": "2021-05-05T07:26:59.153437Z"
    },
    "papermill": {
     "duration": 0.027278,
     "end_time": "2021-05-05T07:26:59.154661",
     "exception": false,
     "start_time": "2021-05-05T07:26:59.127383",
     "status": "completed"
    },
    "tags": []
   },
   "outputs": [],
   "source": [
    "# Necessary Cols \n",
    "drop_cols = [\"name\", \"club_id\", \"market_value\", \"nationality\"]\n",
    "target_col = \"market_value\"\n",
    "\n",
    "# Drop the unnecessary cols\n",
    "target = data[target_col]\n",
    "data = data.drop(drop_cols, axis=1)"
   ]
  },
  {
   "cell_type": "code",
   "execution_count": 4,
   "id": "apart-blast",
   "metadata": {
    "execution": {
     "iopub.execute_input": "2021-05-05T07:26:59.212724Z",
     "iopub.status.busy": "2021-05-05T07:26:59.206729Z",
     "iopub.status.idle": "2021-05-05T07:26:59.219967Z",
     "shell.execute_reply": "2021-05-05T07:26:59.219174Z"
    },
    "papermill": {
     "duration": 0.045259,
     "end_time": "2021-05-05T07:26:59.220190",
     "exception": false,
     "start_time": "2021-05-05T07:26:59.174931",
     "status": "completed"
    },
    "tags": []
   },
   "outputs": [],
   "source": [
    "def extract_percent(val):\n",
    "    return float(val[:-1])\n",
    "\n",
    "\n",
    "def pre_process_original(data):\n",
    "    \"\"\"\n",
    "    Preprocesss the data given the columns and the data\n",
    "    \"\"\"\n",
    "    for col in data.columns:\n",
    "        if col in [\"age\", \"page_views\", \"fpl_val\", \"fpl_points\"]:\n",
    "            # Perform standardization\n",
    "            mean = np.mean(data[col])\n",
    "            std  = np.std(data[col])\n",
    "            data[col] = (data[col] - mean) / std\n",
    "            print(mean, std, col)\n",
    "            \n",
    "        if col in [\"club\", \"position\", \"position_cat\", \"region\", \"age_cat\"]:\n",
    "            # Get the dummies and concat them\n",
    "            dummies = pd.get_dummies(data[col], prefix=col)\n",
    "            data = pd.concat((data, dummies), axis=1)\n",
    "\n",
    "            # Drop the data \n",
    "            data = data.drop(col, axis=1)\n",
    "            \n",
    "        if col == \"fpl_sel\":\n",
    "            # Extract the feature\n",
    "            data[col] = data[col].apply(extract_percent)\n",
    "            mean = np.mean(data[col])\n",
    "            std  = np.std(data[col])\n",
    "            data[col] = (data[col] - mean) / std\n",
    "            print(mean, std, col)\n",
    "         \n",
    "    return data\n",
    "\n",
    "def pre_process_tree(data):\n",
    "    \"\"\"\n",
    "    Preprocesss the data given the columns and the data\n",
    "    \"\"\"\n",
    "    for col in data.columns:\n",
    "        if col in [\"age\", \"page_views\", \"fpl_val\", \"fpl_points\"]:\n",
    "            # Perform standardization\n",
    "            mean = np.mean(data[col])\n",
    "            std  = np.std(data[col])\n",
    "            data[col] = (data[col] - mean) / std\n",
    "            print(mean, std, col)\n",
    "            \n",
    "        if col == \"fpl_sel\":\n",
    "            # Extract the feature\n",
    "            data[col] = data[col].apply(extract_percent)\n",
    "            mean = np.mean(data[col])\n",
    "            std  = np.std(data[col])\n",
    "            data[col] = (data[col] - mean) / std\n",
    "            print(mean, std, col)\n",
    "        \n",
    "        # Ordinal Encoded columns\n",
    "        ord_cols = [\"club\", \"position\", \"position_cat\", \"region\", \"age_cat\"]\n",
    "        encoder = OrdinalEncoder()\n",
    "        data[ord_cols] = encoder.fit_transform(data[ord_cols])\n",
    "         \n",
    "    return data"
   ]
  },
  {
   "cell_type": "code",
   "execution_count": 5,
   "id": "broad-playing",
   "metadata": {
    "execution": {
     "iopub.execute_input": "2021-05-05T07:26:59.277812Z",
     "iopub.status.busy": "2021-05-05T07:26:59.275898Z",
     "iopub.status.idle": "2021-05-05T07:26:59.337568Z",
     "shell.execute_reply": "2021-05-05T07:26:59.338230Z"
    },
    "papermill": {
     "duration": 0.097565,
     "end_time": "2021-05-05T07:26:59.338432",
     "exception": false,
     "start_time": "2021-05-05T07:26:59.240867",
     "status": "completed"
    },
    "tags": []
   },
   "outputs": [
    {
     "name": "stdout",
     "output_type": "stream",
     "text": [
      "26.80477223427332 3.957592308299133 age\n",
      "763.7765726681127 930.7945734332158 page_views\n",
      "3.2442516268980475 5.6694977276052985 fpl_sel\n",
      "57.31453362255965 53.05617275805522 fpl_points\n",
      "(461, 55)\n"
     ]
    },
    {
     "data": {
      "text/html": [
       "<div>\n",
       "<style scoped>\n",
       "    .dataframe tbody tr th:only-of-type {\n",
       "        vertical-align: middle;\n",
       "    }\n",
       "\n",
       "    .dataframe tbody tr th {\n",
       "        vertical-align: top;\n",
       "    }\n",
       "\n",
       "    .dataframe thead th {\n",
       "        text-align: right;\n",
       "    }\n",
       "</style>\n",
       "<table border=\"1\" class=\"dataframe\">\n",
       "  <thead>\n",
       "    <tr style=\"text-align: right;\">\n",
       "      <th></th>\n",
       "      <th>age</th>\n",
       "      <th>page_views</th>\n",
       "      <th>fpl_value</th>\n",
       "      <th>fpl_sel</th>\n",
       "      <th>fpl_points</th>\n",
       "      <th>new_foreign</th>\n",
       "      <th>big_club</th>\n",
       "      <th>new_signing</th>\n",
       "      <th>club_Arsenal</th>\n",
       "      <th>club_Bournemouth</th>\n",
       "      <th>...</th>\n",
       "      <th>region_1.0</th>\n",
       "      <th>region_2.0</th>\n",
       "      <th>region_3.0</th>\n",
       "      <th>region_4.0</th>\n",
       "      <th>age_cat_1</th>\n",
       "      <th>age_cat_2</th>\n",
       "      <th>age_cat_3</th>\n",
       "      <th>age_cat_4</th>\n",
       "      <th>age_cat_5</th>\n",
       "      <th>age_cat_6</th>\n",
       "    </tr>\n",
       "  </thead>\n",
       "  <tbody>\n",
       "    <tr>\n",
       "      <th>0</th>\n",
       "      <td>0.302009</td>\n",
       "      <td>3.830301</td>\n",
       "      <td>12.0</td>\n",
       "      <td>2.443911</td>\n",
       "      <td>3.895597</td>\n",
       "      <td>0</td>\n",
       "      <td>1</td>\n",
       "      <td>0</td>\n",
       "      <td>1</td>\n",
       "      <td>0</td>\n",
       "      <td>...</td>\n",
       "      <td>0</td>\n",
       "      <td>0</td>\n",
       "      <td>1</td>\n",
       "      <td>0</td>\n",
       "      <td>0</td>\n",
       "      <td>0</td>\n",
       "      <td>0</td>\n",
       "      <td>1</td>\n",
       "      <td>0</td>\n",
       "      <td>0</td>\n",
       "    </tr>\n",
       "    <tr>\n",
       "      <th>1</th>\n",
       "      <td>0.302009</td>\n",
       "      <td>3.901208</td>\n",
       "      <td>9.5</td>\n",
       "      <td>0.415513</td>\n",
       "      <td>2.067346</td>\n",
       "      <td>0</td>\n",
       "      <td>1</td>\n",
       "      <td>0</td>\n",
       "      <td>1</td>\n",
       "      <td>0</td>\n",
       "      <td>...</td>\n",
       "      <td>0</td>\n",
       "      <td>1</td>\n",
       "      <td>0</td>\n",
       "      <td>0</td>\n",
       "      <td>0</td>\n",
       "      <td>0</td>\n",
       "      <td>0</td>\n",
       "      <td>1</td>\n",
       "      <td>0</td>\n",
       "      <td>0</td>\n",
       "    </tr>\n",
       "  </tbody>\n",
       "</table>\n",
       "<p>2 rows × 55 columns</p>\n",
       "</div>"
      ],
      "text/plain": [
       "        age  page_views  fpl_value   fpl_sel  fpl_points  new_foreign  \\\n",
       "0  0.302009    3.830301       12.0  2.443911    3.895597            0   \n",
       "1  0.302009    3.901208        9.5  0.415513    2.067346            0   \n",
       "\n",
       "   big_club  new_signing  club_Arsenal  club_Bournemouth  ...  region_1.0  \\\n",
       "0         1            0             1                 0  ...           0   \n",
       "1         1            0             1                 0  ...           0   \n",
       "\n",
       "   region_2.0  region_3.0  region_4.0  age_cat_1  age_cat_2  age_cat_3  \\\n",
       "0           0           1           0          0          0          0   \n",
       "1           1           0           0          0          0          0   \n",
       "\n",
       "   age_cat_4  age_cat_5  age_cat_6  \n",
       "0          1          0          0  \n",
       "1          1          0          0  \n",
       "\n",
       "[2 rows x 55 columns]"
      ]
     },
     "execution_count": 5,
     "metadata": {},
     "output_type": "execute_result"
    }
   ],
   "source": [
    "data_normal = pre_process_original(data=data.copy())\n",
    "print(data_normal.shape)\n",
    "data_normal.head(2)"
   ]
  },
  {
   "cell_type": "code",
   "execution_count": 6,
   "id": "competitive-messaging",
   "metadata": {
    "execution": {
     "iopub.execute_input": "2021-05-05T07:26:59.378721Z",
     "iopub.status.busy": "2021-05-05T07:26:59.375492Z",
     "iopub.status.idle": "2021-05-05T07:26:59.475966Z",
     "shell.execute_reply": "2021-05-05T07:26:59.476468Z"
    },
    "papermill": {
     "duration": 0.121692,
     "end_time": "2021-05-05T07:26:59.476667",
     "exception": false,
     "start_time": "2021-05-05T07:26:59.354975",
     "status": "completed"
    },
    "tags": []
   },
   "outputs": [
    {
     "name": "stdout",
     "output_type": "stream",
     "text": [
      "26.80477223427332 3.957592308299133 age\n",
      "763.7765726681127 930.7945734332158 page_views\n",
      "3.2442516268980475 5.6694977276052985 fpl_sel\n",
      "57.31453362255965 53.05617275805522 fpl_points\n",
      "(461, 13)\n"
     ]
    },
    {
     "data": {
      "text/html": [
       "<div>\n",
       "<style scoped>\n",
       "    .dataframe tbody tr th:only-of-type {\n",
       "        vertical-align: middle;\n",
       "    }\n",
       "\n",
       "    .dataframe tbody tr th {\n",
       "        vertical-align: top;\n",
       "    }\n",
       "\n",
       "    .dataframe thead th {\n",
       "        text-align: right;\n",
       "    }\n",
       "</style>\n",
       "<table border=\"1\" class=\"dataframe\">\n",
       "  <thead>\n",
       "    <tr style=\"text-align: right;\">\n",
       "      <th></th>\n",
       "      <th>club</th>\n",
       "      <th>age</th>\n",
       "      <th>position</th>\n",
       "      <th>position_cat</th>\n",
       "      <th>page_views</th>\n",
       "      <th>fpl_value</th>\n",
       "      <th>fpl_sel</th>\n",
       "      <th>fpl_points</th>\n",
       "      <th>region</th>\n",
       "      <th>new_foreign</th>\n",
       "      <th>age_cat</th>\n",
       "      <th>big_club</th>\n",
       "      <th>new_signing</th>\n",
       "    </tr>\n",
       "  </thead>\n",
       "  <tbody>\n",
       "    <tr>\n",
       "      <th>0</th>\n",
       "      <td>0.0</td>\n",
       "      <td>0.302009</td>\n",
       "      <td>8.0</td>\n",
       "      <td>0.0</td>\n",
       "      <td>3.830301</td>\n",
       "      <td>12.0</td>\n",
       "      <td>2.443911</td>\n",
       "      <td>3.895597</td>\n",
       "      <td>2.0</td>\n",
       "      <td>0</td>\n",
       "      <td>3.0</td>\n",
       "      <td>1</td>\n",
       "      <td>0</td>\n",
       "    </tr>\n",
       "    <tr>\n",
       "      <th>1</th>\n",
       "      <td>0.0</td>\n",
       "      <td>0.302009</td>\n",
       "      <td>0.0</td>\n",
       "      <td>0.0</td>\n",
       "      <td>3.901208</td>\n",
       "      <td>9.5</td>\n",
       "      <td>0.415513</td>\n",
       "      <td>2.067346</td>\n",
       "      <td>1.0</td>\n",
       "      <td>0</td>\n",
       "      <td>3.0</td>\n",
       "      <td>1</td>\n",
       "      <td>0</td>\n",
       "    </tr>\n",
       "  </tbody>\n",
       "</table>\n",
       "</div>"
      ],
      "text/plain": [
       "   club       age  position  position_cat  page_views  fpl_value   fpl_sel  \\\n",
       "0   0.0  0.302009       8.0           0.0    3.830301       12.0  2.443911   \n",
       "1   0.0  0.302009       0.0           0.0    3.901208        9.5  0.415513   \n",
       "\n",
       "   fpl_points  region  new_foreign  age_cat  big_club  new_signing  \n",
       "0    3.895597     2.0            0      3.0         1            0  \n",
       "1    2.067346     1.0            0      3.0         1            0  "
      ]
     },
     "execution_count": 6,
     "metadata": {},
     "output_type": "execute_result"
    }
   ],
   "source": [
    "data_ordinal = pre_process_tree(data=data.copy())\n",
    "print(data_ordinal.shape)\n",
    "data_ordinal.head(2)"
   ]
  },
  {
   "cell_type": "code",
   "execution_count": 7,
   "id": "beneficial-billy",
   "metadata": {
    "execution": {
     "iopub.execute_input": "2021-05-05T07:26:59.518179Z",
     "iopub.status.busy": "2021-05-05T07:26:59.517137Z",
     "iopub.status.idle": "2021-05-05T07:26:59.524070Z",
     "shell.execute_reply": "2021-05-05T07:26:59.523350Z"
    },
    "papermill": {
     "duration": 0.030114,
     "end_time": "2021-05-05T07:26:59.524231",
     "exception": false,
     "start_time": "2021-05-05T07:26:59.494117",
     "status": "completed"
    },
    "tags": []
   },
   "outputs": [],
   "source": [
    "# One-Hot encoded data\n",
    "train_dn, val_dn, train_ln, val_ln = train_test_split(data_normal.values,\n",
    "                                                      target.values,\n",
    "                                                      test_size=0.2,\n",
    "                                                      random_state=7)\n",
    "\n",
    "# Ordinal encoded data\n",
    "train_do, val_do, train_lo, val_lo = train_test_split(data_ordinal.values,\n",
    "                                                      target.values,\n",
    "                                                      test_size=0.2,\n",
    "                                                      random_state=7)"
   ]
  },
  {
   "cell_type": "markdown",
   "id": "black-symbol",
   "metadata": {
    "papermill": {
     "duration": 0.016836,
     "end_time": "2021-05-05T07:26:59.558471",
     "exception": false,
     "start_time": "2021-05-05T07:26:59.541635",
     "status": "completed"
    },
    "tags": []
   },
   "source": [
    "# Modelling and Predictions"
   ]
  },
  {
   "cell_type": "code",
   "execution_count": 8,
   "id": "great-ambassador",
   "metadata": {
    "execution": {
     "iopub.execute_input": "2021-05-05T07:26:59.605091Z",
     "iopub.status.busy": "2021-05-05T07:26:59.604052Z",
     "iopub.status.idle": "2021-05-05T07:26:59.608159Z",
     "shell.execute_reply": "2021-05-05T07:26:59.607571Z"
    },
    "papermill": {
     "duration": 0.032531,
     "end_time": "2021-05-05T07:26:59.608318",
     "exception": false,
     "start_time": "2021-05-05T07:26:59.575787",
     "status": "completed"
    },
    "tags": []
   },
   "outputs": [],
   "source": [
    "class Model_Predictor:\n",
    "    \"\"\"\n",
    "    Predicts the model, prints the scores, and model predictions\n",
    "    \"\"\"\n",
    "    def __init__(self, model_instance, train_data, train_label,\n",
    "                 val_data, val_label, name=\"lasso\"):\n",
    "        \n",
    "        # Init the model and the params to optimize\n",
    "        self.model_instance = model_instance\n",
    "        self.train_data = train_data\n",
    "        self.train_label = train_label\n",
    "        self.val_data = val_data\n",
    "        self.val_label = val_label\n",
    "        self.name = name\n",
    "    \n",
    "    def predict(self):\n",
    "        # Collect the model\n",
    "        model = self.model_instance()\n",
    "        model.fit(self.train_data, self.train_label)\n",
    "        \n",
    "        # Print the scores\n",
    "        mse_train = mean_squared_error(y_true=self.train_label, \n",
    "                                               y_pred=model.predict(self.train_data))\n",
    "        mse_val = mean_squared_error(y_true=self.val_label, \n",
    "                                             y_pred=model.predict(self.val_data))\n",
    "        \n",
    "        r2_train = r2_score(y_true=self.train_label, \n",
    "                                    y_pred=model.predict(self.train_data))\n",
    "        r2_val = r2_score(y_true=self.val_label, \n",
    "                                  y_pred=model.predict(self.val_data))\n",
    "        \n",
    "        # Print the results\n",
    "        print(\"%s mse train ==> %.5f\" % (self.name, mse_train))\n",
    "        print(\"%s mse val ==> %.5f\" % (self.name, mse_val))\n",
    "        print(\"%s r2 train ==> %.5f\" % (self.name, r2_train))\n",
    "        print(\"%s r2 val ==> %.5f\" % (self.name, r2_val))\n",
    "        print(\"Ouptut :\", model.predict(self.val_data)[:50])"
   ]
  },
  {
   "cell_type": "code",
   "execution_count": 9,
   "id": "spare-rating",
   "metadata": {
    "execution": {
     "iopub.execute_input": "2021-05-05T07:26:59.649481Z",
     "iopub.status.busy": "2021-05-05T07:26:59.648649Z",
     "iopub.status.idle": "2021-05-05T07:26:59.694282Z",
     "shell.execute_reply": "2021-05-05T07:26:59.695358Z"
    },
    "papermill": {
     "duration": 0.06982,
     "end_time": "2021-05-05T07:26:59.695658",
     "exception": false,
     "start_time": "2021-05-05T07:26:59.625838",
     "status": "completed"
    },
    "tags": []
   },
   "outputs": [
    {
     "name": "stdout",
     "output_type": "stream",
     "text": [
      "Linear Regression mse train ==> 25.18266\n",
      "Linear Regression mse val ==> 19.69924\n",
      "Linear Regression r2 train ==> 0.84263\n",
      "Linear Regression r2 val ==> 0.81068\n",
      "Ouptut : [22.7109375   3.10546875  7.29882812 -7.36523438  3.03515625 58.4296875\n",
      " 14.45898438  4.58203125 -0.42578125  9.32226562  7.05273438 16.11914062\n",
      " -2.390625    1.2734375   3.68554688  3.81640625  3.38867188  9.43164062\n",
      " 26.63671875 -2.24609375  1.55273438 -0.28710938 25.00390625  2.5546875\n",
      "  6.078125    8.4609375   3.15820312 15.7109375   3.60546875 15.078125\n",
      "  3.87304688 -1.80859375  5.83203125  5.52929688  3.4609375   8.0859375\n",
      "  7.33203125  3.15820312 30.796875   -0.3515625   5.26171875  7.80078125\n",
      "  2.75390625  4.58398438  3.61914062  8.390625    5.36328125  7.48632812\n",
      " 20.56445312 -0.5859375 ]\n"
     ]
    }
   ],
   "source": [
    "linear_reg = Model_Predictor(model_instance=LinearRegression, train_data=train_dn,\n",
    "                                   train_label=train_ln, val_data=val_dn, val_label=val_ln,\n",
    "                                   name=\"Linear Regression\")\n",
    "linear_reg.predict()"
   ]
  },
  {
   "cell_type": "code",
   "execution_count": 10,
   "id": "similar-brother",
   "metadata": {
    "execution": {
     "iopub.execute_input": "2021-05-05T07:26:59.809032Z",
     "iopub.status.busy": "2021-05-05T07:26:59.803429Z",
     "iopub.status.idle": "2021-05-05T07:26:59.835583Z",
     "shell.execute_reply": "2021-05-05T07:26:59.836500Z"
    },
    "papermill": {
     "duration": 0.085474,
     "end_time": "2021-05-05T07:26:59.836778",
     "exception": false,
     "start_time": "2021-05-05T07:26:59.751304",
     "status": "completed"
    },
    "tags": []
   },
   "outputs": [
    {
     "name": "stdout",
     "output_type": "stream",
     "text": [
      "Lasso Regression mse train ==> 44.84268\n",
      "Lasso Regression mse val ==> 30.37217\n",
      "Lasso Regression r2 train ==> 0.71978\n",
      "Lasso Regression r2 val ==> 0.70810\n",
      "Ouptut : [10.18708954  4.14273732 12.15210155  1.71182175  6.50622602 57.79424406\n",
      "  9.32823723  8.80477536  3.05787345 10.08986898  7.23699168 10.95291619\n",
      "  7.91867106  1.31739832  6.99682084  7.42257473  6.93250959  5.57184796\n",
      " 22.65542762  4.38612239  3.11140763  1.1346731  10.46681093  9.34660246\n",
      "  6.66294953  8.34120752  5.57976372 16.93100061  3.09291764 13.73120719\n",
      "  7.30131292  3.34741566  3.03938347  9.29644449 10.17416838  8.4713894\n",
      "  8.36476255  3.92278348 21.02644881  3.43430075  9.0508036  11.64210364\n",
      "  6.06262883  5.25724185  7.20606673 10.29179815  7.44569034 10.71709699\n",
      " 13.60755456  7.71661614]\n"
     ]
    }
   ],
   "source": [
    "lasso_reg = Model_Predictor(model_instance=lm.Lasso, train_data=train_dn,\n",
    "                                  train_label=train_ln, val_data=val_dn, val_label=val_ln,\n",
    "                                  name=\"Lasso Regression\")\n",
    "lasso_reg.predict()"
   ]
  },
  {
   "cell_type": "code",
   "execution_count": 11,
   "id": "viral-residence",
   "metadata": {
    "execution": {
     "iopub.execute_input": "2021-05-05T07:26:59.951466Z",
     "iopub.status.busy": "2021-05-05T07:26:59.950698Z",
     "iopub.status.idle": "2021-05-05T07:27:00.010064Z",
     "shell.execute_reply": "2021-05-05T07:27:00.011350Z"
    },
    "papermill": {
     "duration": 0.117316,
     "end_time": "2021-05-05T07:27:00.011619",
     "exception": false,
     "start_time": "2021-05-05T07:26:59.894303",
     "status": "completed"
    },
    "tags": []
   },
   "outputs": [
    {
     "name": "stdout",
     "output_type": "stream",
     "text": [
      "Ridge Regression mse train ==> 25.39708\n",
      "Ridge Regression mse val ==> 18.34165\n",
      "Ridge Regression r2 train ==> 0.84129\n",
      "Ridge Regression r2 val ==> 0.82372\n",
      "Ouptut : [ 2.18957488e+01  3.22106444e+00  7.62022857e+00 -6.11708209e+00\n",
      "  3.04890430e+00  5.84494130e+01  1.40893137e+01  4.41769283e+00\n",
      " -2.85858572e-01  9.26575130e+00  7.24677534e+00  1.56086777e+01\n",
      " -5.98537985e-01  1.46612962e+00  3.52930467e+00  3.60303106e+00\n",
      "  3.93376770e+00  8.58882620e+00  2.63519847e+01 -1.70372990e+00\n",
      "  1.22453317e+00  2.53985692e-01  2.40736566e+01  2.46297162e+00\n",
      "  6.60090210e+00  8.42768107e+00  2.98307601e+00  1.51854726e+01\n",
      "  3.81016139e+00  1.47839730e+01  3.84443828e+00 -1.58286721e+00\n",
      "  5.60692915e+00  6.15634879e+00  3.89602075e+00  8.18794491e+00\n",
      "  7.31765514e+00  2.83762456e+00  3.05776077e+01 -4.63130809e-02\n",
      "  5.68888872e+00  7.35860462e+00  2.90195880e+00  4.51222346e+00\n",
      "  4.07636155e+00  8.26536019e+00  5.38595015e+00  8.66015946e+00\n",
      "  2.03440089e+01  3.02593360e-01]\n"
     ]
    }
   ],
   "source": [
    "ridge_reg = Model_Predictor(model_instance=lm.Ridge, train_data=train_dn,\n",
    "                                  train_label=train_ln, val_data=val_dn, val_label=val_ln,\n",
    "                                  name=\"Ridge Regression\")\n",
    "ridge_reg.predict()"
   ]
  },
  {
   "cell_type": "code",
   "execution_count": 12,
   "id": "wireless-dealing",
   "metadata": {
    "execution": {
     "iopub.execute_input": "2021-05-05T07:27:00.113906Z",
     "iopub.status.busy": "2021-05-05T07:27:00.112635Z",
     "iopub.status.idle": "2021-05-05T07:27:00.145534Z",
     "shell.execute_reply": "2021-05-05T07:27:00.146560Z"
    },
    "papermill": {
     "duration": 0.080851,
     "end_time": "2021-05-05T07:27:00.146845",
     "exception": false,
     "start_time": "2021-05-05T07:27:00.065994",
     "status": "completed"
    },
    "tags": []
   },
   "outputs": [
    {
     "name": "stdout",
     "output_type": "stream",
     "text": [
      "K-Nearest Neighbors mse train ==> 28.47428\n",
      "K-Nearest Neighbors mse val ==> 24.52769\n",
      "K-Nearest Neighbors r2 train ==> 0.82206\n",
      "K-Nearest Neighbors r2 val ==> 0.76427\n",
      "Ouptut : [11.2   2.6   9.2   2.4   3.6  54.    7.    5.4   2.45  5.2   6.2  14.8\n",
      "  6.7   4.4   4.3   4.6   4.25  2.55 19.    1.5   1.8   3.5   7.9   4.5\n",
      "  3.9   6.8   3.5  11.1   2.9   9.7   5.6   3.95  3.    7.1   9.    2.\n",
      "  4.4   7.3  18.2   0.9   0.9   6.    1.9   2.05  5.6   9.2   5.3  10.\n",
      " 20.4   3.3 ]\n"
     ]
    }
   ],
   "source": [
    "knn = Model_Predictor(model_instance=ng.KNeighborsRegressor, train_data=train_dn,\n",
    "                                  train_label=train_ln, val_data=val_dn, val_label=val_ln,\n",
    "                                  name=\"K-Nearest Neighbors\")\n",
    "knn.predict()"
   ]
  },
  {
   "cell_type": "code",
   "execution_count": 13,
   "id": "distributed-weapon",
   "metadata": {
    "execution": {
     "iopub.execute_input": "2021-05-05T07:27:00.223524Z",
     "iopub.status.busy": "2021-05-05T07:27:00.222455Z",
     "iopub.status.idle": "2021-05-05T07:27:00.298544Z",
     "shell.execute_reply": "2021-05-05T07:27:00.297841Z"
    },
    "papermill": {
     "duration": 0.117616,
     "end_time": "2021-05-05T07:27:00.298686",
     "exception": false,
     "start_time": "2021-05-05T07:27:00.181070",
     "status": "completed"
    },
    "tags": []
   },
   "outputs": [
    {
     "name": "stdout",
     "output_type": "stream",
     "text": [
      "Support Vector Regressor mse train ==> 71.76643\n",
      "Support Vector Regressor mse val ==> 42.67468\n",
      "Support Vector Regressor r2 train ==> 0.55153\n",
      "Support Vector Regressor r2 val ==> 0.58987\n",
      "Ouptut : [ 8.45286114  3.52976116  8.66946795  1.93783708  4.72170191 21.63730298\n",
      "  7.41622306  6.09498015  1.26633201  7.92866127  6.43000337  8.73291709\n",
      "  6.10171053  2.49991881  5.05322979  4.76769612  5.20944562  4.73437501\n",
      " 15.75691108  1.97944631  1.9785635   1.36598592  9.0509113   5.78431248\n",
      "  6.02825763  6.68970469  3.33816507 13.27777956  2.71662861 12.23168125\n",
      "  5.89178567  1.8834317   3.17486337  7.34439623  6.95399417  4.88771462\n",
      "  6.16955524  3.05062875 19.20669373  2.69933169  6.08337114  7.47116436\n",
      "  4.4691364   3.38361675  5.85177803 10.98041753  5.66356257  9.15348055\n",
      " 11.87257719  6.08054464]\n"
     ]
    }
   ],
   "source": [
    "svr = Model_Predictor(model_instance=svm.SVR, train_data=train_dn,\n",
    "                                  train_label=train_ln, val_data=val_dn, val_label=val_ln,\n",
    "                                  name=\"Support Vector Regressor\")\n",
    "svr.predict()"
   ]
  },
  {
   "cell_type": "code",
   "execution_count": 14,
   "id": "derived-charleston",
   "metadata": {
    "execution": {
     "iopub.execute_input": "2021-05-05T07:27:00.344722Z",
     "iopub.status.busy": "2021-05-05T07:27:00.344000Z",
     "iopub.status.idle": "2021-05-05T07:27:00.353787Z",
     "shell.execute_reply": "2021-05-05T07:27:00.354348Z"
    },
    "papermill": {
     "duration": 0.035884,
     "end_time": "2021-05-05T07:27:00.354543",
     "exception": false,
     "start_time": "2021-05-05T07:27:00.318659",
     "status": "completed"
    },
    "tags": []
   },
   "outputs": [
    {
     "name": "stdout",
     "output_type": "stream",
     "text": [
      "Decision Tree Regressor mse train ==> 0.00000\n",
      "Decision Tree Regressor mse val ==> 43.55661\n",
      "Decision Tree Regressor r2 train ==> 1.00000\n",
      "Decision Tree Regressor r2 val ==> 0.58139\n",
      "Ouptut : [10.    3.   11.    2.5   3.   45.    4.    2.5   0.25 30.    2.    4.\n",
      " 15.    1.75  1.5   2.5   5.   12.   12.    1.5   1.5   1.5  22.    7.\n",
      "  2.5   9.    1.25 25.    1.   10.   12.    0.5   1.5   2.5  10.   18.\n",
      "  3.    5.5  40.    0.5  10.    2.5   4.    4.5   2.5   1.5  10.    8.\n",
      " 30.    1.  ]\n"
     ]
    }
   ],
   "source": [
    "dt = Model_Predictor(model_instance=tree.DecisionTreeRegressor, train_data=train_do,\n",
    "                                  train_label=train_lo, val_data=val_do, val_label=val_lo,\n",
    "                                  name=\"Decision Tree Regressor\")\n",
    "dt.predict()"
   ]
  },
  {
   "cell_type": "code",
   "execution_count": 15,
   "id": "active-webcam",
   "metadata": {
    "execution": {
     "iopub.execute_input": "2021-05-05T07:27:00.415962Z",
     "iopub.status.busy": "2021-05-05T07:27:00.410696Z",
     "iopub.status.idle": "2021-05-05T07:27:00.742429Z",
     "shell.execute_reply": "2021-05-05T07:27:00.741706Z"
    },
    "papermill": {
     "duration": 0.367811,
     "end_time": "2021-05-05T07:27:00.742622",
     "exception": false,
     "start_time": "2021-05-05T07:27:00.374811",
     "status": "completed"
    },
    "tags": []
   },
   "outputs": [
    {
     "name": "stdout",
     "output_type": "stream",
     "text": [
      "Random Forest Regressor mse train ==> 5.25218\n",
      "Random Forest Regressor mse val ==> 26.40214\n",
      "Random Forest Regressor r2 train ==> 0.96718\n",
      "Random Forest Regressor r2 val ==> 0.74626\n",
      "Ouptut : [11.3     4.2775  9.65    1.1725  4.308  53.1     5.0575  6.88    0.455\n",
      " 15.455   4.3075 11.925   6.935   1.8675  4.269   5.92    5.92    5.446\n",
      " 21.6     2.9975  1.294   2.0225 17.44    6.211   6.165   7.825   3.6925\n",
      " 13.745   1.2395 12.11    6.935   1.1925  2.772   5.18    9.955   4.7325\n",
      "  5.75    3.4305 32.84    1.6175 12.795   8.325   5.2505  2.6955  5.94\n",
      "  4.585   7.185  11.18   23.195   4.1045]\n"
     ]
    }
   ],
   "source": [
    "random_forest = Model_Predictor(model_instance=en.RandomForestRegressor, train_data=train_do,\n",
    "                                  train_label=train_lo, val_data=val_do, val_label=val_lo,\n",
    "                                  name=\"Random Forest Regressor\")\n",
    "random_forest.predict()"
   ]
  },
  {
   "cell_type": "code",
   "execution_count": 16,
   "id": "floating-liabilities",
   "metadata": {
    "execution": {
     "iopub.execute_input": "2021-05-05T07:27:00.791275Z",
     "iopub.status.busy": "2021-05-05T07:27:00.790267Z",
     "iopub.status.idle": "2021-05-05T07:27:00.878977Z",
     "shell.execute_reply": "2021-05-05T07:27:00.878408Z"
    },
    "papermill": {
     "duration": 0.115704,
     "end_time": "2021-05-05T07:27:00.879208",
     "exception": false,
     "start_time": "2021-05-05T07:27:00.763504",
     "status": "completed"
    },
    "tags": []
   },
   "outputs": [
    {
     "name": "stdout",
     "output_type": "stream",
     "text": [
      "Gradient Boosting Regressor mse train ==> 5.75137\n",
      "Gradient Boosting Regressor mse val ==> 22.23996\n",
      "Gradient Boosting Regressor r2 train ==> 0.96406\n",
      "Gradient Boosting Regressor r2 val ==> 0.78626\n",
      "Ouptut : [22.28274359  3.34980568  7.23746322  0.57965466  3.5002313  58.0046134\n",
      " 12.47009419  9.16461042  0.29617008 10.42761579  6.71758603 13.24039781\n",
      "  6.81519723  2.96394329  3.92897631  5.91969656  6.19453423  6.65153443\n",
      " 22.93224028  1.99814276  2.18371149  1.1493993  16.3921912  11.5461811\n",
      "  5.9808685   6.90944541  3.19552715 13.70806937  2.2881358  11.73100651\n",
      "  6.79090796 -0.29581744  3.09570998  6.48019124  7.80953986  5.94255077\n",
      "  5.81565613  4.14489623 35.55526885  1.28714706  9.67452013  6.45325492\n",
      "  2.16486565  1.92576518  5.79641694  3.34219919  7.54314113 10.06593265\n",
      " 23.85123484  1.75245219]\n"
     ]
    }
   ],
   "source": [
    "gradient_boost = Model_Predictor(model_instance=en.GradientBoostingRegressor, train_data=train_do,\n",
    "                                       train_label=train_lo, val_data=val_do, val_label=val_lo,\n",
    "                                       name=\"Gradient Boosting Regressor\")\n",
    "gradient_boost.predict()"
   ]
  },
  {
   "cell_type": "code",
   "execution_count": 17,
   "id": "prerequisite-copying",
   "metadata": {
    "execution": {
     "iopub.execute_input": "2021-05-05T07:27:00.928349Z",
     "iopub.status.busy": "2021-05-05T07:27:00.927659Z",
     "iopub.status.idle": "2021-05-05T07:27:01.051795Z",
     "shell.execute_reply": "2021-05-05T07:27:01.052284Z"
    },
    "papermill": {
     "duration": 0.152087,
     "end_time": "2021-05-05T07:27:01.052465",
     "exception": false,
     "start_time": "2021-05-05T07:27:00.900378",
     "status": "completed"
    },
    "tags": []
   },
   "outputs": [
    {
     "name": "stdout",
     "output_type": "stream",
     "text": [
      "Ada Boost Regressor mse train ==> 24.01156\n",
      "Ada Boost Regressor mse val ==> 38.23950\n",
      "Ada Boost Regressor r2 train ==> 0.84995\n",
      "Ada Boost Regressor r2 val ==> 0.63249\n",
      "Ouptut : [16.35833333  4.9204918  13.44680851  4.9204918   8.0826087  56.55172414\n",
      " 10.30294118 10.37244898  4.79444444 15.          7.54615385 15.78571429\n",
      " 10.37244898  4.79444444  7.10211268  7.15        7.10211268  6.26309524\n",
      " 22.60382514  5.41029412  4.79444444  4.79444444 19.8045977  19.20934959\n",
      "  6.503125    9.99236641  5.5469697  10.55        4.79444444 16.8875969\n",
      "  7.30758929  4.79444444  4.79444444 10.37244898 10.83125     7.54772727\n",
      "  8.33661417  4.9204918  29.69392523  4.79444444 13.96683938 13.44680851\n",
      "  7.30758929  5.5469697   7.30758929  8.0826087   7.15       10.55\n",
      " 23.75462963  7.15      ]\n"
     ]
    }
   ],
   "source": [
    "ada_boost = Model_Predictor(model_instance=en.AdaBoostRegressor, train_data=train_do,\n",
    "                                  train_label=train_lo, val_data=val_do, val_label=val_lo,\n",
    "                                  name=\"Ada Boost Regressor\")\n",
    "ada_boost.predict()"
   ]
  }
 ],
 "metadata": {
  "kernelspec": {
   "display_name": "Python 3",
   "language": "python",
   "name": "python3"
  },
  "language_info": {
   "codemirror_mode": {
    "name": "ipython",
    "version": 3
   },
   "file_extension": ".py",
   "mimetype": "text/x-python",
   "name": "python",
   "nbconvert_exporter": "python",
   "pygments_lexer": "ipython3",
   "version": "3.8.8"
  },
  "papermill": {
   "default_parameters": {},
   "duration": 13.973973,
   "end_time": "2021-05-05T07:27:02.871895",
   "environment_variables": {},
   "exception": null,
   "input_path": "__notebook__.ipynb",
   "output_path": "__notebook__.ipynb",
   "parameters": {},
   "start_time": "2021-05-05T07:26:48.897922",
   "version": "2.3.3"
  }
 },
 "nbformat": 4,
 "nbformat_minor": 5
}
