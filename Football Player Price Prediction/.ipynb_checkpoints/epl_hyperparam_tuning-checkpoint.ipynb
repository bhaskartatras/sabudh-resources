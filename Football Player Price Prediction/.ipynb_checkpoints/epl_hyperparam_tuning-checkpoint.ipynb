{
 "cells": [
  {
   "cell_type": "code",
   "execution_count": 1,
   "id": "asian-notion",
   "metadata": {
    "_cell_guid": "b1076dfc-b9ad-4769-8c92-a6c4dae69d19",
    "_uuid": "8f2839f25d086af736a60e9eeb907d3b93b6e0e5",
    "execution": {
     "iopub.execute_input": "2021-05-04T15:28:01.504254Z",
     "iopub.status.busy": "2021-05-04T15:28:01.502272Z",
     "iopub.status.idle": "2021-05-04T15:28:02.919328Z",
     "shell.execute_reply": "2021-05-04T15:28:02.918654Z"
    },
    "papermill": {
     "duration": 1.438261,
     "end_time": "2021-05-04T15:28:02.919496",
     "exception": false,
     "start_time": "2021-05-04T15:28:01.481235",
     "status": "completed"
    },
    "tags": []
   },
   "outputs": [],
   "source": [
    "# Csv and Array manuplation libraries\n",
    "import numpy as np\n",
    "import pandas as pd\n",
    "\n",
    "# Visual Libraries\n",
    "import matplotlib.pyplot as plt\n",
    "import matplotlib.patches as mpatches\n",
    "import seaborn as sns \n",
    "sns.set_theme()\n",
    "\n",
    "# Sklearn \n",
    "from sklearn.preprocessing import LabelEncoder, OrdinalEncoder, OneHotEncoder\n",
    "from sklearn.linear_model import LinearRegression\n",
    "from sklearn.model_selection import train_test_split, GridSearchCV, RandomizedSearchCV\n",
    "from sklearn.metrics import mean_squared_error, r2_score\n",
    "import sklearn.model_selection as ms\n",
    "import sklearn.linear_model as lm\n",
    "import sklearn.neighbors as ng\n",
    "import sklearn.svm as svm\n",
    "import sklearn.tree as tree\n",
    "import sklearn.ensemble as en"
   ]
  },
  {
   "cell_type": "code",
   "execution_count": 2,
   "id": "japanese-anchor",
   "metadata": {
    "execution": {
     "iopub.execute_input": "2021-05-04T15:28:02.948971Z",
     "iopub.status.busy": "2021-05-04T15:28:02.948281Z",
     "iopub.status.idle": "2021-05-04T15:28:02.999304Z",
     "shell.execute_reply": "2021-05-04T15:28:02.999753Z"
    },
    "papermill": {
     "duration": 0.06843,
     "end_time": "2021-05-04T15:28:02.999921",
     "exception": false,
     "start_time": "2021-05-04T15:28:02.931491",
     "status": "completed"
    },
    "tags": []
   },
   "outputs": [
    {
     "name": "stdout",
     "output_type": "stream",
     "text": [
      "(461, 17)\n"
     ]
    },
    {
     "data": {
      "text/html": [
       "<div>\n",
       "<style scoped>\n",
       "    .dataframe tbody tr th:only-of-type {\n",
       "        vertical-align: middle;\n",
       "    }\n",
       "\n",
       "    .dataframe tbody tr th {\n",
       "        vertical-align: top;\n",
       "    }\n",
       "\n",
       "    .dataframe thead th {\n",
       "        text-align: right;\n",
       "    }\n",
       "</style>\n",
       "<table border=\"1\" class=\"dataframe\">\n",
       "  <thead>\n",
       "    <tr style=\"text-align: right;\">\n",
       "      <th></th>\n",
       "      <th>name</th>\n",
       "      <th>club</th>\n",
       "      <th>age</th>\n",
       "      <th>position</th>\n",
       "      <th>position_cat</th>\n",
       "      <th>market_value</th>\n",
       "      <th>page_views</th>\n",
       "      <th>fpl_value</th>\n",
       "      <th>fpl_sel</th>\n",
       "      <th>fpl_points</th>\n",
       "      <th>region</th>\n",
       "      <th>nationality</th>\n",
       "      <th>new_foreign</th>\n",
       "      <th>age_cat</th>\n",
       "      <th>club_id</th>\n",
       "      <th>big_club</th>\n",
       "      <th>new_signing</th>\n",
       "    </tr>\n",
       "  </thead>\n",
       "  <tbody>\n",
       "    <tr>\n",
       "      <th>0</th>\n",
       "      <td>Alexis Sanchez</td>\n",
       "      <td>Arsenal</td>\n",
       "      <td>28</td>\n",
       "      <td>LW</td>\n",
       "      <td>1</td>\n",
       "      <td>65.0</td>\n",
       "      <td>4329</td>\n",
       "      <td>12.0</td>\n",
       "      <td>17.10%</td>\n",
       "      <td>264</td>\n",
       "      <td>3.0</td>\n",
       "      <td>Chile</td>\n",
       "      <td>0</td>\n",
       "      <td>4</td>\n",
       "      <td>1</td>\n",
       "      <td>1</td>\n",
       "      <td>0</td>\n",
       "    </tr>\n",
       "    <tr>\n",
       "      <th>1</th>\n",
       "      <td>Mesut Ozil</td>\n",
       "      <td>Arsenal</td>\n",
       "      <td>28</td>\n",
       "      <td>AM</td>\n",
       "      <td>1</td>\n",
       "      <td>50.0</td>\n",
       "      <td>4395</td>\n",
       "      <td>9.5</td>\n",
       "      <td>5.60%</td>\n",
       "      <td>167</td>\n",
       "      <td>2.0</td>\n",
       "      <td>Germany</td>\n",
       "      <td>0</td>\n",
       "      <td>4</td>\n",
       "      <td>1</td>\n",
       "      <td>1</td>\n",
       "      <td>0</td>\n",
       "    </tr>\n",
       "    <tr>\n",
       "      <th>2</th>\n",
       "      <td>Petr Cech</td>\n",
       "      <td>Arsenal</td>\n",
       "      <td>35</td>\n",
       "      <td>GK</td>\n",
       "      <td>4</td>\n",
       "      <td>7.0</td>\n",
       "      <td>1529</td>\n",
       "      <td>5.5</td>\n",
       "      <td>5.90%</td>\n",
       "      <td>134</td>\n",
       "      <td>2.0</td>\n",
       "      <td>Czech Republic</td>\n",
       "      <td>0</td>\n",
       "      <td>6</td>\n",
       "      <td>1</td>\n",
       "      <td>1</td>\n",
       "      <td>0</td>\n",
       "    </tr>\n",
       "    <tr>\n",
       "      <th>3</th>\n",
       "      <td>Theo Walcott</td>\n",
       "      <td>Arsenal</td>\n",
       "      <td>28</td>\n",
       "      <td>RW</td>\n",
       "      <td>1</td>\n",
       "      <td>20.0</td>\n",
       "      <td>2393</td>\n",
       "      <td>7.5</td>\n",
       "      <td>1.50%</td>\n",
       "      <td>122</td>\n",
       "      <td>1.0</td>\n",
       "      <td>England</td>\n",
       "      <td>0</td>\n",
       "      <td>4</td>\n",
       "      <td>1</td>\n",
       "      <td>1</td>\n",
       "      <td>0</td>\n",
       "    </tr>\n",
       "    <tr>\n",
       "      <th>4</th>\n",
       "      <td>Laurent Koscielny</td>\n",
       "      <td>Arsenal</td>\n",
       "      <td>31</td>\n",
       "      <td>CB</td>\n",
       "      <td>3</td>\n",
       "      <td>22.0</td>\n",
       "      <td>912</td>\n",
       "      <td>6.0</td>\n",
       "      <td>0.70%</td>\n",
       "      <td>121</td>\n",
       "      <td>2.0</td>\n",
       "      <td>France</td>\n",
       "      <td>0</td>\n",
       "      <td>4</td>\n",
       "      <td>1</td>\n",
       "      <td>1</td>\n",
       "      <td>0</td>\n",
       "    </tr>\n",
       "  </tbody>\n",
       "</table>\n",
       "</div>"
      ],
      "text/plain": [
       "                name     club  age position  position_cat  market_value  \\\n",
       "0     Alexis Sanchez  Arsenal   28       LW             1          65.0   \n",
       "1         Mesut Ozil  Arsenal   28       AM             1          50.0   \n",
       "2          Petr Cech  Arsenal   35       GK             4           7.0   \n",
       "3       Theo Walcott  Arsenal   28       RW             1          20.0   \n",
       "4  Laurent Koscielny  Arsenal   31       CB             3          22.0   \n",
       "\n",
       "   page_views  fpl_value fpl_sel  fpl_points  region     nationality  \\\n",
       "0        4329       12.0  17.10%         264     3.0           Chile   \n",
       "1        4395        9.5   5.60%         167     2.0         Germany   \n",
       "2        1529        5.5   5.90%         134     2.0  Czech Republic   \n",
       "3        2393        7.5   1.50%         122     1.0         England   \n",
       "4         912        6.0   0.70%         121     2.0          France   \n",
       "\n",
       "   new_foreign  age_cat  club_id  big_club  new_signing  \n",
       "0            0        4        1         1            0  \n",
       "1            0        4        1         1            0  \n",
       "2            0        6        1         1            0  \n",
       "3            0        4        1         1            0  \n",
       "4            0        4        1         1            0  "
      ]
     },
     "execution_count": 2,
     "metadata": {},
     "output_type": "execute_result"
    }
   ],
   "source": [
    "data = pd.read_csv(\"../input/epl-football-dataset/football.csv\")\n",
    "print(data.shape)\n",
    "data.head()"
   ]
  },
  {
   "cell_type": "code",
   "execution_count": 3,
   "id": "sporting-center",
   "metadata": {
    "execution": {
     "iopub.execute_input": "2021-05-04T15:28:03.028525Z",
     "iopub.status.busy": "2021-05-04T15:28:03.027891Z",
     "iopub.status.idle": "2021-05-04T15:28:03.039526Z",
     "shell.execute_reply": "2021-05-04T15:28:03.038273Z"
    },
    "papermill": {
     "duration": 0.026589,
     "end_time": "2021-05-04T15:28:03.039684",
     "exception": false,
     "start_time": "2021-05-04T15:28:03.013095",
     "status": "completed"
    },
    "tags": []
   },
   "outputs": [],
   "source": [
    "# Handle the single missing value in the data with most probable value \n",
    "data[\"region\"] = data[\"region\"].fillna(data[\"region\"].value_counts().index[0])"
   ]
  },
  {
   "cell_type": "markdown",
   "id": "fatty-price",
   "metadata": {
    "papermill": {
     "duration": 0.012322,
     "end_time": "2021-05-04T15:28:03.064491",
     "exception": false,
     "start_time": "2021-05-04T15:28:03.052169",
     "status": "completed"
    },
    "tags": []
   },
   "source": [
    "# Data Preprocessing"
   ]
  },
  {
   "cell_type": "code",
   "execution_count": 4,
   "id": "bright-movement",
   "metadata": {
    "execution": {
     "iopub.execute_input": "2021-05-04T15:28:03.096422Z",
     "iopub.status.busy": "2021-05-04T15:28:03.095402Z",
     "iopub.status.idle": "2021-05-04T15:28:03.099274Z",
     "shell.execute_reply": "2021-05-04T15:28:03.098569Z"
    },
    "papermill": {
     "duration": 0.022098,
     "end_time": "2021-05-04T15:28:03.099422",
     "exception": false,
     "start_time": "2021-05-04T15:28:03.077324",
     "status": "completed"
    },
    "tags": []
   },
   "outputs": [],
   "source": [
    "# Necessary Cols \n",
    "drop_cols = [\"name\", \"club_id\", \"market_value\", \"nationality\"]\n",
    "target_col = \"market_value\""
   ]
  },
  {
   "cell_type": "code",
   "execution_count": 5,
   "id": "brown-hotel",
   "metadata": {
    "execution": {
     "iopub.execute_input": "2021-05-04T15:28:03.129763Z",
     "iopub.status.busy": "2021-05-04T15:28:03.128767Z",
     "iopub.status.idle": "2021-05-04T15:28:03.134754Z",
     "shell.execute_reply": "2021-05-04T15:28:03.135214Z"
    },
    "papermill": {
     "duration": 0.022573,
     "end_time": "2021-05-04T15:28:03.135398",
     "exception": false,
     "start_time": "2021-05-04T15:28:03.112825",
     "status": "completed"
    },
    "tags": []
   },
   "outputs": [],
   "source": [
    "# Drop the unnecessary cols\n",
    "target = data[target_col]\n",
    "data = data.drop(drop_cols, axis=1)"
   ]
  },
  {
   "cell_type": "code",
   "execution_count": 6,
   "id": "associate-holly",
   "metadata": {
    "execution": {
     "iopub.execute_input": "2021-05-04T15:28:03.165600Z",
     "iopub.status.busy": "2021-05-04T15:28:03.164573Z",
     "iopub.status.idle": "2021-05-04T15:28:03.177131Z",
     "shell.execute_reply": "2021-05-04T15:28:03.177570Z"
    },
    "papermill": {
     "duration": 0.029846,
     "end_time": "2021-05-04T15:28:03.177758",
     "exception": false,
     "start_time": "2021-05-04T15:28:03.147912",
     "status": "completed"
    },
    "tags": []
   },
   "outputs": [],
   "source": [
    "def extract_percent(val):\n",
    "    return float(val[:-1])\n",
    "\n",
    "\n",
    "def pre_process_original(data):\n",
    "    \"\"\"\n",
    "    Preprocesss the data given the columns and the data\n",
    "    \"\"\"\n",
    "    for col in data.columns:\n",
    "        if col in [\"age\", \"page_views\", \"fpl_val\", \"fpl_points\"]:\n",
    "            # Perform standardization\n",
    "            mean = np.mean(data[col])\n",
    "            std  = np.std(data[col])\n",
    "            data[col] = (data[col] - mean) / std\n",
    "            print(mean, std, col)\n",
    "            \n",
    "        if col in [\"club\", \"position\", \"position_cat\", \"region\", \"age_cat\"]:\n",
    "            # Get the dummies and concat them\n",
    "            dummies = pd.get_dummies(data[col], prefix=col)\n",
    "            data = pd.concat((data, dummies), axis=1)\n",
    "\n",
    "            # Drop the data \n",
    "            data = data.drop(col, axis=1)\n",
    "            \n",
    "        if col == \"fpl_sel\":\n",
    "            # Extract the feature\n",
    "            data[col] = data[col].apply(extract_percent)\n",
    "            mean = np.mean(data[col])\n",
    "            std  = np.std(data[col])\n",
    "            data[col] = (data[col] - mean) / std\n",
    "            print(mean, std, col)\n",
    "         \n",
    "    return data\n",
    "\n",
    "def pre_process_tree(data):\n",
    "    \"\"\"\n",
    "    Preprocesss the data given the columns and the data\n",
    "    \"\"\"\n",
    "    for col in data.columns:\n",
    "        if col in [\"age\", \"page_views\", \"fpl_val\", \"fpl_points\"]:\n",
    "            # Perform standardization\n",
    "            mean = np.mean(data[col])\n",
    "            std  = np.std(data[col])\n",
    "            data[col] = (data[col] - mean) / std\n",
    "            print(mean, std, col)\n",
    "            \n",
    "        if col == \"fpl_sel\":\n",
    "            # Extract the feature\n",
    "            data[col] = data[col].apply(extract_percent)\n",
    "            mean = np.mean(data[col])\n",
    "            std  = np.std(data[col])\n",
    "            data[col] = (data[col] - mean) / std\n",
    "            print(mean, std, col)\n",
    "        \n",
    "        # Ordinal Encoded columns\n",
    "        ord_cols = [\"club\", \"position\", \"position_cat\", \"region\", \"age_cat\"]\n",
    "        encoder = OrdinalEncoder()\n",
    "        data[ord_cols] = encoder.fit_transform(data[ord_cols])\n",
    "         \n",
    "    return data"
   ]
  },
  {
   "cell_type": "code",
   "execution_count": 7,
   "id": "developmental-serial",
   "metadata": {
    "execution": {
     "iopub.execute_input": "2021-05-04T15:28:03.220938Z",
     "iopub.status.busy": "2021-05-04T15:28:03.220324Z",
     "iopub.status.idle": "2021-05-04T15:28:03.280582Z",
     "shell.execute_reply": "2021-05-04T15:28:03.280049Z"
    },
    "papermill": {
     "duration": 0.090145,
     "end_time": "2021-05-04T15:28:03.280720",
     "exception": false,
     "start_time": "2021-05-04T15:28:03.190575",
     "status": "completed"
    },
    "tags": []
   },
   "outputs": [
    {
     "name": "stdout",
     "output_type": "stream",
     "text": [
      "26.80477223427332 3.957592308299133 age\n",
      "763.7765726681127 930.7945734332158 page_views\n",
      "3.2442516268980475 5.6694977276052985 fpl_sel\n",
      "57.31453362255965 53.05617275805522 fpl_points\n",
      "(461, 55)\n"
     ]
    },
    {
     "data": {
      "text/html": [
       "<div>\n",
       "<style scoped>\n",
       "    .dataframe tbody tr th:only-of-type {\n",
       "        vertical-align: middle;\n",
       "    }\n",
       "\n",
       "    .dataframe tbody tr th {\n",
       "        vertical-align: top;\n",
       "    }\n",
       "\n",
       "    .dataframe thead th {\n",
       "        text-align: right;\n",
       "    }\n",
       "</style>\n",
       "<table border=\"1\" class=\"dataframe\">\n",
       "  <thead>\n",
       "    <tr style=\"text-align: right;\">\n",
       "      <th></th>\n",
       "      <th>age</th>\n",
       "      <th>page_views</th>\n",
       "      <th>fpl_value</th>\n",
       "      <th>fpl_sel</th>\n",
       "      <th>fpl_points</th>\n",
       "      <th>new_foreign</th>\n",
       "      <th>big_club</th>\n",
       "      <th>new_signing</th>\n",
       "      <th>club_Arsenal</th>\n",
       "      <th>club_Bournemouth</th>\n",
       "      <th>...</th>\n",
       "      <th>region_1.0</th>\n",
       "      <th>region_2.0</th>\n",
       "      <th>region_3.0</th>\n",
       "      <th>region_4.0</th>\n",
       "      <th>age_cat_1</th>\n",
       "      <th>age_cat_2</th>\n",
       "      <th>age_cat_3</th>\n",
       "      <th>age_cat_4</th>\n",
       "      <th>age_cat_5</th>\n",
       "      <th>age_cat_6</th>\n",
       "    </tr>\n",
       "  </thead>\n",
       "  <tbody>\n",
       "    <tr>\n",
       "      <th>0</th>\n",
       "      <td>0.302009</td>\n",
       "      <td>3.830301</td>\n",
       "      <td>12.0</td>\n",
       "      <td>2.443911</td>\n",
       "      <td>3.895597</td>\n",
       "      <td>0</td>\n",
       "      <td>1</td>\n",
       "      <td>0</td>\n",
       "      <td>1</td>\n",
       "      <td>0</td>\n",
       "      <td>...</td>\n",
       "      <td>0</td>\n",
       "      <td>0</td>\n",
       "      <td>1</td>\n",
       "      <td>0</td>\n",
       "      <td>0</td>\n",
       "      <td>0</td>\n",
       "      <td>0</td>\n",
       "      <td>1</td>\n",
       "      <td>0</td>\n",
       "      <td>0</td>\n",
       "    </tr>\n",
       "    <tr>\n",
       "      <th>1</th>\n",
       "      <td>0.302009</td>\n",
       "      <td>3.901208</td>\n",
       "      <td>9.5</td>\n",
       "      <td>0.415513</td>\n",
       "      <td>2.067346</td>\n",
       "      <td>0</td>\n",
       "      <td>1</td>\n",
       "      <td>0</td>\n",
       "      <td>1</td>\n",
       "      <td>0</td>\n",
       "      <td>...</td>\n",
       "      <td>0</td>\n",
       "      <td>1</td>\n",
       "      <td>0</td>\n",
       "      <td>0</td>\n",
       "      <td>0</td>\n",
       "      <td>0</td>\n",
       "      <td>0</td>\n",
       "      <td>1</td>\n",
       "      <td>0</td>\n",
       "      <td>0</td>\n",
       "    </tr>\n",
       "  </tbody>\n",
       "</table>\n",
       "<p>2 rows × 55 columns</p>\n",
       "</div>"
      ],
      "text/plain": [
       "        age  page_views  fpl_value   fpl_sel  fpl_points  new_foreign  \\\n",
       "0  0.302009    3.830301       12.0  2.443911    3.895597            0   \n",
       "1  0.302009    3.901208        9.5  0.415513    2.067346            0   \n",
       "\n",
       "   big_club  new_signing  club_Arsenal  club_Bournemouth  ...  region_1.0  \\\n",
       "0         1            0             1                 0  ...           0   \n",
       "1         1            0             1                 0  ...           0   \n",
       "\n",
       "   region_2.0  region_3.0  region_4.0  age_cat_1  age_cat_2  age_cat_3  \\\n",
       "0           0           1           0          0          0          0   \n",
       "1           1           0           0          0          0          0   \n",
       "\n",
       "   age_cat_4  age_cat_5  age_cat_6  \n",
       "0          1          0          0  \n",
       "1          1          0          0  \n",
       "\n",
       "[2 rows x 55 columns]"
      ]
     },
     "execution_count": 7,
     "metadata": {},
     "output_type": "execute_result"
    }
   ],
   "source": [
    "data_normal = pre_process_original(data=data.copy())\n",
    "print(data_normal.shape)\n",
    "data_normal.head(2)"
   ]
  },
  {
   "cell_type": "code",
   "execution_count": 8,
   "id": "swedish-missile",
   "metadata": {
    "execution": {
     "iopub.execute_input": "2021-05-04T15:28:03.316097Z",
     "iopub.status.busy": "2021-05-04T15:28:03.313445Z",
     "iopub.status.idle": "2021-05-04T15:28:03.404931Z",
     "shell.execute_reply": "2021-05-04T15:28:03.405417Z"
    },
    "papermill": {
     "duration": 0.109624,
     "end_time": "2021-05-04T15:28:03.405591",
     "exception": false,
     "start_time": "2021-05-04T15:28:03.295967",
     "status": "completed"
    },
    "tags": []
   },
   "outputs": [
    {
     "name": "stdout",
     "output_type": "stream",
     "text": [
      "26.80477223427332 3.957592308299133 age\n",
      "763.7765726681127 930.7945734332158 page_views\n",
      "3.2442516268980475 5.6694977276052985 fpl_sel\n",
      "57.31453362255965 53.05617275805522 fpl_points\n",
      "(461, 13)\n"
     ]
    },
    {
     "data": {
      "text/html": [
       "<div>\n",
       "<style scoped>\n",
       "    .dataframe tbody tr th:only-of-type {\n",
       "        vertical-align: middle;\n",
       "    }\n",
       "\n",
       "    .dataframe tbody tr th {\n",
       "        vertical-align: top;\n",
       "    }\n",
       "\n",
       "    .dataframe thead th {\n",
       "        text-align: right;\n",
       "    }\n",
       "</style>\n",
       "<table border=\"1\" class=\"dataframe\">\n",
       "  <thead>\n",
       "    <tr style=\"text-align: right;\">\n",
       "      <th></th>\n",
       "      <th>club</th>\n",
       "      <th>age</th>\n",
       "      <th>position</th>\n",
       "      <th>position_cat</th>\n",
       "      <th>page_views</th>\n",
       "      <th>fpl_value</th>\n",
       "      <th>fpl_sel</th>\n",
       "      <th>fpl_points</th>\n",
       "      <th>region</th>\n",
       "      <th>new_foreign</th>\n",
       "      <th>age_cat</th>\n",
       "      <th>big_club</th>\n",
       "      <th>new_signing</th>\n",
       "    </tr>\n",
       "  </thead>\n",
       "  <tbody>\n",
       "    <tr>\n",
       "      <th>0</th>\n",
       "      <td>0.0</td>\n",
       "      <td>0.302009</td>\n",
       "      <td>8.0</td>\n",
       "      <td>0.0</td>\n",
       "      <td>3.830301</td>\n",
       "      <td>12.0</td>\n",
       "      <td>2.443911</td>\n",
       "      <td>3.895597</td>\n",
       "      <td>2.0</td>\n",
       "      <td>0</td>\n",
       "      <td>3.0</td>\n",
       "      <td>1</td>\n",
       "      <td>0</td>\n",
       "    </tr>\n",
       "    <tr>\n",
       "      <th>1</th>\n",
       "      <td>0.0</td>\n",
       "      <td>0.302009</td>\n",
       "      <td>0.0</td>\n",
       "      <td>0.0</td>\n",
       "      <td>3.901208</td>\n",
       "      <td>9.5</td>\n",
       "      <td>0.415513</td>\n",
       "      <td>2.067346</td>\n",
       "      <td>1.0</td>\n",
       "      <td>0</td>\n",
       "      <td>3.0</td>\n",
       "      <td>1</td>\n",
       "      <td>0</td>\n",
       "    </tr>\n",
       "  </tbody>\n",
       "</table>\n",
       "</div>"
      ],
      "text/plain": [
       "   club       age  position  position_cat  page_views  fpl_value   fpl_sel  \\\n",
       "0   0.0  0.302009       8.0           0.0    3.830301       12.0  2.443911   \n",
       "1   0.0  0.302009       0.0           0.0    3.901208        9.5  0.415513   \n",
       "\n",
       "   fpl_points  region  new_foreign  age_cat  big_club  new_signing  \n",
       "0    3.895597     2.0            0      3.0         1            0  \n",
       "1    2.067346     1.0            0      3.0         1            0  "
      ]
     },
     "execution_count": 8,
     "metadata": {},
     "output_type": "execute_result"
    }
   ],
   "source": [
    "data_ordinal = pre_process_tree(data=data.copy())\n",
    "print(data_ordinal.shape)\n",
    "data_ordinal.head(2)"
   ]
  },
  {
   "cell_type": "code",
   "execution_count": 9,
   "id": "selective-scott",
   "metadata": {
    "execution": {
     "iopub.execute_input": "2021-05-04T15:28:03.441494Z",
     "iopub.status.busy": "2021-05-04T15:28:03.440231Z",
     "iopub.status.idle": "2021-05-04T15:28:03.445216Z",
     "shell.execute_reply": "2021-05-04T15:28:03.444687Z"
    },
    "papermill": {
     "duration": 0.025412,
     "end_time": "2021-05-04T15:28:03.445354",
     "exception": false,
     "start_time": "2021-05-04T15:28:03.419942",
     "status": "completed"
    },
    "tags": []
   },
   "outputs": [],
   "source": [
    "# One-Hot encoded data\n",
    "train_dn, val_dn, train_ln, val_ln = train_test_split(data_normal.values,\n",
    "                                                      target.values,\n",
    "                                                      test_size=0.2,\n",
    "                                                      random_state=7)\n",
    "\n",
    "# Ordinal encoded data\n",
    "train_do, val_do, train_lo, val_lo = train_test_split(data_ordinal.values,\n",
    "                                                      target.values,\n",
    "                                                      test_size=0.2,\n",
    "                                                      random_state=7)"
   ]
  },
  {
   "cell_type": "markdown",
   "id": "passing-label",
   "metadata": {
    "papermill": {
     "duration": 0.014624,
     "end_time": "2021-05-04T15:28:03.474269",
     "exception": false,
     "start_time": "2021-05-04T15:28:03.459645",
     "status": "completed"
    },
    "tags": []
   },
   "source": [
    "# MODELLING"
   ]
  },
  {
   "cell_type": "code",
   "execution_count": 10,
   "id": "neutral-harvard",
   "metadata": {
    "execution": {
     "iopub.execute_input": "2021-05-04T15:28:03.516744Z",
     "iopub.status.busy": "2021-05-04T15:28:03.516076Z",
     "iopub.status.idle": "2021-05-04T15:28:03.518931Z",
     "shell.execute_reply": "2021-05-04T15:28:03.518338Z"
    },
    "papermill": {
     "duration": 0.030354,
     "end_time": "2021-05-04T15:28:03.519088",
     "exception": false,
     "start_time": "2021-05-04T15:28:03.488734",
     "status": "completed"
    },
    "tags": []
   },
   "outputs": [],
   "source": [
    "class HyperParamTuner:\n",
    "    def __init__(self, model_instance, params,train_data, train_label, val_data, val_label, cv=5, name=\"lasso\"):\n",
    "        # Init the model and the params to optimize\n",
    "        self.model_instance = model_instance\n",
    "        self.params = params\n",
    "        self.cv = cv\n",
    "        self.new_params = None\n",
    "        self.train_data = train_data\n",
    "        self.train_label = train_label\n",
    "        self.val_data = val_data\n",
    "        self.val_label = val_label\n",
    "        self.name = name\n",
    "    \n",
    "    def optimize_gscv(self):\n",
    "        # Activate the grid search cv instance\n",
    "        param_grid = GridSearchCV(estimator=self.model_instance(),\n",
    "                                  param_grid=self.params,\n",
    "                                  verbose=2,\n",
    "                                  n_jobs=-1,\n",
    "                                  cv=self.cv,\n",
    "                                  scoring=\"r2\")\n",
    "        \n",
    "        # Fit the model to grid search\n",
    "        param_grid.fit(X=self.train_data, y=self.train_label)\n",
    "        \n",
    "        # Assign the params\n",
    "        self.new_params = param_grid.best_params_\n",
    "        \n",
    "        # Return the best fitted params \n",
    "        return param_grid.best_params_\n",
    "    \n",
    "    def present_comparison(self):\n",
    "        model_default = self.model_instance()\n",
    "        model_default.fit(self.train_data, self.train_label)\n",
    "        # Print the old scores \n",
    "        mse_train_default = mean_squared_error(y_true=self.train_label, \n",
    "                                               y_pred=model_default.predict(self.train_data))\n",
    "        mse_val_default = mean_squared_error(y_true=self.val_label, \n",
    "                                             y_pred=model_default.predict(self.val_data))\n",
    "        \n",
    "        r2_train_default = r2_score(y_true=self.train_label, \n",
    "                                    y_pred=model_default.predict(self.train_data))\n",
    "        r2_val_default = r2_score(y_true=self.val_label, \n",
    "                                  y_pred=model_default.predict(self.val_data))\n",
    "        print(\"\\n\")\n",
    "        print(\"%s mse train default ==> %.5f\" % (self.name, mse_train_default))\n",
    "        print(\"%s mse val default ==> %.5f\" % (self.name, mse_val_default))\n",
    "        print(\"%s r2 train default ==> %.5f\" % (self.name, r2_train_default))\n",
    "        print(\"%s r2 val default ==> %.5f\" % (self.name, r2_val_default))\n",
    "        \n",
    "        \n",
    "        model_optimized = self.model_instance(**self.new_params)\n",
    "        model_optimized.fit(self.train_data, self.train_label)\n",
    "        # Print the old scores \n",
    "        mse_train_optimized = mean_squared_error(y_true=self.train_label, \n",
    "                                               y_pred=model_optimized.predict(self.train_data))\n",
    "        mse_val_optimized = mean_squared_error(y_true=self.val_label, \n",
    "                                             y_pred=model_optimized.predict(self.val_data))\n",
    "        \n",
    "        r2_train_optimized = r2_score(y_true=self.train_label, \n",
    "                                      y_pred=model_optimized.predict(self.train_data))\n",
    "        r2_val_optimized = r2_score(y_true=self.val_label, \n",
    "                                    y_pred=model_optimized.predict(self.val_data))\n",
    "        print(\"\\n\")\n",
    "        print(\"%s mse train optimized ==> %.5f\" % (self.name, mse_train_optimized))\n",
    "        print(\"%s mse val optimized ==> %.5f\" % (self.name, mse_val_optimized))\n",
    "        print(\"%s r2 train optimized ==> %.5f\" % (self.name, r2_train_optimized))\n",
    "        print(\"%s r2 val optimized ==> %.5f\" % (self.name, r2_val_optimized))"
   ]
  },
  {
   "cell_type": "code",
   "execution_count": 11,
   "id": "prescription-pizza",
   "metadata": {
    "execution": {
     "iopub.execute_input": "2021-05-04T15:28:03.554134Z",
     "iopub.status.busy": "2021-05-04T15:28:03.553503Z",
     "iopub.status.idle": "2021-05-04T15:28:05.227450Z",
     "shell.execute_reply": "2021-05-04T15:28:05.228549Z"
    },
    "papermill": {
     "duration": 1.695043,
     "end_time": "2021-05-04T15:28:05.228825",
     "exception": false,
     "start_time": "2021-05-04T15:28:03.533782",
     "status": "completed"
    },
    "tags": []
   },
   "outputs": [
    {
     "name": "stdout",
     "output_type": "stream",
     "text": [
      "Fitting 5 folds for each of 2 candidates, totalling 10 fits\n",
      "{'fit_intercept': False}\n",
      "\n",
      "\n",
      "Linear Regression mse train default ==> 25.18266\n",
      "Linear Regression mse val default ==> 19.69924\n",
      "Linear Regression r2 train default ==> 0.84263\n",
      "Linear Regression r2 val default ==> 0.81068\n",
      "\n",
      "\n",
      "Linear Regression mse train optimized ==> 25.18251\n",
      "Linear Regression mse val optimized ==> 19.68932\n",
      "Linear Regression r2 train optimized ==> 0.84263\n",
      "Linear Regression r2 val optimized ==> 0.81077\n"
     ]
    }
   ],
   "source": [
    "params = {\n",
    "    \"fit_intercept\": [True, False]\n",
    "}\n",
    "linear_reg_tuner = HyperParamTuner(model_instance=LinearRegression, params=params, train_data=train_dn,\n",
    "                                   train_label=train_ln, val_data=val_dn, val_label=val_ln,\n",
    "                                   name=\"Linear Regression\")\n",
    "print(linear_reg_tuner.optimize_gscv())\n",
    "linear_reg_tuner.present_comparison()"
   ]
  },
  {
   "cell_type": "code",
   "execution_count": 12,
   "id": "classical-remainder",
   "metadata": {
    "execution": {
     "iopub.execute_input": "2021-05-04T15:28:05.334103Z",
     "iopub.status.busy": "2021-05-04T15:28:05.333233Z",
     "iopub.status.idle": "2021-05-04T15:28:05.701148Z",
     "shell.execute_reply": "2021-05-04T15:28:05.702284Z"
    },
    "papermill": {
     "duration": 0.426165,
     "end_time": "2021-05-04T15:28:05.702543",
     "exception": false,
     "start_time": "2021-05-04T15:28:05.276378",
     "status": "completed"
    },
    "tags": []
   },
   "outputs": [
    {
     "name": "stdout",
     "output_type": "stream",
     "text": [
      "Fitting 5 folds for each of 30 candidates, totalling 150 fits\n",
      "{'alpha': 0.1, 'max_iter': 1500, 'selection': 'random'}\n",
      "\n",
      "\n",
      "Lasso Regression mse train default ==> 44.84268\n",
      "Lasso Regression mse val default ==> 30.37217\n",
      "Lasso Regression r2 train default ==> 0.71978\n",
      "Lasso Regression r2 val default ==> 0.70810\n",
      "\n",
      "\n",
      "Lasso Regression mse train optimized ==> 29.32603\n",
      "Lasso Regression mse val optimized ==> 17.88464\n",
      "Lasso Regression r2 train optimized ==> 0.81674\n",
      "Lasso Regression r2 val optimized ==> 0.82812\n"
     ]
    }
   ],
   "source": [
    "params = {\n",
    "    \"alpha\": [0.001, 0.1, 1, 10, 100],\n",
    "    \"selection\": [\"cyclic\", \"random\"],\n",
    "    \"max_iter\": [500, 1000, 1500],\n",
    "}\n",
    "lasso_reg_tuner = HyperParamTuner(model_instance=lm.Lasso, params=params, train_data=train_dn,\n",
    "                                  train_label=train_ln, val_data=val_dn, val_label=val_ln,\n",
    "                                  name=\"Lasso Regression\")\n",
    "print(lasso_reg_tuner.optimize_gscv())\n",
    "lasso_reg_tuner.present_comparison()"
   ]
  },
  {
   "cell_type": "code",
   "execution_count": 13,
   "id": "elegant-acquisition",
   "metadata": {
    "execution": {
     "iopub.execute_input": "2021-05-04T15:28:05.819310Z",
     "iopub.status.busy": "2021-05-04T15:28:05.818606Z",
     "iopub.status.idle": "2021-05-04T15:28:08.115253Z",
     "shell.execute_reply": "2021-05-04T15:28:08.116044Z"
    },
    "papermill": {
     "duration": 2.344419,
     "end_time": "2021-05-04T15:28:08.116314",
     "exception": false,
     "start_time": "2021-05-04T15:28:05.771895",
     "status": "completed"
    },
    "tags": []
   },
   "outputs": [
    {
     "name": "stdout",
     "output_type": "stream",
     "text": [
      "Fitting 5 folds for each of 105 candidates, totalling 525 fits\n",
      "{'alpha': 10, 'max_iter': 500, 'solver': 'svd'}\n",
      "\n",
      "\n",
      "Ridge Regression mse train default ==> 25.39708\n",
      "Ridge Regression mse val default ==> 18.34165\n",
      "Ridge Regression r2 train default ==> 0.84129\n",
      "Ridge Regression r2 val default ==> 0.82372\n",
      "\n",
      "\n",
      "Ridge Regression mse train optimized ==> 26.96904\n",
      "Ridge Regression mse val optimized ==> 16.62527\n",
      "Ridge Regression r2 train optimized ==> 0.83147\n",
      "Ridge Regression r2 val optimized ==> 0.84022\n"
     ]
    }
   ],
   "source": [
    "params = {\n",
    "    \"alpha\": [0.001, 0.1, 1, 10, 100],\n",
    "    \"max_iter\": [500, 1000, 1500],\n",
    "    \"solver\": [\"auto\", \"svd\", \"cholesky\", \"lsqr\", \"sparse_cg\", \"sag\", \"saga\"]\n",
    "}\n",
    "lasso_reg_tuner = HyperParamTuner(model_instance=lm.Ridge, params=params, train_data=train_dn,\n",
    "                                  train_label=train_ln, val_data=val_dn, val_label=val_ln,\n",
    "                                  name=\"Ridge Regression\", cv=5)\n",
    "print(lasso_reg_tuner.optimize_gscv())\n",
    "lasso_reg_tuner.present_comparison()"
   ]
  },
  {
   "cell_type": "code",
   "execution_count": 14,
   "id": "valid-vienna",
   "metadata": {
    "execution": {
     "iopub.execute_input": "2021-05-04T15:28:08.235086Z",
     "iopub.status.busy": "2021-05-04T15:28:08.234215Z",
     "iopub.status.idle": "2021-05-04T15:28:09.986275Z",
     "shell.execute_reply": "2021-05-04T15:28:09.987041Z"
    },
    "papermill": {
     "duration": 1.806502,
     "end_time": "2021-05-04T15:28:09.987340",
     "exception": false,
     "start_time": "2021-05-04T15:28:08.180838",
     "status": "completed"
    },
    "tags": []
   },
   "outputs": [
    {
     "name": "stdout",
     "output_type": "stream",
     "text": [
      "Fitting 5 folds for each of 200 candidates, totalling 1000 fits\n",
      "{'algorithm': 'auto', 'leaf_size': 10, 'n_neighbors': 8, 'weights': 'distance'}\n",
      "\n",
      "\n",
      "K-Nearest Neighbors mse train default ==> 28.47428\n",
      "K-Nearest Neighbors mse val default ==> 24.52769\n",
      "K-Nearest Neighbors r2 train default ==> 0.82206\n",
      "K-Nearest Neighbors r2 val default ==> 0.76427\n",
      "\n",
      "\n",
      "K-Nearest Neighbors mse train optimized ==> 0.00000\n",
      "K-Nearest Neighbors mse val optimized ==> 22.81316\n",
      "K-Nearest Neighbors r2 train optimized ==> 1.00000\n",
      "K-Nearest Neighbors r2 val optimized ==> 0.78075\n"
     ]
    }
   ],
   "source": [
    "params = {\n",
    "    \"n_neighbors\": [2, 3, 6, 8, 10],\n",
    "    \"weights\": [\"uniform\", \"distance\"],\n",
    "    \"algorithm\": [\"auto\", \"ball_tree\", \"kd_tree\", \"brute\"],\n",
    "    \"leaf_size\": [10, 20, 30, 40, 50]\n",
    "}\n",
    "knn_tuner = HyperParamTuner(model_instance=ng.KNeighborsRegressor, params=params, train_data=train_dn,\n",
    "                                  train_label=train_ln, val_data=val_dn, val_label=val_ln,\n",
    "                                  name=\"K-Nearest Neighbors\")\n",
    "print(knn_tuner.optimize_gscv())\n",
    "knn_tuner.present_comparison()"
   ]
  },
  {
   "cell_type": "code",
   "execution_count": 15,
   "id": "coated-backing",
   "metadata": {
    "execution": {
     "iopub.execute_input": "2021-05-04T15:28:10.065949Z",
     "iopub.status.busy": "2021-05-04T15:28:10.064834Z",
     "iopub.status.idle": "2021-05-04T15:28:23.297004Z",
     "shell.execute_reply": "2021-05-04T15:28:23.296446Z"
    },
    "papermill": {
     "duration": 13.274218,
     "end_time": "2021-05-04T15:28:23.297163",
     "exception": false,
     "start_time": "2021-05-04T15:28:10.022945",
     "status": "completed"
    },
    "tags": []
   },
   "outputs": [
    {
     "name": "stdout",
     "output_type": "stream",
     "text": [
      "Fitting 5 folds for each of 150 candidates, totalling 750 fits\n",
      "{'C': 100, 'degree': 1, 'gamma': 'auto', 'kernel': 'rbf'}\n",
      "\n",
      "\n",
      "Support Vector Regressor mse train default ==> 71.76643\n",
      "Support Vector Regressor mse val default ==> 42.67468\n",
      "Support Vector Regressor r2 train default ==> 0.55153\n",
      "Support Vector Regressor r2 val default ==> 0.58987\n",
      "\n",
      "\n",
      "Support Vector Regressor mse train optimized ==> 10.85431\n",
      "Support Vector Regressor mse val optimized ==> 13.39847\n",
      "Support Vector Regressor r2 train optimized ==> 0.93217\n",
      "Support Vector Regressor r2 val optimized ==> 0.87123\n"
     ]
    }
   ],
   "source": [
    "params = {\n",
    "    \"kernel\": [\"linear\", \"rbf\", \"sigmoid\"],\n",
    "    \"degree\": [1, 2, 3, 4, 5],\n",
    "    \"gamma\": [\"auto\", \"scale\"],\n",
    "    \"C\": [0.001, 0.1, 1, 10, 100]\n",
    "}\n",
    "svr_tuner = HyperParamTuner(model_instance=svm.SVR, params=params, train_data=train_dn,\n",
    "                                  train_label=train_ln, val_data=val_dn, val_label=val_ln,\n",
    "                                  name=\"Support Vector Regressor\")\n",
    "print(svr_tuner.optimize_gscv())\n",
    "svr_tuner.present_comparison()"
   ]
  },
  {
   "cell_type": "code",
   "execution_count": 16,
   "id": "artificial-latino",
   "metadata": {
    "execution": {
     "iopub.execute_input": "2021-05-04T15:28:23.340397Z",
     "iopub.status.busy": "2021-05-04T15:28:23.339330Z",
     "iopub.status.idle": "2021-05-04T15:28:24.631209Z",
     "shell.execute_reply": "2021-05-04T15:28:24.631652Z"
    },
    "papermill": {
     "duration": 1.317138,
     "end_time": "2021-05-04T15:28:24.631813",
     "exception": false,
     "start_time": "2021-05-04T15:28:23.314675",
     "status": "completed"
    },
    "tags": []
   },
   "outputs": [
    {
     "name": "stdout",
     "output_type": "stream",
     "text": [
      "Fitting 5 folds for each of 160 candidates, totalling 800 fits\n",
      "{'criterion': 'mae', 'max_depth': 6, 'min_samples_leaf': 3, 'splitter': 'random'}\n",
      "\n",
      "\n",
      "Decision Tree Regressor mse train default ==> 0.00000\n",
      "Decision Tree Regressor mse val default ==> 35.38995\n",
      "Decision Tree Regressor r2 train default ==> 1.00000\n",
      "Decision Tree Regressor r2 val default ==> 0.65988\n",
      "\n",
      "\n",
      "Decision Tree Regressor mse train optimized ==> 30.26789\n",
      "Decision Tree Regressor mse val optimized ==> 30.01642\n",
      "Decision Tree Regressor r2 train optimized ==> 0.81086\n",
      "Decision Tree Regressor r2 val optimized ==> 0.71152\n"
     ]
    }
   ],
   "source": [
    "params = {\n",
    "    \"criterion\": [\"mse\", \"friedman_mse\", \"mae\", \"poisson\"],\n",
    "    \"splitter\": [\"best\", \"random\"],\n",
    "    \"max_depth\": [2, 4, 6, 8, 10],\n",
    "    \"min_samples_leaf\": [1, 2, 3, 4]\n",
    "}\n",
    "dt_tuner = HyperParamTuner(model_instance=tree.DecisionTreeRegressor, params=params, train_data=train_do,\n",
    "                                  train_label=train_lo, val_data=val_do, val_label=val_lo,\n",
    "                                  name=\"Decision Tree Regressor\")\n",
    "print(dt_tuner.optimize_gscv())\n",
    "dt_tuner.present_comparison()"
   ]
  },
  {
   "cell_type": "code",
   "execution_count": 17,
   "id": "disciplinary-license",
   "metadata": {
    "execution": {
     "iopub.execute_input": "2021-05-04T15:28:24.673219Z",
     "iopub.status.busy": "2021-05-04T15:28:24.672639Z",
     "iopub.status.idle": "2021-05-04T15:30:05.114371Z",
     "shell.execute_reply": "2021-05-04T15:30:05.113836Z"
    },
    "papermill": {
     "duration": 100.463147,
     "end_time": "2021-05-04T15:30:05.114534",
     "exception": false,
     "start_time": "2021-05-04T15:28:24.651387",
     "status": "completed"
    },
    "tags": []
   },
   "outputs": [
    {
     "name": "stdout",
     "output_type": "stream",
     "text": [
      "Fitting 5 folds for each of 240 candidates, totalling 1200 fits\n",
      "{'max_depth': 10, 'max_features': 'sqrt', 'min_samples_leaf': 1, 'n_estimators': 200}\n",
      "\n",
      "\n",
      "Random Forest Regressor mse train default ==> 5.46292\n",
      "Random Forest Regressor mse val default ==> 24.96168\n",
      "Random Forest Regressor r2 train default ==> 0.96586\n",
      "Random Forest Regressor r2 val default ==> 0.76010\n",
      "\n",
      "\n",
      "Random Forest Regressor mse train optimized ==> 5.79417\n",
      "Random Forest Regressor mse val optimized ==> 19.53876\n",
      "Random Forest Regressor r2 train optimized ==> 0.96379\n",
      "Random Forest Regressor r2 val optimized ==> 0.81222\n"
     ]
    }
   ],
   "source": [
    "params = {\n",
    "    \"n_estimators\": [50, 100, 150, 200],\n",
    "    \"max_features\": [\"auto\", \"sqrt\", \"log2\"],\n",
    "    \"max_depth\": [2, 4, 6, 8, 10],\n",
    "    \"min_samples_leaf\": [1, 2, 3, 4]\n",
    "}\n",
    "random_forest_tuner = HyperParamTuner(model_instance=en.RandomForestRegressor, params=params,train_data=train_do,\n",
    "                                  train_label=train_lo, val_data=val_do, val_label=val_lo,\n",
    "                                  name=\"Random Forest Regressor\")\n",
    "print(random_forest_tuner.optimize_gscv())\n",
    "random_forest_tuner.present_comparison()"
   ]
  },
  {
   "cell_type": "code",
   "execution_count": 18,
   "id": "solar-marine",
   "metadata": {
    "execution": {
     "iopub.execute_input": "2021-05-04T15:30:05.160395Z",
     "iopub.status.busy": "2021-05-04T15:30:05.159459Z",
     "iopub.status.idle": "2021-05-04T15:32:49.847118Z",
     "shell.execute_reply": "2021-05-04T15:32:49.846606Z"
    },
    "papermill": {
     "duration": 164.713369,
     "end_time": "2021-05-04T15:32:49.847289",
     "exception": false,
     "start_time": "2021-05-04T15:30:05.133920",
     "status": "completed"
    },
    "tags": []
   },
   "outputs": [
    {
     "name": "stdout",
     "output_type": "stream",
     "text": [
      "Fitting 5 folds for each of 288 candidates, totalling 1440 fits\n",
      "{'learning_rate': 0.1, 'loss': 'huber', 'max_depth': 5, 'max_features': 'sqrt', 'min_samples_leaf': 5}\n",
      "\n",
      "\n",
      "Gradient Boosting Regressor mse train default ==> 5.75137\n",
      "Gradient Boosting Regressor mse val default ==> 22.13504\n",
      "Gradient Boosting Regressor r2 train default ==> 0.96406\n",
      "Gradient Boosting Regressor r2 val default ==> 0.78727\n",
      "\n",
      "\n",
      "Gradient Boosting Regressor mse train optimized ==> 4.73390\n",
      "Gradient Boosting Regressor mse val optimized ==> 14.00940\n",
      "Gradient Boosting Regressor r2 train optimized ==> 0.97042\n",
      "Gradient Boosting Regressor r2 val optimized ==> 0.86536\n"
     ]
    }
   ],
   "source": [
    "params = {\n",
    "    \"loss\": [\"ls\", \"lad\", \"huber\"],\n",
    "    \"learning_rate\": [0.01, 0.1],\n",
    "    \"min_samples_leaf\": [3, 4, 5, 6],\n",
    "    \"max_depth\": [2, 3, 4, 5],\n",
    "    \"max_features\": [\"auto\", \"sqrt\", \"log2\"],\n",
    "}\n",
    "gradient_boost_tuner = HyperParamTuner(model_instance=en.GradientBoostingRegressor, params=params,train_data=train_do,\n",
    "                                       train_label=train_lo, val_data=val_do, val_label=val_lo,\n",
    "                                       name=\"Gradient Boosting Regressor\")\n",
    "print(gradient_boost_tuner.optimize_gscv())\n",
    "gradient_boost_tuner.present_comparison()"
   ]
  },
  {
   "cell_type": "code",
   "execution_count": 19,
   "id": "documentary-africa",
   "metadata": {
    "execution": {
     "iopub.execute_input": "2021-05-04T15:32:49.895696Z",
     "iopub.status.busy": "2021-05-04T15:32:49.894696Z",
     "iopub.status.idle": "2021-05-04T15:33:06.167047Z",
     "shell.execute_reply": "2021-05-04T15:33:06.166385Z"
    },
    "papermill": {
     "duration": 16.299611,
     "end_time": "2021-05-04T15:33:06.167194",
     "exception": false,
     "start_time": "2021-05-04T15:32:49.867583",
     "status": "completed"
    },
    "tags": []
   },
   "outputs": [
    {
     "name": "stdout",
     "output_type": "stream",
     "text": [
      "Fitting 5 folds for each of 36 candidates, totalling 180 fits\n",
      "{'learning_rate': 1, 'loss': 'square', 'n_estimators': 50}\n",
      "\n",
      "\n",
      "Ada Boost Regressor mse train default ==> 23.68108\n",
      "Ada Boost Regressor mse val default ==> 34.43772\n",
      "Ada Boost Regressor r2 train default ==> 0.85202\n",
      "Ada Boost Regressor r2 val default ==> 0.66903\n",
      "\n",
      "\n",
      "Ada Boost Regressor mse train optimized ==> 21.62466\n",
      "Ada Boost Regressor mse val optimized ==> 27.49887\n",
      "Ada Boost Regressor r2 train optimized ==> 0.86487\n",
      "Ada Boost Regressor r2 val optimized ==> 0.73572\n"
     ]
    }
   ],
   "source": [
    "params = {\n",
    "    \"learning_rate\": [0.01, 0.1, 1],\n",
    "    \"loss\": [\"linear\", \"square\", \"exponential\"],\n",
    "    \"n_estimators\": [50, 100, 150, 200]\n",
    "}\n",
    "ada_boost_tuner = HyperParamTuner(model_instance=en.AdaBoostRegressor, params=params,train_data=train_do,\n",
    "                                  train_label=train_lo, val_data=val_do, val_label=val_lo,\n",
    "                                  name=\"Ada Boost Regressor\")\n",
    "print(ada_boost_tuner.optimize_gscv())\n",
    "ada_boost_tuner.present_comparison()"
   ]
  }
 ],
 "metadata": {
  "kernelspec": {
   "display_name": "Python 3",
   "language": "python",
   "name": "python3"
  },
  "language_info": {
   "codemirror_mode": {
    "name": "ipython",
    "version": 3
   },
   "file_extension": ".py",
   "mimetype": "text/x-python",
   "name": "python",
   "nbconvert_exporter": "python",
   "pygments_lexer": "ipython3",
   "version": "3.8.8"
  },
  "papermill": {
   "default_parameters": {},
   "duration": 313.937664,
   "end_time": "2021-05-04T15:33:07.733741",
   "environment_variables": {},
   "exception": null,
   "input_path": "__notebook__.ipynb",
   "output_path": "__notebook__.ipynb",
   "parameters": {},
   "start_time": "2021-05-04T15:27:53.796077",
   "version": "2.3.3"
  }
 },
 "nbformat": 4,
 "nbformat_minor": 5
}
