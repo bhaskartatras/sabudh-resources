{
  "nbformat": 4,
  "nbformat_minor": 0,
  "metadata": {
    "colab": {
      "name": "Intro_to_Pandas.ipynb",
      "provenance": [],
      "collapsed_sections": []
    },
    "kernelspec": {
      "name": "python3",
      "display_name": "Python 3"
    }
  },
  "cells": [
    {
      "cell_type": "markdown",
      "metadata": {
        "id": "bCWMbm67VAJ2"
      },
      "source": [
        "![download.png](data:image/png;base64,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)\n",
        "\n",
        "# **Pandas Introduction**"
      ]
    },
    {
      "cell_type": "markdown",
      "metadata": {
        "id": "pEE95jGEfpHj"
      },
      "source": [
        "Pandas is a Python library which is extensively used in data analytics to read csv files and perform operations and do analysis using it. \n",
        "\n",
        "Today we'll be covering following topics\n",
        "1. DataFrame vs Series\n",
        "2. Reading and manipulation of data"
      ]
    },
    {
      "cell_type": "markdown",
      "metadata": {
        "id": "cs11YfhmgkTK"
      },
      "source": [
        "###**1. Import the package**"
      ]
    },
    {
      "cell_type": "markdown",
      "metadata": {
        "id": "PVuXQ3mUg3ZW"
      },
      "source": [
        "Before getting started with pandas import the library pandas. 'pd' is standard alias used for pandas, set by the community"
      ]
    },
    {
      "cell_type": "code",
      "metadata": {
        "id": "UejkZo6OfShi"
      },
      "source": [
        "import pandas as pd"
      ],
      "execution_count": 1,
      "outputs": []
    },
    {
      "cell_type": "markdown",
      "metadata": {
        "id": "EMjjsrVGhhD1"
      },
      "source": [
        "###**2. Create DataFrame**"
      ]
    },
    {
      "cell_type": "markdown",
      "metadata": {
        "id": "stqeae9blPEi"
      },
      "source": [
        "### So what is Dataframe ?\n",
        "* A DataFrame is a 2-dimensional data structure that can store data of different \n",
        "types (including characters, integers, floating point values, categorical data and more) in columns. \n",
        "* It is similar to a spreadsheet"
      ]
    },
    {
      "cell_type": "markdown",
      "metadata": {
        "id": "cydUyD_oltf4"
      },
      "source": [
        "Q1. Create a dataframe vegeatables that looks like the diagram given below"
      ]
    },
    {
      "cell_type": "code",
      "metadata": {
        "colab": {
          "base_uri": "https://localhost:8080/",
          "height": 112
        },
        "id": "AHYDb1dtg15b",
        "outputId": "bf317b18-b2c6-4dee-86ab-e49c8e66658f"
      },
      "source": [
        "# Assign the dataframe to a variable names vegetables\n",
        "vegetables = pd.DataFrame([[50,60], [100, 21]], columns=['Cauliflower', 'Cabbage'])\n",
        "vegetables"
      ],
      "execution_count": 11,
      "outputs": [
        {
          "output_type": "execute_result",
          "data": {
            "text/plain": [
              "   Cauliflower  Cabbage\n",
              "0           50       60\n",
              "1          100       21"
            ],
            "text/html": [
              "\n",
              "  <div id=\"df-d99a0232-4a6a-4bee-836f-3b7e32842e12\">\n",
              "    <div class=\"colab-df-container\">\n",
              "      <div>\n",
              "<style scoped>\n",
              "    .dataframe tbody tr th:only-of-type {\n",
              "        vertical-align: middle;\n",
              "    }\n",
              "\n",
              "    .dataframe tbody tr th {\n",
              "        vertical-align: top;\n",
              "    }\n",
              "\n",
              "    .dataframe thead th {\n",
              "        text-align: right;\n",
              "    }\n",
              "</style>\n",
              "<table border=\"1\" class=\"dataframe\">\n",
              "  <thead>\n",
              "    <tr style=\"text-align: right;\">\n",
              "      <th></th>\n",
              "      <th>Cauliflower</th>\n",
              "      <th>Cabbage</th>\n",
              "    </tr>\n",
              "  </thead>\n",
              "  <tbody>\n",
              "    <tr>\n",
              "      <th>0</th>\n",
              "      <td>50</td>\n",
              "      <td>60</td>\n",
              "    </tr>\n",
              "    <tr>\n",
              "      <th>1</th>\n",
              "      <td>100</td>\n",
              "      <td>21</td>\n",
              "    </tr>\n",
              "  </tbody>\n",
              "</table>\n",
              "</div>\n",
              "      <button class=\"colab-df-convert\" onclick=\"convertToInteractive('df-d99a0232-4a6a-4bee-836f-3b7e32842e12')\"\n",
              "              title=\"Convert this dataframe to an interactive table.\"\n",
              "              style=\"display:none;\">\n",
              "        \n",
              "  <svg xmlns=\"http://www.w3.org/2000/svg\" height=\"24px\"viewBox=\"0 0 24 24\"\n",
              "       width=\"24px\">\n",
              "    <path d=\"M0 0h24v24H0V0z\" fill=\"none\"/>\n",
              "    <path d=\"M18.56 5.44l.94 2.06.94-2.06 2.06-.94-2.06-.94-.94-2.06-.94 2.06-2.06.94zm-11 1L8.5 8.5l.94-2.06 2.06-.94-2.06-.94L8.5 2.5l-.94 2.06-2.06.94zm10 10l.94 2.06.94-2.06 2.06-.94-2.06-.94-.94-2.06-.94 2.06-2.06.94z\"/><path d=\"M17.41 7.96l-1.37-1.37c-.4-.4-.92-.59-1.43-.59-.52 0-1.04.2-1.43.59L10.3 9.45l-7.72 7.72c-.78.78-.78 2.05 0 2.83L4 21.41c.39.39.9.59 1.41.59.51 0 1.02-.2 1.41-.59l7.78-7.78 2.81-2.81c.8-.78.8-2.07 0-2.86zM5.41 20L4 18.59l7.72-7.72 1.47 1.35L5.41 20z\"/>\n",
              "  </svg>\n",
              "      </button>\n",
              "      \n",
              "  <style>\n",
              "    .colab-df-container {\n",
              "      display:flex;\n",
              "      flex-wrap:wrap;\n",
              "      gap: 12px;\n",
              "    }\n",
              "\n",
              "    .colab-df-convert {\n",
              "      background-color: #E8F0FE;\n",
              "      border: none;\n",
              "      border-radius: 50%;\n",
              "      cursor: pointer;\n",
              "      display: none;\n",
              "      fill: #1967D2;\n",
              "      height: 32px;\n",
              "      padding: 0 0 0 0;\n",
              "      width: 32px;\n",
              "    }\n",
              "\n",
              "    .colab-df-convert:hover {\n",
              "      background-color: #E2EBFA;\n",
              "      box-shadow: 0px 1px 2px rgba(60, 64, 67, 0.3), 0px 1px 3px 1px rgba(60, 64, 67, 0.15);\n",
              "      fill: #174EA6;\n",
              "    }\n",
              "\n",
              "    [theme=dark] .colab-df-convert {\n",
              "      background-color: #3B4455;\n",
              "      fill: #D2E3FC;\n",
              "    }\n",
              "\n",
              "    [theme=dark] .colab-df-convert:hover {\n",
              "      background-color: #434B5C;\n",
              "      box-shadow: 0px 1px 3px 1px rgba(0, 0, 0, 0.15);\n",
              "      filter: drop-shadow(0px 1px 2px rgba(0, 0, 0, 0.3));\n",
              "      fill: #FFFFFF;\n",
              "    }\n",
              "  </style>\n",
              "\n",
              "      <script>\n",
              "        const buttonEl =\n",
              "          document.querySelector('#df-d99a0232-4a6a-4bee-836f-3b7e32842e12 button.colab-df-convert');\n",
              "        buttonEl.style.display =\n",
              "          google.colab.kernel.accessAllowed ? 'block' : 'none';\n",
              "\n",
              "        async function convertToInteractive(key) {\n",
              "          const element = document.querySelector('#df-d99a0232-4a6a-4bee-836f-3b7e32842e12');\n",
              "          const dataTable =\n",
              "            await google.colab.kernel.invokeFunction('convertToInteractive',\n",
              "                                                     [key], {});\n",
              "          if (!dataTable) return;\n",
              "\n",
              "          const docLinkHtml = 'Like what you see? Visit the ' +\n",
              "            '<a target=\"_blank\" href=https://colab.research.google.com/notebooks/data_table.ipynb>data table notebook</a>'\n",
              "            + ' to learn more about interactive tables.';\n",
              "          element.innerHTML = '';\n",
              "          dataTable['output_type'] = 'display_data';\n",
              "          await google.colab.output.renderOutput(dataTable, element);\n",
              "          const docLink = document.createElement('div');\n",
              "          docLink.innerHTML = docLinkHtml;\n",
              "          element.appendChild(docLink);\n",
              "        }\n",
              "      </script>\n",
              "    </div>\n",
              "  </div>\n",
              "  "
            ]
          },
          "metadata": {},
          "execution_count": 11
        }
      ]
    },
    {
      "cell_type": "markdown",
      "metadata": {
        "id": "xtpAL5zejeH_"
      },
      "source": [
        "Q2. Create a dataframe vegetables that records data for two veggies, that is, 'Cauliflower' and 'Cabbage'. The dataframe should tell us how many veggies of each kind are present in two carts A and B"
      ]
    },
    {
      "cell_type": "code",
      "metadata": {
        "colab": {
          "base_uri": "https://localhost:8080/",
          "height": 112
        },
        "id": "N6zXSVsEjP3d",
        "outputId": "c91a9216-f32e-4443-eb39-5812fcc41a40"
      },
      "source": [
        "# Assign the required dataframe to the variable vegetables\n",
        "vegetables = pd.DataFrame([[30,40], [50,60]], columns=['Cauliflower', 'Cabbage'], index=['Cart A', 'Cart B'])\n",
        "vegetables"
      ],
      "execution_count": 12,
      "outputs": [
        {
          "output_type": "execute_result",
          "data": {
            "text/plain": [
              "        Cauliflower  Cabbage\n",
              "Cart A           30       40\n",
              "Cart B           50       60"
            ],
            "text/html": [
              "\n",
              "  <div id=\"df-1b45926d-eb9c-43ef-a6de-03aef592d1f6\">\n",
              "    <div class=\"colab-df-container\">\n",
              "      <div>\n",
              "<style scoped>\n",
              "    .dataframe tbody tr th:only-of-type {\n",
              "        vertical-align: middle;\n",
              "    }\n",
              "\n",
              "    .dataframe tbody tr th {\n",
              "        vertical-align: top;\n",
              "    }\n",
              "\n",
              "    .dataframe thead th {\n",
              "        text-align: right;\n",
              "    }\n",
              "</style>\n",
              "<table border=\"1\" class=\"dataframe\">\n",
              "  <thead>\n",
              "    <tr style=\"text-align: right;\">\n",
              "      <th></th>\n",
              "      <th>Cauliflower</th>\n",
              "      <th>Cabbage</th>\n",
              "    </tr>\n",
              "  </thead>\n",
              "  <tbody>\n",
              "    <tr>\n",
              "      <th>Cart A</th>\n",
              "      <td>30</td>\n",
              "      <td>40</td>\n",
              "    </tr>\n",
              "    <tr>\n",
              "      <th>Cart B</th>\n",
              "      <td>50</td>\n",
              "      <td>60</td>\n",
              "    </tr>\n",
              "  </tbody>\n",
              "</table>\n",
              "</div>\n",
              "      <button class=\"colab-df-convert\" onclick=\"convertToInteractive('df-1b45926d-eb9c-43ef-a6de-03aef592d1f6')\"\n",
              "              title=\"Convert this dataframe to an interactive table.\"\n",
              "              style=\"display:none;\">\n",
              "        \n",
              "  <svg xmlns=\"http://www.w3.org/2000/svg\" height=\"24px\"viewBox=\"0 0 24 24\"\n",
              "       width=\"24px\">\n",
              "    <path d=\"M0 0h24v24H0V0z\" fill=\"none\"/>\n",
              "    <path d=\"M18.56 5.44l.94 2.06.94-2.06 2.06-.94-2.06-.94-.94-2.06-.94 2.06-2.06.94zm-11 1L8.5 8.5l.94-2.06 2.06-.94-2.06-.94L8.5 2.5l-.94 2.06-2.06.94zm10 10l.94 2.06.94-2.06 2.06-.94-2.06-.94-.94-2.06-.94 2.06-2.06.94z\"/><path d=\"M17.41 7.96l-1.37-1.37c-.4-.4-.92-.59-1.43-.59-.52 0-1.04.2-1.43.59L10.3 9.45l-7.72 7.72c-.78.78-.78 2.05 0 2.83L4 21.41c.39.39.9.59 1.41.59.51 0 1.02-.2 1.41-.59l7.78-7.78 2.81-2.81c.8-.78.8-2.07 0-2.86zM5.41 20L4 18.59l7.72-7.72 1.47 1.35L5.41 20z\"/>\n",
              "  </svg>\n",
              "      </button>\n",
              "      \n",
              "  <style>\n",
              "    .colab-df-container {\n",
              "      display:flex;\n",
              "      flex-wrap:wrap;\n",
              "      gap: 12px;\n",
              "    }\n",
              "\n",
              "    .colab-df-convert {\n",
              "      background-color: #E8F0FE;\n",
              "      border: none;\n",
              "      border-radius: 50%;\n",
              "      cursor: pointer;\n",
              "      display: none;\n",
              "      fill: #1967D2;\n",
              "      height: 32px;\n",
              "      padding: 0 0 0 0;\n",
              "      width: 32px;\n",
              "    }\n",
              "\n",
              "    .colab-df-convert:hover {\n",
              "      background-color: #E2EBFA;\n",
              "      box-shadow: 0px 1px 2px rgba(60, 64, 67, 0.3), 0px 1px 3px 1px rgba(60, 64, 67, 0.15);\n",
              "      fill: #174EA6;\n",
              "    }\n",
              "\n",
              "    [theme=dark] .colab-df-convert {\n",
              "      background-color: #3B4455;\n",
              "      fill: #D2E3FC;\n",
              "    }\n",
              "\n",
              "    [theme=dark] .colab-df-convert:hover {\n",
              "      background-color: #434B5C;\n",
              "      box-shadow: 0px 1px 3px 1px rgba(0, 0, 0, 0.15);\n",
              "      filter: drop-shadow(0px 1px 2px rgba(0, 0, 0, 0.3));\n",
              "      fill: #FFFFFF;\n",
              "    }\n",
              "  </style>\n",
              "\n",
              "      <script>\n",
              "        const buttonEl =\n",
              "          document.querySelector('#df-1b45926d-eb9c-43ef-a6de-03aef592d1f6 button.colab-df-convert');\n",
              "        buttonEl.style.display =\n",
              "          google.colab.kernel.accessAllowed ? 'block' : 'none';\n",
              "\n",
              "        async function convertToInteractive(key) {\n",
              "          const element = document.querySelector('#df-1b45926d-eb9c-43ef-a6de-03aef592d1f6');\n",
              "          const dataTable =\n",
              "            await google.colab.kernel.invokeFunction('convertToInteractive',\n",
              "                                                     [key], {});\n",
              "          if (!dataTable) return;\n",
              "\n",
              "          const docLinkHtml = 'Like what you see? Visit the ' +\n",
              "            '<a target=\"_blank\" href=https://colab.research.google.com/notebooks/data_table.ipynb>data table notebook</a>'\n",
              "            + ' to learn more about interactive tables.';\n",
              "          element.innerHTML = '';\n",
              "          dataTable['output_type'] = 'display_data';\n",
              "          await google.colab.output.renderOutput(dataTable, element);\n",
              "          const docLink = document.createElement('div');\n",
              "          docLink.innerHTML = docLinkHtml;\n",
              "          element.appendChild(docLink);\n",
              "        }\n",
              "      </script>\n",
              "    </div>\n",
              "  </div>\n",
              "  "
            ]
          },
          "metadata": {},
          "execution_count": 12
        }
      ]
    },
    {
      "cell_type": "markdown",
      "metadata": {
        "id": "mf_kColvI5Dv"
      },
      "source": [
        "### Adding new rows and columns to dataframe"
      ]
    },
    {
      "cell_type": "code",
      "metadata": {
        "colab": {
          "base_uri": "https://localhost:8080/",
          "height": 112
        },
        "id": "ZokCulttMShf",
        "outputId": "9aeb08bc-a0a9-4568-cb52-38da51e69f75"
      },
      "source": [
        "# Adding new column to the dataframe\n",
        "potato = [70, 80]\n",
        "vegetables['Potato'] = potato\n",
        "\n",
        "vegetables.head()"
      ],
      "execution_count": 15,
      "outputs": [
        {
          "output_type": "execute_result",
          "data": {
            "text/plain": [
              "        Cauliflower  Cabbage  Potato\n",
              "Cart A           30       40      70\n",
              "Cart B           50       60      80"
            ],
            "text/html": [
              "\n",
              "  <div id=\"df-916f657e-f6f8-44fc-adef-dd4fb16b96ac\">\n",
              "    <div class=\"colab-df-container\">\n",
              "      <div>\n",
              "<style scoped>\n",
              "    .dataframe tbody tr th:only-of-type {\n",
              "        vertical-align: middle;\n",
              "    }\n",
              "\n",
              "    .dataframe tbody tr th {\n",
              "        vertical-align: top;\n",
              "    }\n",
              "\n",
              "    .dataframe thead th {\n",
              "        text-align: right;\n",
              "    }\n",
              "</style>\n",
              "<table border=\"1\" class=\"dataframe\">\n",
              "  <thead>\n",
              "    <tr style=\"text-align: right;\">\n",
              "      <th></th>\n",
              "      <th>Cauliflower</th>\n",
              "      <th>Cabbage</th>\n",
              "      <th>Potato</th>\n",
              "    </tr>\n",
              "  </thead>\n",
              "  <tbody>\n",
              "    <tr>\n",
              "      <th>Cart A</th>\n",
              "      <td>30</td>\n",
              "      <td>40</td>\n",
              "      <td>70</td>\n",
              "    </tr>\n",
              "    <tr>\n",
              "      <th>Cart B</th>\n",
              "      <td>50</td>\n",
              "      <td>60</td>\n",
              "      <td>80</td>\n",
              "    </tr>\n",
              "  </tbody>\n",
              "</table>\n",
              "</div>\n",
              "      <button class=\"colab-df-convert\" onclick=\"convertToInteractive('df-916f657e-f6f8-44fc-adef-dd4fb16b96ac')\"\n",
              "              title=\"Convert this dataframe to an interactive table.\"\n",
              "              style=\"display:none;\">\n",
              "        \n",
              "  <svg xmlns=\"http://www.w3.org/2000/svg\" height=\"24px\"viewBox=\"0 0 24 24\"\n",
              "       width=\"24px\">\n",
              "    <path d=\"M0 0h24v24H0V0z\" fill=\"none\"/>\n",
              "    <path d=\"M18.56 5.44l.94 2.06.94-2.06 2.06-.94-2.06-.94-.94-2.06-.94 2.06-2.06.94zm-11 1L8.5 8.5l.94-2.06 2.06-.94-2.06-.94L8.5 2.5l-.94 2.06-2.06.94zm10 10l.94 2.06.94-2.06 2.06-.94-2.06-.94-.94-2.06-.94 2.06-2.06.94z\"/><path d=\"M17.41 7.96l-1.37-1.37c-.4-.4-.92-.59-1.43-.59-.52 0-1.04.2-1.43.59L10.3 9.45l-7.72 7.72c-.78.78-.78 2.05 0 2.83L4 21.41c.39.39.9.59 1.41.59.51 0 1.02-.2 1.41-.59l7.78-7.78 2.81-2.81c.8-.78.8-2.07 0-2.86zM5.41 20L4 18.59l7.72-7.72 1.47 1.35L5.41 20z\"/>\n",
              "  </svg>\n",
              "      </button>\n",
              "      \n",
              "  <style>\n",
              "    .colab-df-container {\n",
              "      display:flex;\n",
              "      flex-wrap:wrap;\n",
              "      gap: 12px;\n",
              "    }\n",
              "\n",
              "    .colab-df-convert {\n",
              "      background-color: #E8F0FE;\n",
              "      border: none;\n",
              "      border-radius: 50%;\n",
              "      cursor: pointer;\n",
              "      display: none;\n",
              "      fill: #1967D2;\n",
              "      height: 32px;\n",
              "      padding: 0 0 0 0;\n",
              "      width: 32px;\n",
              "    }\n",
              "\n",
              "    .colab-df-convert:hover {\n",
              "      background-color: #E2EBFA;\n",
              "      box-shadow: 0px 1px 2px rgba(60, 64, 67, 0.3), 0px 1px 3px 1px rgba(60, 64, 67, 0.15);\n",
              "      fill: #174EA6;\n",
              "    }\n",
              "\n",
              "    [theme=dark] .colab-df-convert {\n",
              "      background-color: #3B4455;\n",
              "      fill: #D2E3FC;\n",
              "    }\n",
              "\n",
              "    [theme=dark] .colab-df-convert:hover {\n",
              "      background-color: #434B5C;\n",
              "      box-shadow: 0px 1px 3px 1px rgba(0, 0, 0, 0.15);\n",
              "      filter: drop-shadow(0px 1px 2px rgba(0, 0, 0, 0.3));\n",
              "      fill: #FFFFFF;\n",
              "    }\n",
              "  </style>\n",
              "\n",
              "      <script>\n",
              "        const buttonEl =\n",
              "          document.querySelector('#df-916f657e-f6f8-44fc-adef-dd4fb16b96ac button.colab-df-convert');\n",
              "        buttonEl.style.display =\n",
              "          google.colab.kernel.accessAllowed ? 'block' : 'none';\n",
              "\n",
              "        async function convertToInteractive(key) {\n",
              "          const element = document.querySelector('#df-916f657e-f6f8-44fc-adef-dd4fb16b96ac');\n",
              "          const dataTable =\n",
              "            await google.colab.kernel.invokeFunction('convertToInteractive',\n",
              "                                                     [key], {});\n",
              "          if (!dataTable) return;\n",
              "\n",
              "          const docLinkHtml = 'Like what you see? Visit the ' +\n",
              "            '<a target=\"_blank\" href=https://colab.research.google.com/notebooks/data_table.ipynb>data table notebook</a>'\n",
              "            + ' to learn more about interactive tables.';\n",
              "          element.innerHTML = '';\n",
              "          dataTable['output_type'] = 'display_data';\n",
              "          await google.colab.output.renderOutput(dataTable, element);\n",
              "          const docLink = document.createElement('div');\n",
              "          docLink.innerHTML = docLinkHtml;\n",
              "          element.appendChild(docLink);\n",
              "        }\n",
              "      </script>\n",
              "    </div>\n",
              "  </div>\n",
              "  "
            ]
          },
          "metadata": {},
          "execution_count": 15
        }
      ]
    },
    {
      "cell_type": "markdown",
      "metadata": {
        "id": "o150ph74l1fX"
      },
      "source": [
        "Append a row "
      ]
    },
    {
      "cell_type": "code",
      "metadata": {
        "id": "wqG0WcJxS1l5"
      },
      "source": [
        "cart_c = pd.DataFrame([[90, 20]], columns=['Cauliflower','Cabbage'], index=['Cart C'])"
      ],
      "execution_count": 16,
      "outputs": []
    },
    {
      "cell_type": "code",
      "source": [
        "cart_c"
      ],
      "metadata": {
        "colab": {
          "base_uri": "https://localhost:8080/",
          "height": 81
        },
        "id": "VyebWkkVv3Vp",
        "outputId": "f27e52af-1f4e-412f-89cb-21ca5beb279a"
      },
      "execution_count": 17,
      "outputs": [
        {
          "output_type": "execute_result",
          "data": {
            "text/plain": [
              "        Cauliflower  Cabbage\n",
              "Cart C           90       20"
            ],
            "text/html": [
              "\n",
              "  <div id=\"df-ca9047ab-7ea7-4c90-8b82-9b7e3d0470a0\">\n",
              "    <div class=\"colab-df-container\">\n",
              "      <div>\n",
              "<style scoped>\n",
              "    .dataframe tbody tr th:only-of-type {\n",
              "        vertical-align: middle;\n",
              "    }\n",
              "\n",
              "    .dataframe tbody tr th {\n",
              "        vertical-align: top;\n",
              "    }\n",
              "\n",
              "    .dataframe thead th {\n",
              "        text-align: right;\n",
              "    }\n",
              "</style>\n",
              "<table border=\"1\" class=\"dataframe\">\n",
              "  <thead>\n",
              "    <tr style=\"text-align: right;\">\n",
              "      <th></th>\n",
              "      <th>Cauliflower</th>\n",
              "      <th>Cabbage</th>\n",
              "    </tr>\n",
              "  </thead>\n",
              "  <tbody>\n",
              "    <tr>\n",
              "      <th>Cart C</th>\n",
              "      <td>90</td>\n",
              "      <td>20</td>\n",
              "    </tr>\n",
              "  </tbody>\n",
              "</table>\n",
              "</div>\n",
              "      <button class=\"colab-df-convert\" onclick=\"convertToInteractive('df-ca9047ab-7ea7-4c90-8b82-9b7e3d0470a0')\"\n",
              "              title=\"Convert this dataframe to an interactive table.\"\n",
              "              style=\"display:none;\">\n",
              "        \n",
              "  <svg xmlns=\"http://www.w3.org/2000/svg\" height=\"24px\"viewBox=\"0 0 24 24\"\n",
              "       width=\"24px\">\n",
              "    <path d=\"M0 0h24v24H0V0z\" fill=\"none\"/>\n",
              "    <path d=\"M18.56 5.44l.94 2.06.94-2.06 2.06-.94-2.06-.94-.94-2.06-.94 2.06-2.06.94zm-11 1L8.5 8.5l.94-2.06 2.06-.94-2.06-.94L8.5 2.5l-.94 2.06-2.06.94zm10 10l.94 2.06.94-2.06 2.06-.94-2.06-.94-.94-2.06-.94 2.06-2.06.94z\"/><path d=\"M17.41 7.96l-1.37-1.37c-.4-.4-.92-.59-1.43-.59-.52 0-1.04.2-1.43.59L10.3 9.45l-7.72 7.72c-.78.78-.78 2.05 0 2.83L4 21.41c.39.39.9.59 1.41.59.51 0 1.02-.2 1.41-.59l7.78-7.78 2.81-2.81c.8-.78.8-2.07 0-2.86zM5.41 20L4 18.59l7.72-7.72 1.47 1.35L5.41 20z\"/>\n",
              "  </svg>\n",
              "      </button>\n",
              "      \n",
              "  <style>\n",
              "    .colab-df-container {\n",
              "      display:flex;\n",
              "      flex-wrap:wrap;\n",
              "      gap: 12px;\n",
              "    }\n",
              "\n",
              "    .colab-df-convert {\n",
              "      background-color: #E8F0FE;\n",
              "      border: none;\n",
              "      border-radius: 50%;\n",
              "      cursor: pointer;\n",
              "      display: none;\n",
              "      fill: #1967D2;\n",
              "      height: 32px;\n",
              "      padding: 0 0 0 0;\n",
              "      width: 32px;\n",
              "    }\n",
              "\n",
              "    .colab-df-convert:hover {\n",
              "      background-color: #E2EBFA;\n",
              "      box-shadow: 0px 1px 2px rgba(60, 64, 67, 0.3), 0px 1px 3px 1px rgba(60, 64, 67, 0.15);\n",
              "      fill: #174EA6;\n",
              "    }\n",
              "\n",
              "    [theme=dark] .colab-df-convert {\n",
              "      background-color: #3B4455;\n",
              "      fill: #D2E3FC;\n",
              "    }\n",
              "\n",
              "    [theme=dark] .colab-df-convert:hover {\n",
              "      background-color: #434B5C;\n",
              "      box-shadow: 0px 1px 3px 1px rgba(0, 0, 0, 0.15);\n",
              "      filter: drop-shadow(0px 1px 2px rgba(0, 0, 0, 0.3));\n",
              "      fill: #FFFFFF;\n",
              "    }\n",
              "  </style>\n",
              "\n",
              "      <script>\n",
              "        const buttonEl =\n",
              "          document.querySelector('#df-ca9047ab-7ea7-4c90-8b82-9b7e3d0470a0 button.colab-df-convert');\n",
              "        buttonEl.style.display =\n",
              "          google.colab.kernel.accessAllowed ? 'block' : 'none';\n",
              "\n",
              "        async function convertToInteractive(key) {\n",
              "          const element = document.querySelector('#df-ca9047ab-7ea7-4c90-8b82-9b7e3d0470a0');\n",
              "          const dataTable =\n",
              "            await google.colab.kernel.invokeFunction('convertToInteractive',\n",
              "                                                     [key], {});\n",
              "          if (!dataTable) return;\n",
              "\n",
              "          const docLinkHtml = 'Like what you see? Visit the ' +\n",
              "            '<a target=\"_blank\" href=https://colab.research.google.com/notebooks/data_table.ipynb>data table notebook</a>'\n",
              "            + ' to learn more about interactive tables.';\n",
              "          element.innerHTML = '';\n",
              "          dataTable['output_type'] = 'display_data';\n",
              "          await google.colab.output.renderOutput(dataTable, element);\n",
              "          const docLink = document.createElement('div');\n",
              "          docLink.innerHTML = docLinkHtml;\n",
              "          element.appendChild(docLink);\n",
              "        }\n",
              "      </script>\n",
              "    </div>\n",
              "  </div>\n",
              "  "
            ]
          },
          "metadata": {},
          "execution_count": 17
        }
      ]
    },
    {
      "cell_type": "code",
      "source": [
        "veg = vegetables.append(cart_c)"
      ],
      "metadata": {
        "id": "j5zgRTMqv2vi"
      },
      "execution_count": 18,
      "outputs": []
    },
    {
      "cell_type": "code",
      "source": [
        "veg"
      ],
      "metadata": {
        "colab": {
          "base_uri": "https://localhost:8080/",
          "height": 143
        },
        "id": "pIyFYgMgv62N",
        "outputId": "2369156d-5a7d-4e6e-de4f-5f860e4c7539"
      },
      "execution_count": 19,
      "outputs": [
        {
          "output_type": "execute_result",
          "data": {
            "text/plain": [
              "        Cauliflower  Cabbage  Potato\n",
              "Cart A           30       40    70.0\n",
              "Cart B           50       60    80.0\n",
              "Cart C           90       20     NaN"
            ],
            "text/html": [
              "\n",
              "  <div id=\"df-53cb97f6-957b-4651-926f-14a8f6b769a7\">\n",
              "    <div class=\"colab-df-container\">\n",
              "      <div>\n",
              "<style scoped>\n",
              "    .dataframe tbody tr th:only-of-type {\n",
              "        vertical-align: middle;\n",
              "    }\n",
              "\n",
              "    .dataframe tbody tr th {\n",
              "        vertical-align: top;\n",
              "    }\n",
              "\n",
              "    .dataframe thead th {\n",
              "        text-align: right;\n",
              "    }\n",
              "</style>\n",
              "<table border=\"1\" class=\"dataframe\">\n",
              "  <thead>\n",
              "    <tr style=\"text-align: right;\">\n",
              "      <th></th>\n",
              "      <th>Cauliflower</th>\n",
              "      <th>Cabbage</th>\n",
              "      <th>Potato</th>\n",
              "    </tr>\n",
              "  </thead>\n",
              "  <tbody>\n",
              "    <tr>\n",
              "      <th>Cart A</th>\n",
              "      <td>30</td>\n",
              "      <td>40</td>\n",
              "      <td>70.0</td>\n",
              "    </tr>\n",
              "    <tr>\n",
              "      <th>Cart B</th>\n",
              "      <td>50</td>\n",
              "      <td>60</td>\n",
              "      <td>80.0</td>\n",
              "    </tr>\n",
              "    <tr>\n",
              "      <th>Cart C</th>\n",
              "      <td>90</td>\n",
              "      <td>20</td>\n",
              "      <td>NaN</td>\n",
              "    </tr>\n",
              "  </tbody>\n",
              "</table>\n",
              "</div>\n",
              "      <button class=\"colab-df-convert\" onclick=\"convertToInteractive('df-53cb97f6-957b-4651-926f-14a8f6b769a7')\"\n",
              "              title=\"Convert this dataframe to an interactive table.\"\n",
              "              style=\"display:none;\">\n",
              "        \n",
              "  <svg xmlns=\"http://www.w3.org/2000/svg\" height=\"24px\"viewBox=\"0 0 24 24\"\n",
              "       width=\"24px\">\n",
              "    <path d=\"M0 0h24v24H0V0z\" fill=\"none\"/>\n",
              "    <path d=\"M18.56 5.44l.94 2.06.94-2.06 2.06-.94-2.06-.94-.94-2.06-.94 2.06-2.06.94zm-11 1L8.5 8.5l.94-2.06 2.06-.94-2.06-.94L8.5 2.5l-.94 2.06-2.06.94zm10 10l.94 2.06.94-2.06 2.06-.94-2.06-.94-.94-2.06-.94 2.06-2.06.94z\"/><path d=\"M17.41 7.96l-1.37-1.37c-.4-.4-.92-.59-1.43-.59-.52 0-1.04.2-1.43.59L10.3 9.45l-7.72 7.72c-.78.78-.78 2.05 0 2.83L4 21.41c.39.39.9.59 1.41.59.51 0 1.02-.2 1.41-.59l7.78-7.78 2.81-2.81c.8-.78.8-2.07 0-2.86zM5.41 20L4 18.59l7.72-7.72 1.47 1.35L5.41 20z\"/>\n",
              "  </svg>\n",
              "      </button>\n",
              "      \n",
              "  <style>\n",
              "    .colab-df-container {\n",
              "      display:flex;\n",
              "      flex-wrap:wrap;\n",
              "      gap: 12px;\n",
              "    }\n",
              "\n",
              "    .colab-df-convert {\n",
              "      background-color: #E8F0FE;\n",
              "      border: none;\n",
              "      border-radius: 50%;\n",
              "      cursor: pointer;\n",
              "      display: none;\n",
              "      fill: #1967D2;\n",
              "      height: 32px;\n",
              "      padding: 0 0 0 0;\n",
              "      width: 32px;\n",
              "    }\n",
              "\n",
              "    .colab-df-convert:hover {\n",
              "      background-color: #E2EBFA;\n",
              "      box-shadow: 0px 1px 2px rgba(60, 64, 67, 0.3), 0px 1px 3px 1px rgba(60, 64, 67, 0.15);\n",
              "      fill: #174EA6;\n",
              "    }\n",
              "\n",
              "    [theme=dark] .colab-df-convert {\n",
              "      background-color: #3B4455;\n",
              "      fill: #D2E3FC;\n",
              "    }\n",
              "\n",
              "    [theme=dark] .colab-df-convert:hover {\n",
              "      background-color: #434B5C;\n",
              "      box-shadow: 0px 1px 3px 1px rgba(0, 0, 0, 0.15);\n",
              "      filter: drop-shadow(0px 1px 2px rgba(0, 0, 0, 0.3));\n",
              "      fill: #FFFFFF;\n",
              "    }\n",
              "  </style>\n",
              "\n",
              "      <script>\n",
              "        const buttonEl =\n",
              "          document.querySelector('#df-53cb97f6-957b-4651-926f-14a8f6b769a7 button.colab-df-convert');\n",
              "        buttonEl.style.display =\n",
              "          google.colab.kernel.accessAllowed ? 'block' : 'none';\n",
              "\n",
              "        async function convertToInteractive(key) {\n",
              "          const element = document.querySelector('#df-53cb97f6-957b-4651-926f-14a8f6b769a7');\n",
              "          const dataTable =\n",
              "            await google.colab.kernel.invokeFunction('convertToInteractive',\n",
              "                                                     [key], {});\n",
              "          if (!dataTable) return;\n",
              "\n",
              "          const docLinkHtml = 'Like what you see? Visit the ' +\n",
              "            '<a target=\"_blank\" href=https://colab.research.google.com/notebooks/data_table.ipynb>data table notebook</a>'\n",
              "            + ' to learn more about interactive tables.';\n",
              "          element.innerHTML = '';\n",
              "          dataTable['output_type'] = 'display_data';\n",
              "          await google.colab.output.renderOutput(dataTable, element);\n",
              "          const docLink = document.createElement('div');\n",
              "          docLink.innerHTML = docLinkHtml;\n",
              "          element.appendChild(docLink);\n",
              "        }\n",
              "      </script>\n",
              "    </div>\n",
              "  </div>\n",
              "  "
            ]
          },
          "metadata": {},
          "execution_count": 19
        }
      ]
    },
    {
      "cell_type": "markdown",
      "metadata": {
        "id": "cbAOVyu75LYl"
      },
      "source": [
        ""
      ]
    },
    {
      "cell_type": "code",
      "metadata": {
        "colab": {
          "base_uri": "https://localhost:8080/",
          "height": 111
        },
        "id": "QAzUH9PW5MZ2",
        "outputId": "327b6894-f308-45d0-9b15-bba673ac5f6d"
      },
      "source": [
        "vegetables"
      ],
      "execution_count": null,
      "outputs": [
        {
          "output_type": "execute_result",
          "data": {
            "text/html": [
              "<div>\n",
              "<style scoped>\n",
              "    .dataframe tbody tr th:only-of-type {\n",
              "        vertical-align: middle;\n",
              "    }\n",
              "\n",
              "    .dataframe tbody tr th {\n",
              "        vertical-align: top;\n",
              "    }\n",
              "\n",
              "    .dataframe thead th {\n",
              "        text-align: right;\n",
              "    }\n",
              "</style>\n",
              "<table border=\"1\" class=\"dataframe\">\n",
              "  <thead>\n",
              "    <tr style=\"text-align: right;\">\n",
              "      <th></th>\n",
              "      <th>Cauliflower</th>\n",
              "      <th>Cabbage</th>\n",
              "      <th>Potato</th>\n",
              "    </tr>\n",
              "  </thead>\n",
              "  <tbody>\n",
              "    <tr>\n",
              "      <th>Cart A</th>\n",
              "      <td>30</td>\n",
              "      <td>40</td>\n",
              "      <td>70</td>\n",
              "    </tr>\n",
              "    <tr>\n",
              "      <th>Cart B</th>\n",
              "      <td>50</td>\n",
              "      <td>60</td>\n",
              "      <td>80</td>\n",
              "    </tr>\n",
              "  </tbody>\n",
              "</table>\n",
              "</div>"
            ],
            "text/plain": [
              "        Cauliflower  Cabbage  Potato\n",
              "Cart A           30       40      70\n",
              "Cart B           50       60      80"
            ]
          },
          "metadata": {
            "tags": []
          },
          "execution_count": 12
        }
      ]
    },
    {
      "cell_type": "markdown",
      "metadata": {
        "id": "beSjtepNqH_A"
      },
      "source": [
        "Append row at specific position"
      ]
    },
    {
      "cell_type": "code",
      "metadata": {
        "id": "ph-qQC4d6Gm_"
      },
      "source": [
        ""
      ],
      "execution_count": null,
      "outputs": []
    },
    {
      "cell_type": "code",
      "metadata": {
        "colab": {
          "base_uri": "https://localhost:8080/",
          "height": 142
        },
        "id": "2Y1yDxn9pxhM",
        "outputId": "f0b4b451-390d-48f5-be5f-d9cef0b03d6d"
      },
      "source": [
        "df2 = pd.concat([vegetables[:1], cart_c, vegetables[1:]])\n",
        "df2"
      ],
      "execution_count": null,
      "outputs": [
        {
          "output_type": "execute_result",
          "data": {
            "text/html": [
              "<div>\n",
              "<style scoped>\n",
              "    .dataframe tbody tr th:only-of-type {\n",
              "        vertical-align: middle;\n",
              "    }\n",
              "\n",
              "    .dataframe tbody tr th {\n",
              "        vertical-align: top;\n",
              "    }\n",
              "\n",
              "    .dataframe thead th {\n",
              "        text-align: right;\n",
              "    }\n",
              "</style>\n",
              "<table border=\"1\" class=\"dataframe\">\n",
              "  <thead>\n",
              "    <tr style=\"text-align: right;\">\n",
              "      <th></th>\n",
              "      <th>Cauliflower</th>\n",
              "      <th>Cabbage</th>\n",
              "      <th>Potato</th>\n",
              "    </tr>\n",
              "  </thead>\n",
              "  <tbody>\n",
              "    <tr>\n",
              "      <th>Cart A</th>\n",
              "      <td>30</td>\n",
              "      <td>40</td>\n",
              "      <td>70.0</td>\n",
              "    </tr>\n",
              "    <tr>\n",
              "      <th>Cart C</th>\n",
              "      <td>90</td>\n",
              "      <td>20</td>\n",
              "      <td>NaN</td>\n",
              "    </tr>\n",
              "    <tr>\n",
              "      <th>Cart B</th>\n",
              "      <td>50</td>\n",
              "      <td>60</td>\n",
              "      <td>80.0</td>\n",
              "    </tr>\n",
              "  </tbody>\n",
              "</table>\n",
              "</div>"
            ],
            "text/plain": [
              "        Cauliflower  Cabbage  Potato\n",
              "Cart A           30       40    70.0\n",
              "Cart C           90       20     NaN\n",
              "Cart B           50       60    80.0"
            ]
          },
          "metadata": {
            "tags": []
          },
          "execution_count": 11
        }
      ]
    },
    {
      "cell_type": "markdown",
      "metadata": {
        "id": "0p8Heh0Slypy"
      },
      "source": [
        "### **3. Create Series**\n",
        "\n",
        "Series is a type of list in pandas which can take integer values, string values, etc. A single column of a DataFrame is called Series and a dataframe can consist of multiple series.\n",
        "\n",
        "Q3. Create a series that consist of prices of Pizza in different cities "
      ]
    },
    {
      "cell_type": "code",
      "metadata": {
        "colab": {
          "base_uri": "https://localhost:8080/"
        },
        "id": "ACIcBqKekc63",
        "outputId": "ff62b472-16c0-4d41-b7cf-3f15d5b4154f"
      },
      "source": [
        "pizza_price = [300, 400, 150, 200]\n",
        "cities = ['Delhi', 'Mumbai', 'Bengaluru', 'Chandigarh']\n",
        "\n",
        "# price = pd.Series(pizza_price, index=cities, name='pizza')\n",
        "price = pd.Series(pizza_price)\n",
        "\n",
        "price"
      ],
      "execution_count": 22,
      "outputs": [
        {
          "output_type": "execute_result",
          "data": {
            "text/plain": [
              "0    300\n",
              "1    400\n",
              "2    150\n",
              "3    200\n",
              "dtype: int64"
            ]
          },
          "metadata": {},
          "execution_count": 22
        }
      ]
    },
    {
      "cell_type": "markdown",
      "metadata": {
        "id": "UxiffCN7r0aA"
      },
      "source": [
        "Each column of a dataframe is also series. A dataframe is collection of one or more series\n",
        "\n",
        "\n",
        "Q4. Store the quantity of cauliflower in cart A and cart B in a variable called **'total_quantity_cauliflower'**"
      ]
    },
    {
      "cell_type": "code",
      "metadata": {
        "colab": {
          "base_uri": "https://localhost:8080/"
        },
        "id": "FrsXHGrQnUil",
        "outputId": "ff587e70-c9c9-43a0-9161-c4b01865dc3d"
      },
      "source": [
        "total_quantity_cauliflower = veg.Potato\n",
        "total_quantity_cauliflower"
      ],
      "execution_count": 23,
      "outputs": [
        {
          "output_type": "execute_result",
          "data": {
            "text/plain": [
              "Cart A    70.0\n",
              "Cart B    80.0\n",
              "Cart C     NaN\n",
              "Name: Potato, dtype: float64"
            ]
          },
          "metadata": {},
          "execution_count": 23
        }
      ]
    },
    {
      "cell_type": "code",
      "source": [
        "vegetables.Potato"
      ],
      "metadata": {
        "colab": {
          "base_uri": "https://localhost:8080/"
        },
        "id": "9Md3C7eyx8RO",
        "outputId": "2dddc571-d1c5-4c07-987c-862a2e7fef7b"
      },
      "execution_count": 24,
      "outputs": [
        {
          "output_type": "execute_result",
          "data": {
            "text/plain": [
              "Cart A    70\n",
              "Cart B    80\n",
              "Name: Potato, dtype: int64"
            ]
          },
          "metadata": {},
          "execution_count": 24
        }
      ]
    },
    {
      "cell_type": "markdown",
      "metadata": {
        "id": "kkl866o4Yh6a"
      },
      "source": [
        "# DataFrame vs Series: What's the difference ?\n",
        "\n",
        "![Screenshot 2021-01-20 112630.png](data:image/png;base64,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)\n",
        "\n",
        "\n",
        "Series is a list that can store values of different datatypes whereas a DataFrame is a collection of series. Each column in a DataFrame is a Series in itself."
      ]
    },
    {
      "cell_type": "code",
      "metadata": {
        "id": "0zG6qm81XswI"
      },
      "source": [
        ""
      ],
      "execution_count": null,
      "outputs": []
    }
  ]
}