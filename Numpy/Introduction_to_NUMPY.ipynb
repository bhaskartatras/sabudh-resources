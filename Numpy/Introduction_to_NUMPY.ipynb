{
  "nbformat": 4,
  "nbformat_minor": 0,
  "metadata": {
    "colab": {
      "provenance": [],
      "collapsed_sections": [
        "tFISuqH6-aU2",
        "xsOX4iltK9P1",
        "jDNhGRolLHr8",
        "PGONTOkjLsWL",
        "EI6jgcUYNBfO",
        "3uX1HQrDSA0t",
        "8dYPH9Zqdcjl",
        "-bxIOXej5Za3",
        "AknB9kqoTmpa",
        "w3OdG0DSaT3n",
        "VblVkrnxMBeb",
        "Bf0Z79DRMLEK",
        "_o1G36PxLE5y",
        "WKg5OLeBpPgZ",
        "4S9xwrj9tY6g"
      ]
    },
    "kernelspec": {
      "display_name": "Python 3",
      "name": "python3"
    }
  },
  "cells": [
    {
      "cell_type": "markdown",
      "metadata": {
        "id": "tFISuqH6-aU2"
      },
      "source": [
        "#ndarray or Multi-dimensional array.\n",
        "\n",
        "It is an array of arrays \n",
        "\n",
        "**for example** \n",
        "\n",
        ">  [1 2 3] - one-dimensional array because it contains only one row where\n",
        "\n",
        "> [[1 2 3]\n",
        ">  [4 5 6]\n",
        ">  [7 8 9]] - two-dimensional array as it contains multiple rows as well as multiple columns.\n",
        "\n",
        "\n",
        "Let’s do some coding now. \n",
        "\n",
        "\n",
        "\n",
        "\n",
        "\n",
        "\n",
        " \n",
        "\n",
        "\n",
        "\n",
        "\n",
        "\n"
      ]
    },
    {
      "cell_type": "code",
      "metadata": {
        "id": "4nBh2DVh9ukl"
      },
      "source": [
        "import numpy as np"
      ],
      "execution_count": null,
      "outputs": []
    },
    {
      "cell_type": "markdown",
      "metadata": {
        "id": "A-NJrLcTCWTr"
      },
      "source": [
        "#How to create an array in NumPy?\n",
        "we will use it’s array function as mentioned below"
      ]
    },
    {
      "cell_type": "code",
      "metadata": {
        "colab": {
          "base_uri": "https://localhost:8080/"
        },
        "id": "yNuR4661CmW-",
        "outputId": "a9d08b98-b337-4078-e91b-3219edfeda33"
      },
      "source": [
        "# array = np.array([1,2,3])\n",
        "ar = np.array((1, 2, 3))\n",
        "print(ar)"
      ],
      "execution_count": null,
      "outputs": [
        {
          "output_type": "stream",
          "name": "stdout",
          "text": [
            "[1 2 3]\n"
          ]
        }
      ]
    },
    {
      "cell_type": "code",
      "source": [
        "ar"
      ],
      "metadata": {
        "colab": {
          "base_uri": "https://localhost:8080/"
        },
        "id": "lUBcVWc7TRPo",
        "outputId": "3f721d66-4230-4c8c-d977-32a0c4259b61"
      },
      "execution_count": null,
      "outputs": [
        {
          "output_type": "execute_result",
          "data": {
            "text/plain": [
              "array([1, 2, 3])"
            ]
          },
          "metadata": {},
          "execution_count": 6
        }
      ]
    },
    {
      "cell_type": "code",
      "source": [
        "ls1 = list([1,2,3,4])"
      ],
      "metadata": {
        "id": "KbWmNQrZT9uK"
      },
      "execution_count": null,
      "outputs": []
    },
    {
      "cell_type": "code",
      "source": [
        "ls1"
      ],
      "metadata": {
        "colab": {
          "base_uri": "https://localhost:8080/"
        },
        "id": "UbbRYi3FUDUB",
        "outputId": "777e0dff-dee5-43f6-e3fc-6e60b92a8d53"
      },
      "execution_count": null,
      "outputs": [
        {
          "output_type": "execute_result",
          "data": {
            "text/plain": [
              "[1, 2, 3, 4]"
            ]
          },
          "metadata": {},
          "execution_count": 8
        }
      ]
    },
    {
      "cell_type": "code",
      "source": [
        "print(ls1)"
      ],
      "metadata": {
        "colab": {
          "base_uri": "https://localhost:8080/"
        },
        "id": "JLx71-Q7UEoK",
        "outputId": "32fec735-3b7a-46c1-c034-4fddba1651bc"
      },
      "execution_count": null,
      "outputs": [
        {
          "output_type": "stream",
          "name": "stdout",
          "text": [
            "[1, 2, 3, 4]\n"
          ]
        }
      ]
    },
    {
      "cell_type": "code",
      "metadata": {
        "colab": {
          "base_uri": "https://localhost:8080/"
        },
        "id": "eGgsi02qCt0j",
        "outputId": "98b9ca37-f813-45cf-df90-cc53f83a8833"
      },
      "source": [
        "type(ar)   #to check whether the array is numpy array of simply a list"
      ],
      "execution_count": null,
      "outputs": [
        {
          "output_type": "execute_result",
          "data": {
            "text/plain": [
              "numpy.ndarray"
            ]
          },
          "metadata": {},
          "execution_count": 10
        }
      ]
    },
    {
      "cell_type": "code",
      "metadata": {
        "colab": {
          "base_uri": "https://localhost:8080/"
        },
        "id": "Tp2C1sCsFPzA",
        "outputId": "0b660628-ce49-4f54-e7e1-4ac07c08a2d8"
      },
      "source": [
        "my_list = [1, 2, 3, 4, 5, 6]\n",
        "print(my_list , type(my_list))\n",
        "\n",
        "# to convert list to numpy array \n",
        "array = np.array(my_list)\n",
        "print(array , type(array))"
      ],
      "execution_count": null,
      "outputs": [
        {
          "output_type": "stream",
          "text": [
            "[1, 2, 3, 4, 5, 6] <class 'list'>\n",
            "[1 2 3 4 5 6] <class 'numpy.ndarray'>\n"
          ],
          "name": "stdout"
        }
      ]
    },
    {
      "cell_type": "code",
      "metadata": {
        "colab": {
          "base_uri": "https://localhost:8080/"
        },
        "id": "nSX791hMGDWn",
        "outputId": "a3243e53-2fdc-4a4a-c56c-f0fa7595b2d1"
      },
      "source": [
        "#two dimensional array\n",
        "\n",
        "# two_dim_array = np.array([(1,2,3), (4,5,6), (7,8,9)])\n",
        "two_dim_array = np.array([[1,2,3], [4,5, 6], [7,8,9]])\n",
        "print(two_dim_array)"
      ],
      "execution_count": null,
      "outputs": [
        {
          "output_type": "stream",
          "name": "stdout",
          "text": [
            "[[1 2 3]\n",
            " [4 5 6]\n",
            " [7 8 9]]\n"
          ]
        }
      ]
    },
    {
      "cell_type": "markdown",
      "metadata": {
        "id": "tXppVUi3GeJJ"
      },
      "source": [
        "##Q: What will happen if the number of column are not equal?"
      ]
    },
    {
      "cell_type": "code",
      "metadata": {
        "colab": {
          "base_uri": "https://localhost:8080/"
        },
        "id": "TauTWfBZGdxa",
        "outputId": "027070da-71ce-42a7-9e1d-4d2f2717a8b3"
      },
      "source": [
        "arr = np.array([[1,2,3], [4,6], [7,8,9]])\n",
        "print(arr)\n",
        "print(type(arr))"
      ],
      "execution_count": null,
      "outputs": [
        {
          "output_type": "stream",
          "name": "stdout",
          "text": [
            "[list([1, 2, 3]) list([4, 6]) list([7, 8, 9])]\n",
            "<class 'numpy.ndarray'>\n"
          ]
        },
        {
          "output_type": "stream",
          "name": "stderr",
          "text": [
            "<ipython-input-12-77559f2ef979>:1: VisibleDeprecationWarning: Creating an ndarray from ragged nested sequences (which is a list-or-tuple of lists-or-tuples-or ndarrays with different lengths or shapes) is deprecated. If you meant to do this, you must specify 'dtype=object' when creating the ndarray.\n",
            "  arr = np.array([[1,2,3], [4,6], [7,8,9]])\n"
          ]
        }
      ]
    },
    {
      "cell_type": "markdown",
      "metadata": {
        "id": "Q6GQ00tFG1rJ"
      },
      "source": [
        "*Note that the number of columns should be equal otherwise NumPy will create an array of a list.\n",
        "\n"
      ]
    },
    {
      "cell_type": "markdown",
      "metadata": {
        "id": "G25wSl0KDIkN"
      },
      "source": [
        "# Create different types of array using numpy"
      ]
    },
    {
      "cell_type": "markdown",
      "metadata": {
        "id": "xsOX4iltK9P1"
      },
      "source": [
        "## 1. Array containing Zeros or ones"
      ]
    },
    {
      "cell_type": "code",
      "metadata": {
        "colab": {
          "base_uri": "https://localhost:8080/"
        },
        "id": "GRAkJUEdDFB2",
        "outputId": "23264f0b-b833-4b41-c9e5-ba2dade3ffe2"
      },
      "source": [
        "zeros = np.zeros(3)\n",
        "print('zeros Array')\n",
        "print(zeros)\n",
        "print()\n",
        "ones = np.ones(100)\n",
        "print('ones Array')\n",
        "print(ones)"
      ],
      "execution_count": null,
      "outputs": [
        {
          "output_type": "stream",
          "name": "stdout",
          "text": [
            "zeros Array\n",
            "[0. 0. 0.]\n",
            "\n",
            "ones Array\n",
            "[1. 1. 1. 1. 1. 1. 1. 1. 1. 1. 1. 1. 1. 1. 1. 1. 1. 1. 1. 1. 1. 1. 1. 1.\n",
            " 1. 1. 1. 1. 1. 1. 1. 1. 1. 1. 1. 1. 1. 1. 1. 1. 1. 1. 1. 1. 1. 1. 1. 1.\n",
            " 1. 1. 1. 1. 1. 1. 1. 1. 1. 1. 1. 1. 1. 1. 1. 1. 1. 1. 1. 1. 1. 1. 1. 1.\n",
            " 1. 1. 1. 1. 1. 1. 1. 1. 1. 1. 1. 1. 1. 1. 1. 1. 1. 1. 1. 1. 1. 1. 1. 1.\n",
            " 1. 1. 1. 1.]\n"
          ]
        }
      ]
    },
    {
      "cell_type": "markdown",
      "metadata": {
        "id": "2n_LzQEICtbh"
      },
      "source": [
        "If you look closely at the output the generated array contains three zeros but the type of the value is a float and by default, NumPy creates the array of float values."
      ]
    },
    {
      "cell_type": "code",
      "metadata": {
        "colab": {
          "base_uri": "https://localhost:8080/"
        },
        "id": "Vjs1gRvSMife",
        "outputId": "04bfc442-e7ae-458b-da40-462c9b9c7e6e"
      },
      "source": [
        "#Specify the datatype to have a numpy of particular type\n",
        "x = np.ones(7, dtype=np.int64)\n",
        "print(x)"
      ],
      "execution_count": null,
      "outputs": [
        {
          "output_type": "stream",
          "name": "stdout",
          "text": [
            "[1 1 1 1 1 1 1]\n"
          ]
        }
      ]
    },
    {
      "cell_type": "markdown",
      "metadata": {
        "id": "jDNhGRolLHr8"
      },
      "source": [
        "## 2. Empty Array\n",
        "\n",
        "It creates an array whose initial content is **random** and depends on the state of the memory. \n",
        "\n",
        "The reason to use empty over zeros is **speed** - just make sure to fill every element afterwards!"
      ]
    },
    {
      "cell_type": "code",
      "metadata": {
        "colab": {
          "base_uri": "https://localhost:8080/"
        },
        "id": "yNeA72vRLOTE",
        "outputId": "8204bfff-b8b0-44fb-edaf-081228c34ccb"
      },
      "source": [
        "array =np.empty(2)\n",
        "print(array)\n"
      ],
      "execution_count": null,
      "outputs": [
        {
          "output_type": "stream",
          "text": [
            "[4.68140158e-310 9.88131292e-324]\n"
          ],
          "name": "stdout"
        }
      ]
    },
    {
      "cell_type": "markdown",
      "metadata": {
        "id": "PGONTOkjLsWL"
      },
      "source": [
        "## 3. Create an array with a range of elements:"
      ]
    },
    {
      "cell_type": "code",
      "metadata": {
        "colab": {
          "base_uri": "https://localhost:8080/"
        },
        "id": "FNn8wYOjLoql",
        "outputId": "cec4ff62-9e43-4015-8ded-dfa5f43794cd"
      },
      "source": [
        "a=np.arange(11)\n",
        "print(a)"
      ],
      "execution_count": null,
      "outputs": [
        {
          "output_type": "stream",
          "text": [
            "[ 0  1  2  3  4  5  6  7  8  9 10]\n"
          ],
          "name": "stdout"
        }
      ]
    },
    {
      "cell_type": "markdown",
      "metadata": {
        "id": "1Is6pScIMFDa"
      },
      "source": [
        "Also An array that contains a range of evenly spaced intervals. \n",
        "\n",
        "To do this, you will specify the **first number**, **last number**, and the **step size**"
      ]
    },
    {
      "cell_type": "code",
      "metadata": {
        "colab": {
          "base_uri": "https://localhost:8080/"
        },
        "id": "pAo4V2SHMPiA",
        "outputId": "79338892-5b29-4fd8-b86f-91eb22ca08a0"
      },
      "source": [
        "x = np.arange(-2, 11, 2)\n",
        "print(x)"
      ],
      "execution_count": null,
      "outputs": [
        {
          "output_type": "stream",
          "name": "stdout",
          "text": [
            "[-2  0  2  4  6  8 10]\n"
          ]
        }
      ]
    },
    {
      "cell_type": "markdown",
      "metadata": {
        "id": "EI6jgcUYNBfO"
      },
      "source": [
        "## Create random array by using random function. \n",
        "Here I created an array of random integers, therefore, used **randint** where first I specified the maximum value and then the size of my array.\n"
      ]
    },
    {
      "cell_type": "code",
      "metadata": {
        "colab": {
          "base_uri": "https://localhost:8080/"
        },
        "id": "bR0QXXFNM7X_",
        "outputId": "f1699514-0aa0-4f6f-c943-dfa709b0ca0d"
      },
      "source": [
        "random_array = np.random.randint(100, size=100)\n",
        "print(random_array)"
      ],
      "execution_count": null,
      "outputs": [
        {
          "output_type": "stream",
          "name": "stdout",
          "text": [
            "[24 39 65 62 91 18 79 16 23 35 70 33 69  7 75 52 47 83 30 31 11 36 25 94\n",
            "  2 58 50 71 56 17 81 23 64 20 36 89 57 55 71 53 54 61  3 37 26 67 58 21\n",
            " 46 65 87 26 68 96 37  7 97 73 46 53 57 43 68 23 34 91 87 21 22 88 52 43\n",
            "  6 55 71 25 88  6 84 99 99 46 32 66 94 92 79 65 52 69  6  9 19 44 97 85\n",
            " 66 56  9  8]\n"
          ]
        }
      ]
    },
    {
      "cell_type": "code",
      "metadata": {
        "colab": {
          "base_uri": "https://localhost:8080/"
        },
        "id": "6I4Ny_xaOMPw",
        "outputId": "812b40f0-8b57-456a-e2ff-8f089c202448"
      },
      "source": [
        "# rand() : creating an array of specified size havind float values from 0 to 1\n",
        "random_array = np.random.rand(15)  # 15 specify the size of the array\n",
        "print(random_array)"
      ],
      "execution_count": null,
      "outputs": [
        {
          "output_type": "stream",
          "text": [
            "[0.10816791 0.94645098 0.12728612 0.78911307 0.6525546  0.68387296\n",
            " 0.11605782 0.7439362  0.71437288 0.45159221 0.88289249 0.52999966\n",
            " 0.01490182 0.12666154 0.68687853]\n"
          ],
          "name": "stdout"
        }
      ]
    },
    {
      "cell_type": "markdown",
      "metadata": {
        "id": "3uX1HQrDSA0t"
      },
      "source": [
        "#How to get unique items and counts\n",
        "This section covers np.unique()"
      ]
    },
    {
      "cell_type": "code",
      "metadata": {
        "colab": {
          "base_uri": "https://localhost:8080/"
        },
        "id": "KJw-5ni8SJ8X",
        "outputId": "63747637-3a8a-4ec9-c121-a352925a1528"
      },
      "source": [
        "# a = np.array([11, 11, 12, 13, 14, 15, 16, 17, 12, 13, 11, 14, 18, 19, 20])\n",
        "a = np.random.randint(10, size = (1000))\n",
        "print(a)\n",
        "unique_values = np.unique(a)\n",
        "print(unique_values)"
      ],
      "execution_count": null,
      "outputs": [
        {
          "output_type": "stream",
          "name": "stdout",
          "text": [
            "[9 0 9 9 3 2 1 2 4 7 6 8 3 5 1 8 1 2 4 1 9 5 9 4 7 6 8 8 6 6 9 1 3 3 4 1 9\n",
            " 9 9 6 8 0 0 1 1 5 4 8 0 1 1 5 9 8 2 6 9 9 4 8 2 6 2 3 0 6 6 4 3 4 1 1 1 2\n",
            " 6 9 5 7 7 0 1 1 1 5 1 7 3 5 8 4 9 4 2 5 1 3 9 3 9 6 2 3 9 3 4 8 1 9 7 2 5\n",
            " 7 2 4 0 3 0 0 0 8 7 7 9 4 8 3 6 7 6 1 1 2 7 5 9 9 9 4 8 6 8 6 4 5 4 3 9 5\n",
            " 7 7 6 0 7 1 3 9 4 4 3 7 6 8 1 3 0 0 7 1 0 8 7 4 4 7 7 0 4 2 5 9 9 2 4 5 9\n",
            " 8 7 8 0 7 5 2 1 5 6 8 3 9 7 7 8 1 1 2 0 9 2 8 5 9 5 5 4 0 3 9 8 0 1 4 1 6\n",
            " 0 0 0 2 2 3 4 7 7 3 4 6 8 3 5 1 5 5 4 5 0 3 6 3 1 1 4 8 0 7 7 7 2 5 6 4 6\n",
            " 2 5 8 2 8 6 9 5 4 7 4 0 1 6 8 7 2 8 6 9 0 1 3 4 6 8 5 2 1 3 1 6 3 4 4 7 0\n",
            " 1 4 2 3 9 2 7 3 1 4 1 8 9 3 0 9 5 8 7 5 2 7 4 0 2 9 3 4 4 5 1 3 8 2 6 3 5\n",
            " 6 3 2 5 8 4 7 9 6 0 4 9 6 6 8 3 7 3 1 3 9 6 7 3 3 6 7 3 1 0 6 8 1 2 3 8 5\n",
            " 4 2 4 5 1 5 8 6 5 6 2 9 0 5 7 1 1 7 0 2 2 9 6 3 4 9 1 6 9 1 8 7 2 0 5 3 8\n",
            " 9 7 1 5 5 6 1 4 6 3 6 6 0 5 5 0 2 4 5 4 8 5 9 1 6 1 7 1 1 5 6 8 4 6 7 8 5\n",
            " 1 4 9 6 6 1 0 2 1 1 3 8 1 0 2 4 1 2 4 8 2 2 8 0 5 8 2 4 4 1 5 8 9 5 7 0 8\n",
            " 8 6 0 8 2 6 2 4 0 6 8 9 4 1 7 3 0 0 3 6 5 0 1 8 7 6 8 1 8 2 1 8 3 1 6 2 6\n",
            " 1 4 6 5 8 2 4 1 4 8 1 5 2 1 9 2 0 6 7 4 1 7 6 8 0 5 8 2 8 4 1 2 0 8 7 8 7\n",
            " 7 7 6 7 5 7 0 5 9 7 8 4 3 9 2 4 3 0 0 4 3 6 8 0 4 9 7 6 4 5 4 9 0 9 1 1 6\n",
            " 1 6 2 7 8 8 2 2 4 1 6 3 8 2 7 5 4 5 1 3 5 2 4 7 3 4 7 9 9 2 0 6 9 4 1 2 9\n",
            " 6 8 4 4 9 9 1 3 3 3 0 2 4 0 1 9 0 2 8 1 0 4 1 0 5 5 0 5 5 1 2 4 9 5 0 4 2\n",
            " 5 9 7 3 5 3 8 0 2 1 0 3 8 5 1 7 3 7 5 5 2 6 7 5 5 8 2 1 7 6 3 6 3 4 9 5 1\n",
            " 0 7 6 5 4 0 9 6 0 8 0 5 6 7 4 0 7 6 9 9 8 0 3 5 1 8 3 7 7 9 8 8 9 8 8 8 1\n",
            " 9 3 4 2 5 6 4 7 5 8 8 5 3 4 0 3 6 2 3 6 5 4 5 6 2 5 5 7 2 1 0 9 6 2 3 5 1\n",
            " 2 7 1 4 1 8 5 0 6 0 3 1 1 4 8 2 5 1 3 2 0 7 6 1 9 4 9 9 5 3 8 5 1 7 9 6 7\n",
            " 9 8 2 4 8 2 8 4 2 6 8 0 3 3 3 0 8 9 1 9 1 5 1 0 7 5 3 0 7 9 6 6 6 6 3 5 6\n",
            " 2 8 6 5 4 1 6 7 3 0 3 0 9 4 4 3 1 4 7 6 4 2 6 1 2 5 5 6 4 1 2 2 8 0 0 4 4\n",
            " 1 8 6 3 6 0 1 5 9 3 9 0 7 1 6 9 7 7 3 2 0 8 0 5 1 4 7 7 8 6 4 7 8 4 9 5 6\n",
            " 0 1 1 8 8 9 4 1 0 6 4 8 7 8 9 2 1 0 3 7 3 2 2 1 8 0 9 4 0 4 5 2 8 6 4 9 5\n",
            " 2 8 7 7 2 3 2 0 5 6 9 7 8 0 7 9 9 5 7 0 8 4 8 3 9 7 6 2 5 5 4 8 2 5 9 5 7\n",
            " 8]\n",
            "[0 1 2 3 4 5 6 7 8 9]\n"
          ]
        }
      ]
    },
    {
      "cell_type": "code",
      "metadata": {
        "colab": {
          "base_uri": "https://localhost:8080/"
        },
        "id": "r3fZVsgJLqB3",
        "outputId": "44828ded-0186-4236-d3cd-b92cfe50accf"
      },
      "source": [
        "a = np.random.rand(1054)\n",
        "\n",
        "print(a)\n",
        "\n",
        "print(len(a))"
      ],
      "execution_count": null,
      "outputs": [
        {
          "output_type": "stream",
          "text": [
            "[0.26182558 0.44236756 0.59388826 ... 0.7994584  0.62256785 0.29386572]\n",
            "1054\n"
          ],
          "name": "stdout"
        }
      ]
    },
    {
      "cell_type": "code",
      "metadata": {
        "colab": {
          "base_uri": "https://localhost:8080/"
        },
        "id": "46A8inZ0ScQa",
        "outputId": "3f22d1ac-0f94-4394-e630-b22992cf4d2a"
      },
      "source": [
        "#To get the indices of unique values in a NumPy array\n",
        "a = np.random.randint(10, size = (1000))\n",
        "unique_values, indices_list = np.unique(a, return_index=True)\n",
        "print(unique_values)\n",
        "print(indices_list)"
      ],
      "execution_count": null,
      "outputs": [
        {
          "output_type": "stream",
          "name": "stdout",
          "text": [
            "[0 1 2 3 4 5 6 7 8 9]\n",
            "[ 4  0  7 20  3  8 18  5  1 12]\n"
          ]
        }
      ]
    },
    {
      "cell_type": "code",
      "metadata": {
        "colab": {
          "base_uri": "https://localhost:8080/"
        },
        "id": "Ea57WrVfSwW_",
        "outputId": "2e91c722-edeb-4601-a0a7-399d01deb605"
      },
      "source": [
        "# To get the frequency count of unique values\n",
        "unique_values, occurrence_count = np.unique(a, return_counts=True)\n",
        "print(unique_values)\n",
        "print(occurrence_count)"
      ],
      "execution_count": null,
      "outputs": [
        {
          "output_type": "stream",
          "name": "stdout",
          "text": [
            "[0 1 2 3 4 5 6 7 8 9]\n",
            "[104  72 103 111 109 101 100 101  89 110]\n"
          ]
        }
      ]
    },
    {
      "cell_type": "markdown",
      "metadata": {
        "id": "OcJF4T0BTEmJ"
      },
      "source": [
        "Same can be applied to multi-dimensional array\n",
        "\n",
        "Your 2D or nD array will be flattened."
      ]
    },
    {
      "cell_type": "markdown",
      "metadata": {
        "id": "8dYPH9Zqdcjl"
      },
      "source": [
        "# How to know the shape and size of an array?\n",
        "\n",
        "\n",
        "**ndarray.ndim**: It will tell the number of axes, or dimensions, of the array.\n",
        "\n",
        "**ndarray.size**: It will tell the total number of elements of the array. \n",
        "\n",
        "**ndarray.shape**: It will display a tuple of integers that indicate the number of elements stored along each dimension of the array. \n",
        "\n",
        "If, for example, you have a 2-D array with 2 rows and 3 columns, the shape of your array is (2, 3)."
      ]
    },
    {
      "cell_type": "code",
      "metadata": {
        "id": "6aZ9INDKdXni"
      },
      "source": [
        "array = np.array([[0, 1, 2, 3],\n",
        "                  [4, 5, 6, 7],       \n",
        "                  [0, 1, 2, 3],\n",
        "                  [4, 5, 6, 7],\n",
        "                  [0 ,1 ,2, 3],\n",
        "                  [4, 5, 6, 7]])\n"
      ],
      "execution_count": null,
      "outputs": []
    },
    {
      "cell_type": "code",
      "metadata": {
        "colab": {
          "base_uri": "https://localhost:8080/"
        },
        "id": "fPsEQRMQeNcM",
        "outputId": "dda934e4-4ec3-47d3-e890-3ac24cb7b233"
      },
      "source": [
        "array.ndim"
      ],
      "execution_count": null,
      "outputs": [
        {
          "output_type": "execute_result",
          "data": {
            "text/plain": [
              "2"
            ]
          },
          "metadata": {
            "tags": []
          },
          "execution_count": 92
        }
      ]
    },
    {
      "cell_type": "code",
      "metadata": {
        "colab": {
          "base_uri": "https://localhost:8080/"
        },
        "id": "40qNCKGfePfI",
        "outputId": "b84a963e-13a0-4ecd-a3e3-e119b6ecefb4"
      },
      "source": [
        "array.size"
      ],
      "execution_count": null,
      "outputs": [
        {
          "output_type": "execute_result",
          "data": {
            "text/plain": [
              "24"
            ]
          },
          "metadata": {
            "tags": []
          },
          "execution_count": 93
        }
      ]
    },
    {
      "cell_type": "code",
      "metadata": {
        "colab": {
          "base_uri": "https://localhost:8080/"
        },
        "id": "UWjn2Hmuednt",
        "outputId": "74ce1d1f-af52-40dc-d34a-6136c99beb76"
      },
      "source": [
        "array.shape"
      ],
      "execution_count": null,
      "outputs": [
        {
          "output_type": "execute_result",
          "data": {
            "text/plain": [
              "(6, 4)"
            ]
          },
          "metadata": {
            "tags": []
          },
          "execution_count": 94
        }
      ]
    },
    {
      "cell_type": "markdown",
      "metadata": {
        "id": "f-Q9ZVSwgVUj"
      },
      "source": [
        "## Q: What is the dim, and shape of the following matrix\n",
        "\n",
        "![Capture.JPG](data:image/jpeg;base64,/9j/4AAQSkZJRgABAQEAeAB4AAD/4RDgRXhpZgAATU0AKgAAAAgABAE7AAIAAAAHAAAISodpAAQAAAABAAAIUpydAAEAAAAOAAAQyuocAAcAAAgMAAAAPgAAAAAc6gAAAAgAAAAAAAAAAAAAAAAAAAAAAAAAAAAAAAAAAAAAAAAAAAAAAAAAAAAAAAAAAAAAAAAAAAAAAAAAAAAAAAAAAAAAAAAAAAAAAAAAAAAAAAAAAAAAAAAAAAAAAAAAAAAAAAAAAAAAAAAAAAAAAAAAAAAAAAAAAAAAAAAAAAAAAAAAAAAAAAAAAAAAAAAAAAAAAAAAAAAAAAAAAAAAAAAAAAAAAAAAAAAAAAAAAAAAAAAAAAAAAAAAAAAAAAAAAAAAAAAAAAAAAAAAAAAAAAAAAAAAAAAAAAAAAAAAAAAAAAAAAAAAAAAAAAAAAAAAAAAAAAAAAAAAAAAAAAAAAAAAAAAAAAAAAAAAAAAAAAAAAAAAAAAAAAAAAAAAAAAAAAAAAAAAAAAAAAAAAAAAAAAAAAAAAAAAAAAAAAAAAAAAAAAAAAAAAAAAAAAAAAAAAAAAAAAAAAAAAAAAAAAAAAAAAAAAAAAAAAAAAAAAAAAAAAAAAAAAAAAAAAAAAAAAAAAAAAAAAAAAAAAAAAAAAAAAAAAAAAAAAAAAAAAAAAAAAAAAAAAAAAAAAAAAAAAAAAAAAAAAAAAAAAAAAAAAAAAAAAAAAAAAAAAAAAAAAAAAAAAAAAAAAAAAAAAAAAAAAAAAAAAAAAAAAAAAAAAAAAAAAAAAAAAAAAAAAAAAAAAAAAAAAAAAAAAAAAAAAAAAAAAAAAAAAAAAAAAAAAAAAAAAAAAAAAAAAAAAAAAAAAAAAAAAAAAAAAAAAAAAAAAAAAAAAAAAAAAAAAAAAAAAAAAAAAAAAAAAAAAAAAAAAAAAAAAAAAAAAAAAAAAAAAAAAAAAAAAAAAAAAAAAAAAAAAAAAAAAAAAAAAAAAAAAAAAAAAAAAAAAAAAAAAAAAAAAAAAAAAAAAAAAAAAAAAAAAAAAAAAAAAAAAAAAAAAAAAAAAAAAAAAAAAAAAAAAAAAAAAAAAAAAAAAAAAAAAAAAAAAAAAAAAAAAAAAAAAAAAAAAAAAAAAAAAAAAAAAAAAAAAAAAAAAAAAAAAAAAAAAAAAAAAAAAAAAAAAAAAAAAAAAAAAAAAAAAAAAAAAAAAAAAAAAAAAAAAAAAAAAAAAAAAAAAAAAAAAAAAAAAAAAAAAAAAAAAAAAAAAAAAAAAAAAAAAAAAAAAAAAAAAAAAAAAAAAAAAAAAAAAAAAAAAAAAAAAAAAAAAAAAAAAAAAAAAAAAAAAAAAAAAAAAAAAAAAAAAAAAAAAAAAAAAAAAAAAAAAAAAAAAAAAAAAAAAAAAAAAAAAAAAAAAAAAAAAAAAAAAAAAAAAAAAAAAAAAAAAAAAAAAAAAAAAAAAAAAAAAAAAAAAAAAAAAAAAAAAAAAAAAAAAAAAAAAAAAAAAAAAAAAAAAAAAAAAAAAAAAAAAAAAAAAAAAAAAAAAAAAAAAAAAAAAAAAAAAAAAAAAAAAAAAAAAAAAAAAAAAAAAAAAAAAAAAAAAAAAAAAAAAAAAAAAAAAAAAAAAAAAAAAAAAAAAAAAAAAAAAAAAAAAAAAAAAAAAAAAAAAAAAAAAAAAAAAAAAAAAAAAAAAAAAAAAAAAAAAAAAAAAAAAAAAAAAAAAAAAAAAAAAAAAAAAAAAAAAAAAAAAAAAAAAAAAAAAAAAAAAAAAAAAAAAAAAAAAAAAAAAAAAAAAAAAAAAAAAAAAAAAAAAAAAAAAAAAAAAAAAAAAAAAAAAAAAAAAAAAAAAAAAAAAAAAAAAAAAAAAAAAAAAAAAAAAAAAAAAAAAAAAAAAAAAAAAAAAAAAAAAAAAAAAAAAAAAAAAAAAAAAAAAAAAAAAAAAAAAAAAAAAAAAAAAAAAAAAAAAAAAAAAAAAAAAAAAAAAAAAAAAAAAAAAAAAAAAAAAAAAAAAAAAAAAAAAAAAAAAAAAAAAAAAAAAAAAAAAAAAAAAAAAAAAAAAAAAAAAAAAAAAAAAAAAAAAAAAAAAAAAAAAAAAAAAAAAAAAAAAAAAAAAAAAAAAAAAAAAAAAAAAAAAAAAAAAAAAAAAAAAAAAAAAAAAAAAAAAAAAAAAAAAAAAAAAAAAAAAAAAAAAAAAAAAAAAAAAAAAAAAAAAAAAAAAAAAAAAAAAAAAAAAAAAAAAAAAAAAAAAAAAAAAAAAAAAAAAAAAAAAAAAAAAAAAAAAAAAAAAAAAAAAAAAAAAAAAAAAAAAAAAAAAAAAAAAAAAAAAAAAAAAAAAAAAAAAAAAAAAAAAAAAAAAAAAAAAAAAAAAAAAAAAAAAAAAAAAAAAAAAAAAAAAAAAAAAAAAAAAAAAAAAAAAAAAAAAAAAAAAAAAAAAAAAAAAAAAAAAAAAAAAAAAAAAAAAAAAAAAAAAAAAAAAAAAAAAAAAAAAAAAAAAAAAAAAAAAAAAAAAAAAAAAAAAAAAAAAAAAAAAAAAAAAAAAAAAAAAAAAAAAAAAAAAAAAAAAAAAAAAAAAAAAAAAAAAAAAAAAAAAAAAAAAAAAAAAAAAAAAAAAAAAAAAAAAAAAAAAAAAAAAAAAAAAAAAAAAAAAAAAAAAAAAAAAAAAAAAAAAAAAAAAAAAAAAAAAAAAAAAAAAAAAAAAAAAAAAAAAAAAAAAAAAAAAAAAAAAAAAAAAAAAAAAAAAAAAAAAAAAAAAAAAAAAAAAAAAAAAAAAAAAAAAAAAAAAAAAAAAAAAAAAAAAAAAAAAAAAAAAAAAAAAAAAAAAAAAAAAAAAAAAAAAAAAAAAAAAAAAAAAAAAAAAAAAAAAAAAAAAAAAAE1hbGlrYQAAAAWQAwACAAAAFAAAEKCQBAACAAAAFAAAELSSkQACAAAAAzM4AACSkgACAAAAAzM4AADqHAAHAAAIDAAACJQAAAAAHOoAAAAIAAAAAAAAAAAAAAAAAAAAAAAAAAAAAAAAAAAAAAAAAAAAAAAAAAAAAAAAAAAAAAAAAAAAAAAAAAAAAAAAAAAAAAAAAAAAAAAAAAAAAAAAAAAAAAAAAAAAAAAAAAAAAAAAAAAAAAAAAAAAAAAAAAAAAAAAAAAAAAAAAAAAAAAAAAAAAAAAAAAAAAAAAAAAAAAAAAAAAAAAAAAAAAAAAAAAAAAAAAAAAAAAAAAAAAAAAAAAAAAAAAAAAAAAAAAAAAAAAAAAAAAAAAAAAAAAAAAAAAAAAAAAAAAAAAAAAAAAAAAAAAAAAAAAAAAAAAAAAAAAAAAAAAAAAAAAAAAAAAAAAAAAAAAAAAAAAAAAAAAAAAAAAAAAAAAAAAAAAAAAAAAAAAAAAAAAAAAAAAAAAAAAAAAAAAAAAAAAAAAAAAAAAAAAAAAAAAAAAAAAAAAAAAAAAAAAAAAAAAAAAAAAAAAAAAAAAAAAAAAAAAAAAAAAAAAAAAAAAAAAAAAAAAAAAAAAAAAAAAAAAAAAAAAAAAAAAAAAAAAAAAAAAAAAAAAAAAAAAAAAAAAAAAAAAAAAAAAAAAAAAAAAAAAAAAAAAAAAAAAAAAAAAAAAAAAAAAAAAAAAAAAAAAAAAAAAAAAAAAAAAAAAAAAAAAAAAAAAAAAAAAAAAAAAAAAAAAAAAAAAAAAAAAAAAAAAAAAAAAAAAAAAAAAAAAAAAAAAAAAAAAAAAAAAAAAAAAAAAAAAAAAAAAAAAAAAAAAAAAAAAAAAAAAAAAAAAAAAAAAAAAAAAAAAAAAAAAAAAAAAAAAAAAAAAAAAAAAAAAAAAAAAAAAAAAAAAAAAAAAAAAAAAAAAAAAAAAAAAAAAAAAAAAAAAAAAAAAAAAAAAAAAAAAAAAAAAAAAAAAAAAAAAAAAAAAAAAAAAAAAAAAAAAAAAAAAAAAAAAAAAAAAAAAAAAAAAAAAAAAAAAAAAAAAAAAAAAAAAAAAAAAAAAAAAAAAAAAAAAAAAAAAAAAAAAAAAAAAAAAAAAAAAAAAAAAAAAAAAAAAAAAAAAAAAAAAAAAAAAAAAAAAAAAAAAAAAAAAAAAAAAAAAAAAAAAAAAAAAAAAAAAAAAAAAAAAAAAAAAAAAAAAAAAAAAAAAAAAAAAAAAAAAAAAAAAAAAAAAAAAAAAAAAAAAAAAAAAAAAAAAAAAAAAAAAAAAAAAAAAAAAAAAAAAAAAAAAAAAAAAAAAAAAAAAAAAAAAAAAAAAAAAAAAAAAAAAAAAAAAAAAAAAAAAAAAAAAAAAAAAAAAAAAAAAAAAAAAAAAAAAAAAAAAAAAAAAAAAAAAAAAAAAAAAAAAAAAAAAAAAAAAAAAAAAAAAAAAAAAAAAAAAAAAAAAAAAAAAAAAAAAAAAAAAAAAAAAAAAAAAAAAAAAAAAAAAAAAAAAAAAAAAAAAAAAAAAAAAAAAAAAAAAAAAAAAAAAAAAAAAAAAAAAAAAAAAAAAAAAAAAAAAAAAAAAAAAAAAAAAAAAAAAAAAAAAAAAAAAAAAAAAAAAAAAAAAAAAAAAAAAAAAAAAAAAAAAAAAAAAAAAAAAAAAAAAAAAAAAAAAAAAAAAAAAAAAAAAAAAAAAAAAAAAAAAAAAAAAAAAAAAAAAAAAAAAAAAAAAAAAAAAAAAAAAAAAAAAAAAAAAAAAAAAAAAAAAAAAAAAAAAAAAAAAAAAAAAAAAAAAAAAAAAAAAAAAAAAAAAAAAAAAAAAAAAAAAAAAAAAAAAAAAAAAAAAAAAAAAAAAAAAAAAAAAAAAAAAAAAAAAAAAAAAAAAAAAAAAAAAAAAAAAAAAAAAAAAAAAAAAAAAAAAAAAAAAAAAAAAAAAAAAAAAAAAAAAAAAAAAAAAAAAAAAAAAAAAAAAAAAAAAAAAAAAAAAAAAAAAAAAAAAAAAAAAAAAAAAAAAAAAAAAAAAAAAAAAAAAAAAAAAAAAAAAAAAAAAAAAAAAAAAAAAAAAAAAAAAAAAAAAAAAAAAAAAAAAAAAAAAAAAAAAAAAAAAAAAAAAAAAAAAAAAAAAAAAAAAAAAAAAAAAAAAAAAAAAAAAAAAAAAAAAAAAAAAAAAAAAAAAAAAAAAAAAAAAAAAAAAAAAAAAAAAAAAAAAAAAAAAAAAAAAAAAAAAAAAAAAAAAAAAAAAAAAAAAAAAAAAAAAAAAAAAAAAAAAAAAAAAAAAAAAAAAAAAAAAAAAAAAAAAAAAAAAAAAAAAAAAAAAAAAAAAAAAAAAAAAAAAAAAAAAAAAAAAAAAAAAAAAAAAAAAAAAAAAAAAAAAAAAAAAAAAAAAAAAAAAAAAAAAAAAAAAAAAAAAAAAAAAAAAAAAAAAAAAAAAAAAAAAAAAAAAAAAAAAAAAAAAAAAAAAAAAAAAAAAAAAAAAAAAAAAAAAAAAAAAAAAAAAAAAAAAAAAAAAAAAAAAAAAAAAAAAAAAAAAAAAAAAAAAAAAAAAAAAAAAAAAAAAAAAAAAAAAAAAAAAAAAAAAAAAAAAAAAAAAAAAAAAAAAAAAAAAAAAAAAAAAAAAAAAAAAAAAAAAAAAAAAAAAAAAAAAAAAAAAAAAAAAAAAAAAAAAAAAAAAAAAAAAAAAAAAAAAAAAAAAAAAAAAAAAAAAAAAAAAAAAAAAAAAAAAAAAAAAAAAAAAAAAAAAAAAAAAAAAAAAAAAAAAAAAAAAAAAAAAAAAAAAAAAAAAAAAAAAAAAAAAAAAAAAAAAAAAAAAAAAAAAAAAAAAAAAAAAAAAAAAAyMDIxOjAxOjE4IDEzOjMyOjAzADIwMjE6MDE6MTggMTM6MzI6MDMAAABNAGEAbABpAGsAYQAAAP/hCxlodHRwOi8vbnMuYWRvYmUuY29tL3hhcC8xLjAvADw/eHBhY2tldCBiZWdpbj0n77u/JyBpZD0nVzVNME1wQ2VoaUh6cmVTek5UY3prYzlkJz8+DQo8eDp4bXBtZXRhIHhtbG5zOng9ImFkb2JlOm5zOm1ldGEvIj48cmRmOlJERiB4bWxuczpyZGY9Imh0dHA6Ly93d3cudzMub3JnLzE5OTkvMDIvMjItcmRmLXN5bnRheC1ucyMiPjxyZGY6RGVzY3JpcHRpb24gcmRmOmFib3V0PSJ1dWlkOmZhZjViZGQ1LWJhM2QtMTFkYS1hZDMxLWQzM2Q3NTE4MmYxYiIgeG1sbnM6ZGM9Imh0dHA6Ly9wdXJsLm9yZy9kYy9lbGVtZW50cy8xLjEvIi8+PHJkZjpEZXNjcmlwdGlvbiByZGY6YWJvdXQ9InV1aWQ6ZmFmNWJkZDUtYmEzZC0xMWRhLWFkMzEtZDMzZDc1MTgyZjFiIiB4bWxuczp4bXA9Imh0dHA6Ly9ucy5hZG9iZS5jb20veGFwLzEuMC8iPjx4bXA6Q3JlYXRlRGF0ZT4yMDIxLTAxLTE4VDEzOjMyOjAzLjM3NTwveG1wOkNyZWF0ZURhdGU+PC9yZGY6RGVzY3JpcHRpb24+PHJkZjpEZXNjcmlwdGlvbiByZGY6YWJvdXQ9InV1aWQ6ZmFmNWJkZDUtYmEzZC0xMWRhLWFkMzEtZDMzZDc1MTgyZjFiIiB4bWxuczpkYz0iaHR0cDovL3B1cmwub3JnL2RjL2VsZW1lbnRzLzEuMS8iPjxkYzpjcmVhdG9yPjxyZGY6U2VxIHhtbG5zOnJkZj0iaHR0cDovL3d3dy53My5vcmcvMTk5OS8wMi8yMi1yZGYtc3ludGF4LW5zIyI+PHJkZjpsaT5NYWxpa2E8L3JkZjpsaT48L3JkZjpTZXE+DQoJCQk8L2RjOmNyZWF0b3I+PC9yZGY6RGVzY3JpcHRpb24+PC9yZGY6UkRGPjwveDp4bXBtZXRhPg0KICAgICAgICAgICAgICAgICAgICAgICAgICAgICAgICAgICAgICAgICAgICAgICAgICAgICAgICAgICAgICAgICAgICAgICAgICAgICAgICAgICAgICAgICAgICAgICAgICAgIAogICAgICAgICAgICAgICAgICAgICAgICAgICAgICAgICAgICAgICAgICAgICAgICAgICAgICAgICAgICAgICAgICAgICAgICAgICAgICAgICAgICAgICAgICAgICAgICAgICAgCiAgICAgICAgICAgICAgICAgICAgICAgICAgICAgICAgICAgICAgICAgICAgICAgICAgICAgICAgICAgICAgICAgICAgICAgICAgICAgICAgICAgICAgICAgICAgICAgICAgICAKICAgICAgICAgICAgICAgICAgICAgICAgICAgICAgICAgICAgICAgICAgICAgICAgICAgICAgICAgICAgICAgICAgICAgICAgICAgICAgICAgICAgICAgICAgICAgICAgICAgIAogICAgICAgICAgICAgICAgICAgICAgICAgICAgICAgICAgICAgICAgICAgICAgICAgICAgICAgICAgICAgICAgICAgICAgICAgICAgICAgICAgICAgICAgICAgICAgICAgICAgCiAgICAgICAgICAgICAgICAgICAgICAgICAgICAgICAgICAgICAgICAgICAgICAgICAgICAgICAgICAgICAgICAgICAgICAgICAgICAgICAgICAgICAgICAgICAgICAgICAgICAKICAgICAgICAgICAgICAgICAgICAgICAgICAgICAgICAgICAgICAgICAgICAgICAgICAgICAgICAgICAgICAgICAgICAgICAgICAgICAgICAgICAgICAgICAgICAgICAgICAgIAogICAgICAgICAgICAgICAgICAgICAgICAgICAgICAgICAgICAgICAgICAgICAgICAgICAgICAgICAgICAgICAgICAgICAgICAgICAgICAgICAgICAgICAgICAgICAgICAgICAgCiAgICAgICAgICAgICAgICAgICAgICAgICAgICAgICAgICAgICAgICAgICAgICAgICAgICAgICAgICAgICAgICAgICAgICAgICAgICAgICAgICAgICAgICAgICAgICAgICAgICAKICAgICAgICAgICAgICAgICAgICAgICAgICAgICAgICAgICAgICAgICAgICAgICAgICAgICAgICAgICAgICAgICAgICAgICAgICAgICAgICAgICAgICAgICAgICAgICAgICAgIAogICAgICAgICAgICAgICAgICAgICAgICAgICAgICAgICAgICAgICAgICAgICAgICAgICAgICAgICAgICAgICAgICAgICAgICAgICAgICAgICAgICAgICAgICAgICAgICAgICAgCiAgICAgICAgICAgICAgICAgICAgICAgICAgICAgICAgICAgICAgICAgICAgICAgICAgICAgICAgICAgICAgICAgICAgICAgICAgICAgICAgICAgICAgICAgICAgICAgICAgICAKICAgICAgICAgICAgICAgICAgICAgICAgICAgICAgICAgICAgICAgICAgICAgICAgICAgICAgICAgICAgICAgICAgICAgICAgICAgICAgICAgICAgICAgICAgICAgICAgICAgIAogICAgICAgICAgICAgICAgICAgICAgICAgICAgICAgICAgICAgICAgICAgICAgICAgICAgICAgICAgICAgICAgICAgICAgICAgICAgICAgICAgICAgICAgICAgICAgICAgICAgCiAgICAgICAgICAgICAgICAgICAgICAgICAgICAgICAgICAgICAgICAgICAgICAgICAgICAgICAgICAgICAgICAgICAgICAgICAgICAgICAgICAgICAgICAgICAgICAgICAgICAKICAgICAgICAgICAgICAgICAgICAgICAgICAgICAgICAgICAgICAgICAgICAgICAgICAgICAgICAgICAgICAgICAgICAgICAgICAgICAgICAgICAgICAgICAgICAgICAgICAgIAogICAgICAgICAgICAgICAgICAgICAgICAgICAgICAgICAgICAgICAgICAgICAgICAgICAgICAgICAgICAgICAgICAgICAgICAgICAgICAgICAgICAgICAgICAgICAgICAgICAgCiAgICAgICAgICAgICAgICAgICAgICAgICAgICAgICAgICAgICAgICAgICAgICAgICAgICAgICAgICAgICAgICAgICAgICAgICAgICAgICAgICAgICAgICAgICAgICAgICAgICAKICAgICAgICAgICAgICAgICAgICAgICAgICAgICAgICAgICAgICAgICAgICAgICAgICAgICAgICAgICAgICAgICAgICAgICAgICAgICAgICAgICAgICAgICAgICAgICAgICAgIAogICAgICAgICAgICAgICAgICAgICAgICAgICAgICAgICAgICAgICAgICAgICAgICAgICAgICAgICAgICAgICAgICAgICAgICAgICAgICAgICAgICAgICAgICAgICAgICAgICAgCiAgICAgICAgICAgICAgICAgICAgICAgICAgICA8P3hwYWNrZXQgZW5kPSd3Jz8+/9sAQwAHBQUGBQQHBgUGCAcHCAoRCwoJCQoVDxAMERgVGhkYFRgXGx4nIRsdJR0XGCIuIiUoKSssKxogLzMvKjInKisq/9sAQwEHCAgKCQoUCwsUKhwYHCoqKioqKioqKioqKioqKioqKioqKioqKioqKioqKioqKioqKioqKioqKioqKioqKioq/8AAEQgBGAGAAwEiAAIRAQMRAf/EAB8AAAEFAQEBAQEBAAAAAAAAAAABAgMEBQYHCAkKC//EALUQAAIBAwMCBAMFBQQEAAABfQECAwAEEQUSITFBBhNRYQcicRQygZGhCCNCscEVUtHwJDNicoIJChYXGBkaJSYnKCkqNDU2Nzg5OkNERUZHSElKU1RVVldYWVpjZGVmZ2hpanN0dXZ3eHl6g4SFhoeIiYqSk5SVlpeYmZqio6Slpqeoqaqys7S1tre4ubrCw8TFxsfIycrS09TV1tfY2drh4uPk5ebn6Onq8fLz9PX29/j5+v/EAB8BAAMBAQEBAQEBAQEAAAAAAAABAgMEBQYHCAkKC//EALURAAIBAgQEAwQHBQQEAAECdwABAgMRBAUhMQYSQVEHYXETIjKBCBRCkaGxwQkjM1LwFWJy0QoWJDThJfEXGBkaJicoKSo1Njc4OTpDREVGR0hJSlNUVVZXWFlaY2RlZmdoaWpzdHV2d3h5eoKDhIWGh4iJipKTlJWWl5iZmqKjpKWmp6ipqrKztLW2t7i5usLDxMXGx8jJytLT1NXW19jZ2uLj5OXm5+jp6vLz9PX29/j5+v/aAAwDAQACEQMRAD8A+kaKK4Px34yv9A1W3s9OvtGtQ8Zd/t0rGQn2Rece9AHeUVxvhbxZqPi3wHLqWnR2i6lHI8JDMTCzqeoI5wQc1ieHvFvj7xTpMN5puj6bDHHK8c0lxKwExVyp8sdgAOp7g0Aem0VwfivxX4n0HxZp1hp2mWuoW+pK6QRq5WQOoBJZugXJ646Vq6Zf+KLXStSufFUOlwtChe3aGchDx0ckcc96AOnoryXQ/inqU3ijS7DUbnRr2HUZvIxp8jFoWwSDk8MOMcV0P/CU6/bfFL/hH9RhsYtNngee1mG7fIF/hz03DqfagDuaMjOM81x3w/8AEeueJbe/vdXgtI7JLh4rSS33fvQrEFue3H86reCr258Q+MPEeszzOba1uTp1pDu+VRGTvbHTLHH5UAd0SB1OKK8/+JokuNU8K2IubiCC71ExzCCZoy67OmRXdRwrbWSwxlisUYRSzFjgDHJPU+9AEoIPQilJA6nFef8AwqtjcafqOq3NzdT3Ul/PCfNnZlCq3ACk4FO+JwknvfCtktzcQQ3eqiKbyJWjLr5bHGR7igDvqKjt4FtraOCMsUjQIpdixIAxyT1PvUlADJJooRmaRIx6swFPrzj40aJZXXg2fVZlkN1a7FhIkYKuZBn5c4NejjpQAUUUUAFFFFAEc1zBb48+aOLPTe4Gfzp4IZQVIIPQiuI8caD4Wi+1eJPF265ijtxFHBM+UU8/cX++aufDKz1Kx8AafFrHmCbDMiSklo4yxKqc9wMUAdZRRRQAUUUUARzXMFvjz5o4s9N7gZ/OnhgygqQQehFcZ8QNA0e4sZdZ1PQ7rW54ITFHbw5faOfmC5wDz16074USNJ8NtNL3Yu2AcFtxYp8x+Q57r938KAOyooooAKKKKAGvIkSF5GVFHVmOAKVWDqGUhlPIIPWvMvilqn9rJd+Gra5WKK3s3vNQffg4AzHF9WOD9B7113gSaOfwHozRSLJi0jVipzghRkUAdBRRRQAUUUUARSXMETbZZo0b0ZwDUisrqGRgynoQcg15P4w8O3V78RL+/ufCk+u2X2KERMtx5QRlL7gP7x5HFd34L1HS9V8I2c2hxNBZhTGsL/eiIJBU+4OaAN0EHoQaWvPfD0DaZ8YdZ0+C6untfsUcwimnaQK7HkjJ4r0KgAooooAKKKKACuC1fwZ4gXxpe654c1HT4hqEKRzLfW5kMe0YBQg/oa72igDgvDXhHxT4Y0PVLG21fTrmW5uDcQTTW78Mx+feAR2AxjpU3gfw14r8MW8GnX+paVc6bG8jlYoJFlJd2c8lsdW9OldvRQBw3iPwz4u1PxbZ6tpep6TBDp+/7NHPbyM3zqA24huenGMVqa14d1HxJ4DuNG1a8gS+uI8PPbIyx7g2RgEk44GefWulooA8vufAXjO/fSp7nWdHil0mdJbeGGzYRttBGW5znB6DAqt8W9R0nUoNN0mHU4oNdW9SJZon2m2VuJCx7Db2+les1Vk0uwlnM0tjbPKTkyNCpbPrnFADNJ0230nRrXT7RQsNvEsagd8DrXHeAon0LxT4m8P3KlS142oWzY4eKUk4H+6Rg/Wu+6dKb5aeYH2LvAwGxzj60AeffFC5hsda8IXd04jgh1JmkkPRRs6mu+WZLizE0LB45I9yMOjAjINPkijlGJUVx6MM04AAYAwB2oA89+EeoWraRqWnCZftcWo3Ejwn7yqX4OKX4o3MVlqXhC7un8uCHWA0kh6KPKfk13yQxRsWSNFZupCgE0SRxyqBKiuB0DAGgAhmjuII5oWDxyKGRh0IPINPpAAFAUAAdAKWgDjfiD4Z8QeLNNbTNKv9PtbGVR5v2iF2kLBgRgg4xx6V0Oipq8GmY8Qz2k92GJL2cbIm3twxJzWgSFGWIA96AwYZUgj1BoA89+F0eu391rev69c3YjvLp0s7OckLFGrdQp6en4e9eh0UUAFFFFAHnni3wP4l17xlb6vZarp32OzUG2s7yB3WN+74BAJ9D2rrdAttX0/RiviC9ivrwMzNJBGVXHUAD2rVLqpwzAH3NAIYZUgj2oA8++F6a5qE2ta/rtxdiG8vHWys5yQIYlY4+U9O35V6FR0ooAKKKKAOV17T/Gb6pJN4d1bTktJUC/Z723ZvLPdgVIz+NWvB3hr/AIRLw0LF7j7VO0klxPNtxvkdizEDsMmt9nVfvMB9TSg5HHNAHn3wvj1u/fWNf124uxHfXbC0tLgkCGNSeQp6Zz+leg0dKKACiiigDivG/wAOdP8AE9tdT2dlYJq1yAjXdyjtgAYzhSOQAMfStPwV4fk8JeD7bS7j7M0luDua1RlV/fBJOfWuhZ1X7zAfU0vXpQB578LItdvP7Y13xBc3ZW9u3W0tZyQsMSsRwp6c/oK9Co6UUAFFFIGDfdIP0NAHLa3Z+N31KY6BqWkx2UqgIt1buZITjkgqQD681e8IeG08KeG4dNE5uJFLSTTEY8x2JLHHbk1ts6r95gPqaXqKAPO9Av7bU/jXrdxYSrPEmnxRs6cgMDyM0/4mnXNQ1Hw9ofh6e6tPtl2Wurm3yNkSgEgsPYn8q75Ioo2JjjRSepVQM0+gBkUflQpHktsULljknFPoooAKKKKACiiigAooooAKKKKACiiigAooooAKKKKACuE+Jclw154WsoLy4tYr3VBFObeQozJ5bHGR7iu7rz/4n3EVpqng+4uZFihi1gM8jnCqPKfkntQB3kEIt7eOFWZljUKGdsscDue5qSmxSpPCksLh43UMrKchgehFOoA8n8f64b34iWvh24ttRvdPt7Q3U9np4O64YnADnIwoHPXkkV2/gi50K78Lwy+FrYWtiWYeRs2GN/4gw7HNZviHwzrS+LE8SeFJbIXjWptLiC9DbHTduDArzkGtDwT4bl8K+HWtry4W4upp5Lq5kjGFMj8kKPTigDo6K87+F0muavd63r+tXVyba6unisrSUkLHGp6gfhj8K9EoAKKKKAOO8X+E/Dso1DxJr6TTeRa5ZTOyoioCeAMcnP6CpfhnpUmleArBLjcJZwZ2ViTs3kkLz6DFWfHHh+88T6HFpdpNHDDLcxm7Lk5aENllGB1Nb6qtvbBVHyxpgAegFAElFeefC6XW9YuNa1/WLq4+yXV46WFrLkCOJWIzjt2H4V6HQAUUUUAeR+PrjTYfiQqeK7W41bTm03dbWdqpkMMgY7naNeeR0b29q6n4UyTzfD+1lnuDMjyymDdJvaOLediM3qFwD6YxTNb8Na/b+MZPEXheSwllurUWs8GobtqgEkMpX69K1PBnhybwt4ca1up1uLqWaW5naMYQO7FiFHYAnigDoqK89+F0mt6tLrPiDWbq5NteXbJZWspIEcak8gds5x+FehUAFFFFAHkvjY6QfiNMPHfnf2ULAHTvveWJM/Ofl/j9Paui+EOr3OsfD23lu3lkaGaSBJJvvsin5SffHH4VoeKbHxPqkv2PRTpdtaOmGu7gM80Z7lFxtz6ZrS8O6Fa+FfDdvpdmWaK2Tl2+856lj7k80Aa1Fed/Ct9c1RtY17XLu5aG7u3SytpSQscasRkDtyMfhXolAEV1brd2ktvIXVJUKMUYqwBGOCOhrgvhrYQ6V4l8Y2NqZDDDewhPMkLnmIE8nnqa7u8+1fYpv7P8r7TsPlednZuxxnHOK4jwr4c8ZaP4o1DUNSn0SS21SdZbpYDLvXam0BMgDsOtAFS/0a38b/E7V9O1ppJLHSbKHyIA5UCSXcTJx3G0YrZ+GGpXWpeB4RfytNNbSy2xlY5LhHIBJ+mKi1/wz4gi8VS694QurKOe8thbXUV7u2/LnY429xk1t+EvDyeFvDNtpiy+c8YZpZcY3uxLMfzNAHNeHxPYfF3WdMS+u57MWUc6xXExcKzHnGeld/Xnmh3ttf8Axu1qaynSeNdPiRnjbcAwPIz60vxOudbudQ8PaD4cuLi0l1C7JuLiHIKRKAW5+hJ/CgD0KimQx+VAkZYtsULuY5JwOpp9ABRRRQAUUUUAFFFFABRRRQAUUUUAFFFFABRRRQAVFcWtvdoEuoY5lByA6ggH8alrhviRc3qXnhiysr+4skvtUEM7277WZPLY4z9QKAO4VVRAqAKqjAAHAFLUAtf+JeLUzSn935fm7vnPGM59feuC8A2I0vx94rsY7i4njiMBVriUyNypJ5NAHolFedfGXS1l8HT6mLq6jltdgSOOYqhy45Kjqa9FHSgAAAGAMCiiigAopk8Xn28kRZkEildyHDDIxkH1rgfAViNK8d+MNPiuLieKCW22tcSmRvmhDHk+5NAHoNFcR418NaJcPda74s1C4On29uAlt5xSONhnLADkseMfSrfwyOqHwDYNrbStOwYoZj8/l7js3e+MUAdYAB0GKKKKACimTxefbyRFmQOpXchwRn0NcF4AsF0rxt4tsIri4niia2KtcSmRslGJ5NAHoFFcR8RdF0WXT5NY16LUr2O3i2R2toXIDc/OFXvz1PHFWfhdcXNz8OtMlvrv7XKytiQuHIXcdqk+oGAfcUAdcAB0GKKKKACiorqAXVrLAXeMSKV3xnDLnuD2NcF8OrMab4q8W2Mc880UF3GEM8pduUB6mgD0KivOPijqc+oWtz4c0yYxFLR7y/lVsFIlB2p9WbH4A11fgqQy+BtGdn3sbOPcxOcnaKANwAAYAwKKKKACiorqAXVpLAXeMSIVLxthlyMZB7GuD+G1mNN8SeMLGOeeaKC9hCNPIXbmIE8n3NAHoNHWvIvGlnJL8Rr+bUNG1rU7FbGAw/YJGRUIL7+4yenFeheEb3TNR8KWU2hySPZeXtTzSS64JBDZ5yDkUAasNlbW0jvb28cTP95kQAt9amwCQSOR0rgtAkvLL4taxpL6ld3VmtnHOkdxJu2Mx5xx0q78UFuYfA97qFjqF1ZXFlG0iNbybdx/2vUUAdhRVHRJpLjQNPmmYvJJaxu7HuSoJNXqACiiigAooooAKKKKACiiigAooooAKKKKACiiigArz/4n3ENpq3g6e5kWKGPWAXkc4VR5T8k16BVa906z1KNY9QtYblFO5VlQMAfXmgB0ssktg0unmKWRo90JdvkY44yR2rhfDuheNdO8Z6hq1/Donkam0fnrDcylowox8uUGT9a7+ONIo1jiUIiAKqqMAD0p1AHFfEfQvEvibR30jQl0xbWdVMst3M6urBgeAqkY4rpNGfVjpu7xDFZxXYY5WzkZ029uWAOfwrRooA88+F99ruv3et67q13K1hNdPFYWzDCoin739PwNeh0iqqLhQAPQCloAiuTOLSU2axtcbD5QkJClscZI5AzXCeHND8a6d401LVtRh0T7PqskTXCw3MpaMJGEG0FAD0716BRQB5x408J+Lte8X215aHSbrR7MBobG9mkRWl/vuFUhsdgeK7HQBrMGjZ8TNaNeBmYizz5ar2AyAeB7VrUUAee/DC/1vxBca1ruqXUrafPePHp1uwwFjViN38h+Br0KkVQgwoAHoKWgCO5M4tZTaBGn2nyxISFLdskdq4Tw3onjXTvGOoapqUOifZ9UeL7QsFzKWjCAj5QUAJ57139FAHLa8fG0WoufD8Wk3VjIgUR3bvG8bdzkAgipfBHhuXwn4X+xXUyT3LyyXEzRjCb3YsQo7AZxXSUUAeffC++1vXpdZ17VbqV7G5umSwt3GAkak/MPrnH4V6DSKoRcKAB6CloAhvDciymNgsTXOw+UszEIW7ZIBIFcL4W0LxnpXizUtR1OLRTbapMss4guJS8eFwNoKAHp3NegUUAcF47+G1n4ihvr3TLOI6zdoI2lnu5YkwF2gkJkEgAcYrY8CaDN4U8F2um30dvHNACZDbyvIrH+9lgDz6V0tFAHnnwsvdd106xrus3cr2dxdvHYW7DCpGrEZH48fhXodIqhFwoAHoBS0AQ3huRZymwWJ7nYfKWZiqFu2SASBXDeE9C8Z6T4q1K/1OLRTa6rOstx5FxKzx7U2gKCgB6Dqa7+igDltcm8cRajKugWmjz2cigRPczOkkZxyWAUgjNWfBXhtvCvhmLT5pxPPueWaQDALsxJwPTmugo60AeeaJeW198b9aks5454106JGaNgwDA8jI71ofFi9trb4capFcTxxSTwssSuwBkPoB3NdRa6VYWM0ktlZwQSSnLvHGFLfXFLe6ZY6kqLqFpDcqhyolQNtPtmgCtoj+V4T09z/BYxk/ggrkfhVe63rltqmvazdyyW15dOLG3cYEcaseR9c4/CvQFVUQIoAVRgAdhQqhFwoAHoBQAtFFFABRRRQAUUUUAFFFFABRRRQAUUUUAFFFFABRRRQAUUUUAFFFFABRRRQAUUUUAFFFFABRRRQAUUUUAFFFFABRRRQAUUUUAFFFFABRRRQAUUUUAFFFFABRRRQAUUUUAFFFFABRRRQAUUUUAFFFFABRRRQAUUUUAFFFI5xGxHYUALRXDfDW61TV7bUNU1TVZrkG8mt0tmRQkYVuCMDOad8RtQ1K2uPDllpWoSWH9o6kLeaWJVZtnlseNwPcCgDt6Kri2k/s0WxuZDJ5Ww3GBvJxjd6Z71w3gKK7sPG/ifTbnU7zUI7Yw+W91JuIypJx2H4UAeg0V5b8QvFgXxpaeGpdRurCyW3+03TWSFppucBFIBIGMkn2rt/CD6TJ4at5fD93Ld2MmWSWad5WJ7gs5J/DtQBt0UUUAFFR3ETT2ssSSNE0iFRImMoSOoz3FcL4CiurDxp4r0u41O81CO0lt/Le6k3MN0QY+w5PagDvqK47xX4Xiuri81y/1/VLO1gtwxgtJ/KRAgJZvcn+lS/DSC+i8CWMup3E9xPchpgZ3LMqsTtGT/ALOKAOsooooAKKjuIjNbyRLI0TOpUOvVc9x71wvgGC60/wAX+KdNudTvNRjtmtjG93JuI3KxOOw/CgDvqK8q8eanbW3jxLfxZq17puiGw32n2SZ4984Y7txT5sgYwOldR8MrzUL7wNbXGpzSTlpJPIll++8O8+WW9yuKAOtooooAKKiu4WubOWFJngaRColTG5M9xnvXC/DuO6s/EninTrnUrvUEtLpFje6k3MAUBPsOvagDv6K8t8W3UN78RbjTvEOu3Oi6fb6eJrPybgwCZyfmYsOpHpXQfCvxBceI/Alvd3kxuJYpXgM5GDKFPDfUjFAHZUUUUAFFUdZs7rUNHuLWwvGsZ5V2rcKoYx+4Fee2FrN4e+KWmaPomr3+oo9s76rHdXDTKg42vz90k9higD1CivOtVtLzxl8RdS0c6peWFjpNnE6raSmMtNLuwxI6gbenStr4c6zd654Lgl1F/Mu4Hkt5ZMffKMVz9cAUAdXRXCeH7vVbX4patot5qs19aR2kdxGJkUFCx6DaBxXd0AFFFFABRRRQAUUUUAFFFFABRRRQAUUUUAFFFFABTZP9W30NOo60AcH8JJoz4Zv4g6mRdUuSVzyBupvxKdY9b8GPIwVRrIyScAfunrrrDQdK0u6mudO0+3tp5zmWSKMKX5zzin6no2m61CkWrWUF5HG29FmQMFbpkZoAnuJZRZyS2cazy7C0aF9oc44Ge31rz7w1Z+M7LxzqWqah4etYrbVXj8wrqCsYQoxnG35v0r0SKKOCFIoUCRxqFVVGAoHQU+gDhPEWh61p3jpfFPhzToNTaayNncW0s4iYfMCHViD6YIrS+H/h+88NeGHh1Uxrd3NzJdzJEcpEXOdoPoMV1NHXrQB5/wDDXXde8UX2t6rqVwP7JF00GnwCMD5VPLZ6n0/OvQKjgt4baIR20SRICSFRQBzz0FSUARXTzR2cz2sQmnVGMcTPtDtjgE9snvXn3hm08ZWfjnVdT1Hw9aw2uryxGVk1BWMASMJkDb82ce1ejUUAcx4/0jUtf8NjSdLA23dxHHdOX27YM/P9eO1dFFGlpZpGoCxwoAAOwAqWgjIweRQBwHw117XfFF5req6hcA6R9reHTowgGUViN2ep7frXf1HBbw20QjtokijBJCooA59hUlAEVy80drK9rEJplQmONn2h2xwM9vrXn/hi18ZWfjbU9R1Lw9aw2urPD5rJqCuYAikZA2/N16cV6LRQB5/4g0TXLHx5J4h0rSLfXIrmyFqYJpxE0BDE5BIOQc8itfwBoF54a8KG21Ly1nknmuWhiOUg3uW2L7DOK6mjrQBwPw113XfE9zrWrajcbtKa6aHTohGBhVPLZ6nqB+BrvqjgghtohFbxJFGOiIoAH4CpKAIbyS4isZpLKBbi4VCY4mfYHbsN3b61wHhKy8Y6f4w1W+1PQLWG11adZJHTUFcwALjpt+bp7V6LRQBxvja01bVJFstM8NWN+dv7u/vpV2QE9TswScVreEvD0PhHwrbaWkvm+SpaWYjG9zyze3NblBGRg8igDgPhlrmv+J5dZ1bVbgHTDdPDp8IjAwinls9T6fga7+o4IIbaIRW8SRRjOFRQAM89BUlAGV4nOsjw5d/8IzHFJqZTEAmbaoJOCc+w5rh/AWi+L9BvIor/AEOziW5lMmpai96Jppzg9gBjnGB2Fem0UAcJrmk+JNH8aXWv+FbGDUF1G1S3uIJZxEY3TOx8kHI+Y5Fbfgjw8/hjwpbafcyCS5y0s7r0LsxY49hnH4V0FHWgDgNKljm+OWsmJ1cDTYQSpzg5p3xL8Qa3p91oOj+FphDqGqXexpCgfZGoG44P1z+FdbYaDpWl3U1zp2n29tPP/rZIowrP35NXHt4ZJkmkiRpY87HKglc9cHtQAsSskKLI29woDNj7xx1p9FFABRRRQAUUUUAFFFFABRRRQAUUUUAFFFFABRRRQAVxnxB1XVLG58O2ekXv2JtS1EW8sojDkLsY8A+4FdnXBfEhguueCyxAH9sjk/8AXJ6AOuvrW+k0Ca1sr3y74wbI7p0Bw+PvFenXnFefpDqHhn4h6Dpdhr+oavNeLI2pQXUpkVUC8SAfwc9hXfa9NqcXh+7l8P26XWoCI/Z4ncKrN2ySQK878C6b4x0jVFm1Xwwv2y+l3alqs99FIxXHAVVOQBxgUAavxbTUrTwtLq2m6zeWJtdg8m3YKHJcDJPXofWvQB0rg/ijZ+Ita0CXRdA0M3yXCqzXP2qOMRkMDjaxBPSur0S91C900Tazph0u43EGBp1lwB0O5eKANGiuB+HHiLXfFWpa5qV/Ig0iO6a3sIwmCQp5bPf0/Ou+oAqarBd3Ok3MOm3ItbqSMrFMV3BGxwcV51FHqHhr4kaDpVlr+oatJeRu2pwXUpkVEC8SAfwfNxgV3/iCXVINBu5NAtkudREZ+zxSOFUt2ySR/OvPPAmm+MNH1RJNW8MgXN9Nu1LVZ76KRiuDgKqnIAO0AUAdJ4q0G4vby51LUfE15pek21vuWKzlMJVhks7MDyOnFS/DXUtT1bwJY3etMzzvu2yuMNKgYhWI9xiub+IGmeL9c8TwW0Og/wBp+GrcLI0CXscP2mTrh9xztB7V2/hufVH0NZNe06LTJ1LAW0UgcIg+7yCR0oA2KK4L4ceItb8V3+t6leyJ/Y8d28GnqEwXVWILZ79B+td7QBU1WC7utJuYNNuRa3UkZWKYru8s+uO9eeW8V94a+I+h6TY6/qGrSXcUj6lBdzGRUQAYkA/g57DrXeeIZdUg8P3knh+2S61IR/6PE7hVZvcnA46/hXn3gPTfGGkamj6v4ZH2q+l3alq099FI5GDwqqcgDoBQBv8Aj+0torR9W1bxLqWk2FvFtEdlIY8yc4YleW7DHTirnw4v9R1PwDp13rMnm3MisfMPV03HYT7lcZqPxHqniezvpYLDwxHrOnyx4V1ukRgx6hlbt9Kd8PfD954X8HrZ6lsWdppbhoYjlId7Fti+wzigDqqK4L4ceIdb8U3mt6nfyr/ZK3TQ6eioBkKeTnv2/Wu9oAo6zbXt5o1zb6Xdizu5IysVwU3eWfXFcDZJe+HfibpWjadrmoautxBJJqcV5MZREoU7XH9zLcYrt/E0usQeHLt/DVsl1qezFvHI4VSx7kkgcda4PwDpvi3RtSiGqeGVjlvXL6nqs99FK7nacYVTkDOABQBp/E3Xr6KwfRNAneC+ktnup7iNsNbwIMkgjoScAfU10vhC4lu/BmkXFzI0s0lpGzuxyWJUZJNcl4/8ATaiup6tocmpy6nfRLA1tBeJDGyhdozuHT1Gecmt74eaXe6F4FsrLV4poLmFSJEnuFmI+jLxj0HagDqKK4H4aeIdd8VXGtanqUiDS1ungsIhHglVPLZ7+n5131AFHWba9vNHuLfS7sWd1Iu2Ocpu2H1xXAWSX3h34naXoun65f6stxbPJqUV3MZREBja4z9zJ7Cu38Ty6xD4bu38NWyXOp7MQRyOFGTxnJIHHX8K4XwBpvizRdQRdS8MiKS8kMmpapPfRSySHBxgKcgZwAOwoAq+MNVeL4i39tqOra9ZWENlBJEulqSuSX3s2AfQV6N4buLS78N2cunag+oW7R/JdSNuaTnqT61j69rXiax1KaDTfCf9p27KBDcrdxpzjoytyOam8AeHbnwx4Shsb90a5Z3mlEf3ULMW2j2GaAM7QtR1eH4narod/qJvbSK1S4i3RKpQsenHWu3rgtMdX+Oes7WDf8SyHofel+JXiTWdKn0LSvDDIuo6rd+XudNwSMY3HH45/A0Ad5RTIVdYUWVt7hQGbGMnHJp9ABRRRQAUUUUAFFFFABRRRQAUUUUAFFFFABRRRQAVnazoGmeILeOHWLOO6jifzEVx91sYyPzrRrjvH+s6rptx4ftNFuktX1LUBbSSvEJNq7GbgH3FAHXQQx21vHBCu2ONQiKOwHAFPqhfQai2gTQWF1GmomDbHcOnyiTH3ivpnnFcCh1nwx4/0LS08RXmtSagshv7e5IYRqFyJFH8Az2oA9NoIyMHkV5p8QPGpsvFdp4eXWP7GtzB9ou7tF3SkZwEQep6k44Ars/CwtP+Eet30/VbjV7eTLpd3E3ms4P+1/SgDStbO2sbcQWUEcEQJISNAoBJyeB71NRRQAUVU1WK9m0m5j0qdLe8aMiGWRdyo2OCRXnkTaz4Z+Img6UviK81ltQR2v7e5IYRKFyJFH8AzxigD06ggEEEZB6iuS8TaFqM95daqfFV9plhDAD9ntgFCbQSzEnOc8flT/hvJqdx4Hs7vWrqW6uLndKrzHLBCx25/DB/GgDpLSztrG3EFlBHbwqSRHEgVRk5PAqaiigAoqpqsV7PpNzFpU6W948ZEMsi7lRvUivPrc6v4a+IWh6SviK81p7+ORr+3uWDCJQBiRR/AM8Y70AemUHnrXmXjXWZIvHS6drXiG58O6QLHzree3k8rz5txypf2AHy10fw41TUdY8FwXerO00hlkWKd02tNEHIRyPUqAaAOktbS3sbdYLKCOCFc7Y4kCqM+wqaiigAoqjrMN/c6Ncw6Pcpa3rxkQzOm4I3rjvXB2Tat4c+JOk6LHr95rS3sEkl/DdNv8gBTtkH9wFhjFAHpVBAIIIyD1BrzbxHfXuqfEO50aTxDcaDaWditxD5EgjM7E8sSeqjpitz4aeJJ/FPgmC+vJFmuI5HgkmQYEpU43Y9xg0AdPa2lvY26wWUEcEKkkRxqFUZOTwPc1NRRQAUVBfQz3FjNFaXH2aZ0KpNt3bDjrjvXmmh397p/wAT7fRNP8S3muxeS7aml029bdhjaVP8JzxtoA9SoIyMV59q7az4p8fX+h6brNzpNppVpHKz2pw0k0m7bk/3Rt6d81tfD/XrrxD4PgutQIN5G7wTsBgMyMVzj3wDQBp6Z4a0jR72e702xiguLj/WyKOX5zV6SztprqK5lt43nhz5UjICyZGDg9s1yGhatrKfErVNB1O+ju7aG1S4iIhCFdx6cHmrXxFvtW0nwjc6rol8lrJZoZGV4Q4lHpyeKAOroqppNzJeaLZXM2PMmt45HwOMlQT/ADq3QAUUUUAFFFFABRRRQAUUUUAFFFFABRRRQAUUUUAFcF8SCBrvgsk4H9sjr/1yeu9rL13w3pXiW3hh1m1FwkEnmRjcRtbGMgj2NAD9eudRttBu59DtFvb9YybeAuFDt25JA/WvOvA1p4s0zWBdax4UmbUdQlzqGqXN3CwROyoqsSAPTFepW8EdrbRwQjbHEoRRnOABgVJQB574k0bUNL+IS+KNP0M63DPYm0mgjZBJE24EMN5AIwMGtX4caHfeH/Crw6pGtvPcXUt0bdWBFuHOQmRxx7V1tBAIwRkGgDg/h34o1rxbqeuXt2Ik0eC5a3sgq4Z9p5Yn6V3lV7HT7TTLUW2n20VtCCSI4kCqCTk8D3NWKAM7X7jUrXQbubQ7MXmoLGfIhZgoZu2SSB+ted+BLTxVpmsLPrHhWc3+oTZ1DVbm7hbYmDhUVWJAB2gCvVaKAOW+Idhqmr+FzpOjws7X86QXDqwHlwsfnbk+np610dtDHZWMUMYCxwxhQB2AFTUhAZSGGQRgg0AcN8PPE+s+LNR1y9uhEukW929vYlVwZApILZ79vzruqr2On2mmWq22nW0VrApJEUKBVBJyeB71YoAzfEFxqVp4fvJtCsxe6isf+jwFwoZunUkDjr17V574Ds/FWmaus+s+FZzf38udQ1W5u4W2rz8qKrEhQeAMV6pRQB5z4m0jULXx9Jrcnh5vEdjPYi2jhVk3WzhiTw5Awc9RzW38O9Gv9A8IC31WMQSNPNMlsH3C3RnLLGD3wDiuroIyMHpQBwvw88Taz4svtbvrwRLpMV00FjtTBYKeST34xXdVXsbC00y0W10+2itoFJKxRIFUZOTwKsUAZXiW51a08O3c3h2yF9qQTEELOFBb1JJA469a4LwDZ+KNK1VH1bwrMt3fuX1PVrm7ic/dOAiqxIGcADFepUUAcN47tH1SdbS38HDWboJ+5vJ2RYYif7xLBiB6Ac1s+CfDa+EPCNrpbyLJJGDJPIowrO3LEe1dBSEBlIYZB4IPegDhfhx4n1vxbda1f34iTS4rpoLFVTDMFPLE9/T867uq9jYWmmWi22n20VtApJWOJAqgk5PA9yasUAUtXuL610uabSbRb27QZjgaTYH9t3auAgsNb8TeP9G1ebw2+gR6YXa5mlljLXBIxsGwnI75NemUUAcDrFrr3h3x1e67oWkPq9vqlpHDLFFIiNHLHnYx3EfKdxzW14C8Pz+G/CNvZ3zKbtmeafb0DuxYj8M4/CukoIyMUAcFprBvjprO0g/8SyHofetD4pMB8M9ayQM25xk1q6T4U0fRNRub7TbQRXN1/rZC5Ytznuadr3hnSvE1vFBrVt9ojiJZVLlRk/Q80ASaE4j8K6c56LZRE/8AfArl/hv4l1rxYdW1LUPKXTBdNFYKiYJVScknv2/Wu2it4obVLeNAIkQIqdgoGMflUdjYWmmWaWun20VtbpnbFEgVV+gFAFiiiigAooooAKKKKACiiigAooooAKKKKACiiigAooooAKKKKACiiigAooooAKKKKACiiigAooooAKKKKACiiigAooooAKKKKACiiigAooooAKKKKACiiigAooooAKKKKACiiigAooooAKKKKACiiigAooooAKKKKACiikY7UJ9BmgBaK47wFrmt+I476/1KS1Fol1LbwwxRsHBRsZJJweKf471/VdGl0O10RrdJtTv/ALM0lwhZUGxmzgEelAHXUVVeO9OlGNJohe+VgS7Ts346464z2rz2y1TXtH+Iel6NP4lXXzdiT7bbeQi/ZAq5DDaMgZ4w2aAPTKK4T4pX3iHRtAfVtC1WOyhttvmReQHaQlwOp4AwfSu7HSgAooooAKKhu1uHspls3SO4aNhE7jKq2OCR3Ga84sdV17R/iLpmiXHiRdf+1rIb2DyUX7JgZDDaMgZwMNmgD02iuT8R6f4mvNTllsvEMeiaVBAGDxxK8jPzncXBAUcdKl+HevX3iPwVaahqij7QxdWdVwJQrEBgPfFAHT0UUUAFFQ3azvZzLZyJHcMhEbuMqrY4JHevOtO1TXdI+IumaJc+Jl1/7UkpvYPIRPsm0AhhtHAJOMNQB6XRXI+NItWjU30PiuPw/p0EOWPkozPJz1L5GOnA5q14A1i/17wRYajq6hbqVW3ELgOAxAbHbIAP40AdJRRRQAUVXv0upNPnTT5UhumjIikkXcqtjgkdxXnukarrmmfEix0K48RjxClxFI16nkohsyqkg/KOATgYOTQB6VRXE/EjxPfaPpRsPD77dWuInlWTaG8iJBlpCDx6AZ7mug8LXs+o+EtLvLx/MnntY5JGxjLFck0Aa1FFFABRVe/S6l0+dNPlSG5ZCIpJF3KrY4JHevPdI1bXNN+I1noU/iMeIUnhd7xPJRfsjDoQVAwD0wcmgD0qivLPFvii/tviDeaY3ixfD9nBaQyRhrUS+YzF93bjG0fnXomiO0mh2rNqC6izR5N2oAEvvgcUAX6K43Qte1pviFqfh/V5LWaK3t0uIpII2QgMehyT2rsqACiiigAooooAKKKKACiiigAooooAKKKKACiiigApsn+rb6GnUEZBB70AcL8Jf+RVvf8AsK3P/oVN+I//ACHvBf8A2GR/6Keui0Pwnpnh66uZtLWaP7S5d42mZk3E5JCk4Bp/iDwzp3iWK2TVEkP2WXzoWilZGR8EZBBz0JoAuapdXFlpdxc2Vo17PEhZLdGwZD6A15myXnijx5o2o6V4WvtDuLWZpNRvbmEQ+Ym3GzIOXz716nBCtvbxwoWKxqFBY5JA9SetSUAeffFqfULzwzNoml6HqWoTXKqwltoQ0aYcHBOc549K7DRNVfWNNF1Lp15pzbivk3sYR+O+ATxWjSEBlIPIPWgDiPAXjHVfF+sa5JLawRaRZXBt7WVc75WB5J7Yx/Ou4qlpWkWGiWItNKtktoAxbYg4yTkn8zV2gCpqt1cWWlz3FlZtezxruS3RsGT2BNeaCO78T/EDRNT0vwtfaHNaTF9RvbmIReam0jy+D8+Tjr0xXq1FAHlnxHvPEGpeII9DTQtXn8Oqoe7l0+Pc10f+eecjC+vrXceFLuS58OwtLo8ujJFmOO0mGGRF4HHbitukZQylWGQRgigDivAnjDVPF2ra48ltDFpNjdNbWsy53TFSQT9OB+ddtVLSdHsNDsFstJtUtbZWZhGg4BJyf1NXaAKmq3VzZaVcXNlZtezxruS3RgDJ7AmvNUju/E3xB0bU9L8L32hTWspfUby5hEXmpj/V8H58+/SvVaKAOL8Xa40U0+l6n4OvtZ0+SMFJIIVmR29CCflwe9S/DTStR0TwRFb6ujwyebLJHbu+4wRM5KIT7DFdfQQCCD0NAHE+A/F+qeLtU1uWa2gi0mzuTb2kqA7pSDyT26Y/Ou2qnpWkWGiWC2WlWyW1spLCNBxknJNXKAKWsXlzYaTPdWNk9/PGu5beNgGk9hnvXnFtDdeI/iNpOraT4ZvtBNsZG1K6uYRD9oBXATAPz89zXqlFAHmPxE8H6q0uq69o+o6hLPe2wtRY2tosp27cYBJBCk8nHrXR/DW3vrLwBp8GrC7S5iTa6XkQjdMcYwCeB2NdXSModSrDIIwRQBxPw/8AGGq+ML/Wp57WCHSrS5a3tHTO+Ug8k9uldvVPStJsdEsVs9LtktrdWZhGg4yTkn8zVygClrF5c6fpU11Y2T388YytvGcM/rj3rze0guvEPxK0jWNJ8M3uhLa7zqVxcwiH7QCMBMA/Pzzk+leq0UAcX4h8QppurXUEvg3UdRd4wiXNtapIkwx90tnIAyRzVj4a6JfaB4JtrTU08mcu8vkA58kMxIT8Aa6ygjIxQBwenf8AJdNZ/wCwZD/Op/iL4x1HwwukWmhWsN1qOqXYgjjlztA4yePqK29K8J6Zo+sXWqWqzNeXQ2ySzTNIcZzgZPAq7daPp97qVrqF1apLdWe7yJWHMe4YOKALUPmeSnnY8zaN+3pnHOKfRRQAUUUUAFFFFABRRRQAUUUUAFFFFABRRRQAUUUUAFcp448RalocuiW2jx27T6pffZd1xnag2M2ePpXV1wfxH/5D3gv/ALDI/wDRT0Adm4vf7LIRoftvlcMQfL34/PGa4C11rxFo3j/S9F1DXrfXDfiT7TbR26xtZhVyGG3nHb5q77U7uWw0y4ure1kvJIkLLBF96THYe9eYbm8S/EDSNS8OeHNS0e7hmZ9UvLm1NuJI8fcYn75oA3vGnjK4sPEVr4f02+tNNkkhNxc392RtgjzgAA8Fia6nQYriLR4vterHV3b5hd+WibwemAgxiuA8X6PBp3xMXxHq2hXGs6dPp5tgILYzmCUNkEp6EZGf8a3/AIW6Xe6T4M8q/t3tBLdSzW9rJ96CFjlUI7Y9O2aAOyorivA3jPUPF+s63mzji0qwuDb284JLTMDz+GP512tAEV2Lg2cwsyi3BQ+UZM7Q2OM47Zrzuz1vxFo/xC0vRNR1231sX6ubmCOBYzZ4GQw284PT5q77U7uWw02e6t7SS8kiUsIIvvP7D3rzFT/wkfxE0bU/DvhzUdHuYZWbVLu5tTbiSPaR5bf3yTj6YoA6/X7PxS+pXF1p+v2umaXFCpVWthK24Z3ls9B0x+NP+HuparrHg621DW5VlnuGdkYRhMpuIU4HqBn8ai+JB1Gbwi+m6RBNLcanKlmWiQnykc4ZjjoAM810dhaRadplvawqEit4lRQOwAxQBZori/A/jK/8Xaxrg+yRxaXp901tBOpOZmBIJ+nH612lAEV2J2s5RZsi3BQ+WZB8obHGcdq89sNZ8Q6R8QdM0TUtft9b+3JI1zbxwLG1ntAIYbecEnHzc13mqXkthpc91b2kl5JEu5YIsbpPYZ715lEf+Ej+Iuj6p4d8O6jo9xDKz6pd3NqbcSR45Rv75P6UAbHiTXtWl8dNoNnrMOgW8ViLsXMkSO07biCo38YGOe9bXw/1688R+E4r7UQhmE0sPmxjCTBHKhwPQ4zXI+N9Ngfx99s8WaHe61opsRHZpbQNMsMu47sqOhIxz/hXS/DOy1DTvBMcOqRSwBZpWtoJz+8hgLkxo3uFwPagDr6K4zwN4xv/ABdq2tlrSKLS7G5NvbTKSWlIJz+mPzrs6AIL5bprCcae0aXRQ+U0oJUNjjOO1cBpeteINM+IljoGoa7Brq3cUj3KRwJG1kVUkH5exPHzc13Wr30um6VPd29nNfSRLuFvD99/Ye9eaWgPiD4laVq3hvw/qGjNEZG1W5ubY24mUrgIQfvnP5UAbOt6vr+p+OrnQdD1WLSIrCzW4eV4Vkadm6DDdFHcjmtnwD4mk8V+EoNQuVRblXaGfyz8pdTgkex61z/xEtNHvtRRH8P6rqWsCHZA9lG6Iyt/C8o4C5656Vu/Dvwy/hHwTaaZcbBcAtLOE+6rsckD2HT8KAOoorivAfjPUPGOo6072ccGmWVy1vbTAktKQeT+X867WgBk0scELzTOEjjUszMcAAdTXn3g/wAX6zr/AMQLyK6Kx6PNZG4sIdgDbVkCBycZ+bk49CK6zxVocniTwzd6TDeNZG6UIZlXcQM8jGRnI4/GvNfDlh4isfi7bpdTalNZW9obT7T/AGQYYXVTkJuyQF4zu9sUAdPrWq+I9Z8a3Wg+GL6LTk061SeedoRIZHfOxMHoPlOT1ra8EeIZfE/hO31C4jWK6y8U6L0DqxU49jjP41zmq3N94O+Iepayuk3uo2OrWcSA2UJlZJot2AwHQEN1ra+HOiXeh+DYIdSTy7ueSS4mj/uF3Jx9QCKAItE8RavL4+1Lw9qyWjJbW63EUtuGBIY8A5rr64PTv+S6ax/2DIP51a+IfjO88KR6Vb6RZpeahql2LeKJyQMdzx9RQB2VFMhLmFDMAJNo3hemcc0+gAooooAKKKKACiiigAooooAKKKKACiiigAooooAKxfEnhax8URWiX7zxtZzefDJBIUZHwRkEexNbVcr428S6hoEmjW+kW9vNcape/ZQbhiqp8hbPA9qAOmt4Rb20cIdnEaBdznLHA6k9zUmKihaRbRGu9iyhAZNh+UHHOPauC8OeNdU174kTWi+WugyWryWZC/NLscKZM+hJIH0oA9CpCAykHoa4n4ma14k8PaG2p6DNZxW0G3zvOjLyMSwGB2A5rtx0oAoaNomn+H9P+xaTbLbwb2faCTlick5PNX6KKACjFIzBFLMcADJJ7V554c8b6rrvxMmsgqJoUlnJLZ/KN0pSRUL59CS2PbFAHolIyh1KsMgjBrlfECeMbnVpE0S+stL02GEP9pmiEryvzlcHhVGBz71P4B8R3Pinwfa6lfRLHcMWSTZ91irEbl9jigDV0XQ9P8PacthpFsttbKzOEUk8k5Jyeepq/RRQAUYpHdY0Z3OFUZJPYV554b8canr/AMSZ7NQi6HJbPJaZQbpNj7TJn0Jzj2oA9ExnrQQCpB6HiuV8XHxJGxn0jWbDSLCGEvJLcRCRmfng54C9OetWPAmvXfiXwbZapqESxXEwYOE+621iNw9jjP40AaejaJp/h/TVsNItlt7ZWLBFJPJOScnk1foooAKMU2SRIo2kkYKijLMTwBXAeE/GmqeIPiBe20gRdFksxcWA2YZ18wpvJ68lTx6YoA9BxSModSrDIIwRXH/EXxXdeHdG8nRNr6tcKzQhlyI0UbmkI9ABj6kVu+Gb+fVPC2m312QZ7i2SSQqMDcRk8UAS6Noun6Bpy2Ok2629urMwQEnliSTk89TV+iigAopskiQxNJKwVEBZmJ4AHeuA8JeM9W8Q+P722mWOPRpLQz2K7PnZVkCbyfRjkj2xQB6DQRkYrzTxP4v1i18eXekWmvaXo9rb2sMqtexBjIzls4Oe20fnXf6S1y2j27XlzDdXBjy80K7Uc+oHpQBm6P4QsNG1y71aGa6nvLtdsj3ExfC5yAM9BV680PTr/VbLUru2WW6sdxt5CT8m4YPHSsLRPEurXHjvUfD2r21qgtoFnjlt3Y7lY8A5HWrHjvXNV8OeHJdV0mC1nW2UvOlw7Llf9nA60AdLRVXTrpr7SbW7KhWngSXbngFlBx+tc5oPiXVbrxxqnh/WLa1Q2kEc8clu7Hcrk4ByOvFAHW0Vzfi7xNL4Xk0u5khV9Onuhb3UhPzRbuFYe27g/WukBBAI5BoAKKKKACiiigAooooAKKKKACiiigAooooAK4P4j/8AIe8F/wDYZH/op67ysLxR4TtPFUVkt3cXNs9lP9ohltn2srYI6/QmgCz4l0q41vw1faZZ3Zs5rqExrOFzsz3xXlOi2HiDSfitp1lLc3D2llam0M8OjyJDtyDsDnIwcfez7V7Nbw/Z7WKEyPJ5aBd7nLNgdT71JQB538YNQZ/Cdxo1rp2o3l3chHT7LZSSoAHBOWUEA8dK7TRdYh1vThd28F1bpuK7Lu3eF8j/AGWAOPetCkIDKQehoA47wV42ufF+ta1HHYCHTdOnNvFc78mZweePpz+IrsqzdC0DTvDmnfYdIg8iDe0hG4sSzHJJJ5NaVAGV4m0q41zw3e6bZ3Zs5bqIxiYLnaDwePpXlOiWHiHTPi9pVpPc3MtpZ2ZszcRaRJHCVyG8vecjnGd2e2O9e10UAeWfEnxDqdzrieGo9O1iLR2QNfXtjZSStMp/5ZIVGBnua7bwdd21z4Zg+xaXc6Vaw5jit7mIxuFU8HaeRnrW7SModCrdGGDQBx/gzxrc+LtZ1uKOxWLT9NuWto7ndnzmBIOPy/UV2NZuhaBp3hvTRYaPb+Rbh2fbuLEljkkk8mtKgDK8TaVc654ZvtMsrz7FNcx+Ws4XdsGRnj3GR+NeU6Dp3iDS/i5ptpPc3ElpZWgtDPDpEkcJUHiPecjH+1n2r2uigDh/Guv6Pum0XxL4e1K+tGQMkkNm80cjdgCmcN9cVY+GFpqdh4Fgi1hJomEkhghnOZIodx8tW9wuK7AgHqM0hG5SD0IxQByHgvxpc+LtW1pFsVh0/T7g28NxvyZmBOfyGPzrsKztC0HTvDemCw0iDyLcOz7dxYlickknk1o0AY3i3RbnxD4WvdKsr37DLdJs8/bu2jPIx7jI/GvMfDlp4gsPjBb291cXD2ltZC0M0WkSRQMqlmEYY5AHOd2eelez0UAeV/Efw3rkN1q3iDTtSaRbqz+xx2centcSKpXlV2ngMwyTj+VdP8MRep8PtOTVGmM8abCs9sYGjA4C7Tzx69662kdQ6FW6MMGgDjvA/ja68Y6lrO2wWDT7C4NvDcb8mZgeePp/OuyrO0PQdO8OaaLDSIPIgDs+NxYlmJJJJ5PWtGgDG8WaLceIfC95pVnefYpLpNnnbd2FzyMe4yPxrzLwzbeILH4u20F3cXMlpbWf2QzR6RJFC6qciMMcgDgHdntivZqKAOC8Uax4YtNcuk1rwzeXt40IjWdNMeZZ1xwiuAR3x2q/8MdMv9J8C2ttqcbwPvkeOBzloULkqp/A11xAPUZoIyMUAcHp3/JdNY/7BkH86v8AxR/5JnrX/XuauaL4OtNG8QXmsreXd3d3ahHa4kDbVByAOOlSeKvCsHi3TVsby8u7eDJ8xbZwvmA9m45FAFzw/wD8izpf/XnF/wCgCuU0r/kuev8A/YMtv5vXbWtslpYw2sORHDGsa564AwKxND8HWmia7e6ut5d3d3eIqO9zIG2qpJAHHvQBi/GSRP8AhWt5bkbp7maCKBO7P5qkY/LP4V2tmjx2MCSnLrGoY+pxVDV/D1nrd9p1xf7nGnzGaKLPyl8YBI746itWgAooooAKKKKACiiigAooooAKKKKACiiigAooooAKKKKACiiigAooooAKKKKACiiigAooooAKKKKACiiigAooooAKKKKACiiigAooooAKKKKACiiigAooooAKKKKACiiigD//2Q==)"
      ]
    },
    {
      "cell_type": "markdown",
      "metadata": {
        "id": "ciqCUrv4hV6T"
      },
      "source": [
        "Ans: Dim : 3 || Shape: (3, 3, 5)\n",
        "     \n",
        "     "
      ]
    },
    {
      "cell_type": "markdown",
      "metadata": {
        "id": "-bxIOXej5Za3"
      },
      "source": [
        "# Data Type\n",
        "\n",
        "By default Python have these data types:\n",
        "\n",
        "**strings** - used to represent text data, the text is given under quote marks. **e.g**. \"ABCD\"\n",
        "\n",
        "**integer** - used to represent integer numbers. **e.g.** -1, -2, -3\n",
        "\n",
        "**float** - used to represent real numbers.** e.g.** 1.2, 42.42\n",
        "\n",
        "**boolean** - used to represent True or False.\n",
        "\n",
        "**complex** - used to represent complex numbers. **e.g. **1.0 + 2.0j, 1.5 + 2.5j\n",
        "\n",
        "**Data Types in NumPy**\n",
        "\n",
        "NumPy has some extra data types, and refer to data types with one character, like i for integers, u for unsigned integers etc.\n",
        "\n",
        "i - integer\n",
        "\n",
        "b - boolean\n",
        "\n",
        "f - float\n",
        "\n",
        "c - complex float\n",
        "\n",
        "S - string\n"
      ]
    },
    {
      "cell_type": "code",
      "metadata": {
        "colab": {
          "base_uri": "https://localhost:8080/"
        },
        "id": "j1GIo8HU5ZEA",
        "outputId": "c6ae794e-abc9-4ad1-ac16-a81c211ef1da"
      },
      "source": [
        "#Get the data type of an array object\n",
        "arr = np.array([1, 2,7,8, 3, 4])\n",
        "print(arr.dtype)\n",
        "print(type(arr))"
      ],
      "execution_count": null,
      "outputs": [
        {
          "output_type": "stream",
          "name": "stdout",
          "text": [
            "int64\n",
            "<class 'numpy.ndarray'>\n"
          ]
        }
      ]
    },
    {
      "cell_type": "code",
      "metadata": {
        "colab": {
          "base_uri": "https://localhost:8080/"
        },
        "id": "5scaVpQyJ0EW",
        "outputId": "aa590f0b-4aaf-49dd-8954-250f9a9e54d1"
      },
      "source": [
        "arr = np.array([True , False])\n",
        "print(arr.dtype)"
      ],
      "execution_count": null,
      "outputs": [
        {
          "output_type": "stream",
          "text": [
            "bool\n"
          ],
          "name": "stdout"
        }
      ]
    },
    {
      "cell_type": "markdown",
      "metadata": {
        "id": "0_MaHV1wFq5Y"
      },
      "source": [
        "##Creating Arrays With a Defined Data Type\n",
        "\n",
        "We use the array() function to create arrays, this function can take an optional argument: dtype that allows us to define the expected data type of the array elements:"
      ]
    },
    {
      "cell_type": "code",
      "metadata": {
        "colab": {
          "base_uri": "https://localhost:8080/"
        },
        "id": "iyswjo4CF4BG",
        "outputId": "ac38492a-f21f-4d72-e242-827f46b05bc9"
      },
      "source": [
        "arr = np.array([1, 2, 3, 4], dtype='f')\n",
        "\n",
        "print(arr)\n",
        "print(arr.dtype)"
      ],
      "execution_count": null,
      "outputs": [
        {
          "output_type": "stream",
          "text": [
            "[1. 2. 3. 4.]\n",
            "float32\n"
          ],
          "name": "stdout"
        }
      ]
    },
    {
      "cell_type": "markdown",
      "metadata": {
        "id": "g96wkfa0GFXG"
      },
      "source": [
        "##Converting Data Type on Existing Arrays\n",
        "\n",
        "The best way to change the data type of an existing array, is to make a copy of the array with the astype() method.\n",
        "\n",
        "The astype() function creates a copy of the array, and allows you to specify the data type as a parameter."
      ]
    },
    {
      "cell_type": "code",
      "metadata": {
        "colab": {
          "base_uri": "https://localhost:8080/"
        },
        "id": "jDsGSm6oGNe1",
        "outputId": "e06b0fff-9689-4582-e481-525ea82715b8"
      },
      "source": [
        "arr = np.array([1.1, 2.1, 3.9])\n",
        "\n",
        "newarr = arr.astype('i') #Convering data type using Character Codes\n",
        "# newarr = arr.astype(int)\n",
        "print(newarr)\n",
        "print(newarr.dtype)"
      ],
      "execution_count": null,
      "outputs": [
        {
          "output_type": "stream",
          "text": [
            "[1 2 3]\n",
            "int32\n"
          ],
          "name": "stdout"
        }
      ]
    },
    {
      "cell_type": "code",
      "metadata": {
        "colab": {
          "base_uri": "https://localhost:8080/"
        },
        "id": "AflmoDMcKea4",
        "outputId": "8d819a5e-de13-40b9-ff20-fbded29ff039"
      },
      "source": [
        "x = np.float32([1, 2])\n",
        "x"
      ],
      "execution_count": null,
      "outputs": [
        {
          "output_type": "execute_result",
          "data": {
            "text/plain": [
              "array([1., 2.], dtype=float32)"
            ]
          },
          "metadata": {
            "tags": []
          },
          "execution_count": 109
        }
      ]
    },
    {
      "cell_type": "code",
      "metadata": {
        "colab": {
          "base_uri": "https://localhost:8080/"
        },
        "id": "Rfl-rRNEKhlZ",
        "outputId": "92ecbd0e-725f-466e-af8e-9db9bd9652c7"
      },
      "source": [
        "y = np.int_([1.9,2.7,4.3])\n",
        "print(y)\n",
        "\n",
        "print(y.dtype)"
      ],
      "execution_count": null,
      "outputs": [
        {
          "output_type": "stream",
          "name": "stdout",
          "text": [
            "[1 2 4]\n",
            "int64\n"
          ]
        }
      ]
    },
    {
      "cell_type": "markdown",
      "metadata": {
        "id": "-b1c4xK2Koa-"
      },
      "source": [
        "**Question(Homework**) - What is difference between int_ and int & when we should use int when it is preffered to use int_ ?"
      ]
    },
    {
      "cell_type": "markdown",
      "metadata": {
        "id": "AknB9kqoTmpa"
      },
      "source": [
        "#Transposing and reshaping Matrix \n",
        "\n",
        "![np_reshape.png](data:image/png;base64,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)"
      ]
    },
    {
      "cell_type": "markdown",
      "metadata": {
        "id": "OyipzMJPU9yz"
      },
      "source": [
        "It’s common need to transpose matrices. \n",
        "\n",
        "NumPy arrays have the property **T** that allows you to transpose a matrix.\n",
        "\n",
        "For example, you have a model that expects a certain input shape that is different from your dataset.  \n",
        "\n",
        "**reshape()** method can be useful there.\n",
        "\n",
        "Just pass a tuple specifying the **dimensions** you want."
      ]
    },
    {
      "cell_type": "code",
      "metadata": {
        "colab": {
          "base_uri": "https://localhost:8080/"
        },
        "id": "1VAakwgJU6lM",
        "outputId": "80182c7d-e9ab-4c6c-dce4-cfc759d2376a"
      },
      "source": [
        "data = np.array([1,2,3,4,5,6,7,8,9,10])\n",
        "data"
      ],
      "execution_count": null,
      "outputs": [
        {
          "output_type": "execute_result",
          "data": {
            "text/plain": [
              "array([ 1,  2,  3,  4,  5,  6,  7,  8,  9, 10])"
            ]
          },
          "metadata": {
            "tags": []
          },
          "execution_count": 48
        }
      ]
    },
    {
      "cell_type": "code",
      "metadata": {
        "colab": {
          "base_uri": "https://localhost:8080/"
        },
        "id": "xMw0-EKOUrAW",
        "outputId": "5e8fe6c9-3bec-44be-bb92-aee47955fe8f"
      },
      "source": [
        "data.reshape((5,2))"
      ],
      "execution_count": null,
      "outputs": [
        {
          "output_type": "execute_result",
          "data": {
            "text/plain": [
              "array([[ 1,  2],\n",
              "       [ 3,  4],\n",
              "       [ 5,  6],\n",
              "       [ 7,  8],\n",
              "       [ 9, 10]])"
            ]
          },
          "metadata": {
            "tags": []
          },
          "execution_count": 49
        }
      ]
    },
    {
      "cell_type": "code",
      "metadata": {
        "colab": {
          "base_uri": "https://localhost:8080/"
        },
        "id": "K1SDEVfUWmNh",
        "outputId": "4b5227d5-69f8-40b1-f1b9-152ed16b517e"
      },
      "source": [
        "data.reshape((2,5))"
      ],
      "execution_count": null,
      "outputs": [
        {
          "output_type": "execute_result",
          "data": {
            "text/plain": [
              "array([[ 1,  2,  3,  4,  5],\n",
              "       [ 6,  7,  8,  9, 10]])"
            ]
          },
          "metadata": {
            "tags": []
          },
          "execution_count": 50
        }
      ]
    },
    {
      "cell_type": "code",
      "metadata": {
        "colab": {
          "base_uri": "https://localhost:8080/"
        },
        "id": "SXtzur4-WrUe",
        "outputId": "4739541c-3a0f-4d01-b1ae-b44821e539ae"
      },
      "source": [
        "data.reshape((1,5,2))"
      ],
      "execution_count": null,
      "outputs": [
        {
          "output_type": "execute_result",
          "data": {
            "text/plain": [
              "array([[[ 1,  2],\n",
              "        [ 3,  4],\n",
              "        [ 5,  6],\n",
              "        [ 7,  8],\n",
              "        [ 9, 10]]])"
            ]
          },
          "metadata": {
            "tags": []
          },
          "execution_count": 51
        }
      ]
    },
    {
      "cell_type": "code",
      "metadata": {
        "colab": {
          "base_uri": "https://localhost:8080/"
        },
        "id": "O1mdDCRgW08I",
        "outputId": "c002c300-a774-4a4d-9fcb-9ef76fe94854"
      },
      "source": [
        "# above code does not actually chane the dimension of 'data'\n",
        "#to save the changes:\n",
        "data= data.reshape((2,5))\n",
        "data"
      ],
      "execution_count": null,
      "outputs": [
        {
          "output_type": "execute_result",
          "data": {
            "text/plain": [
              "array([[ 1,  2,  3,  4,  5],\n",
              "       [ 6,  7,  8,  9, 10]])"
            ]
          },
          "metadata": {
            "tags": []
          },
          "execution_count": 52
        }
      ]
    },
    {
      "cell_type": "code",
      "metadata": {
        "colab": {
          "base_uri": "https://localhost:8080/"
        },
        "id": "tl4oFe-E05Cq",
        "outputId": "b30b281a-9692-40c4-c039-b1d0816de9f9"
      },
      "source": [
        "data = np.array([[[1, 3 , 5 , 81] , [9 , 7 , 4 , 75],[2, 10 , 6, 23]]])\n",
        "print(data.reshape(4 , 3))\n"
      ],
      "execution_count": null,
      "outputs": [
        {
          "output_type": "stream",
          "text": [
            "[[ 1  3  5]\n",
            " [81  9  7]\n",
            " [ 4 75  2]\n",
            " [10  6 23]]\n"
          ],
          "name": "stdout"
        }
      ]
    },
    {
      "cell_type": "markdown",
      "metadata": {
        "id": "rqQ0LAUCXQJS"
      },
      "source": [
        "You can also use **.transpose** to reverse or change the axes of an array according to the values you specify."
      ]
    },
    {
      "cell_type": "code",
      "metadata": {
        "colab": {
          "base_uri": "https://localhost:8080/"
        },
        "id": "9LiLImEEXLQZ",
        "outputId": "a3bc4dea-361d-4d13-a842-6b858cd30205"
      },
      "source": [
        "data.transpose()"
      ],
      "execution_count": null,
      "outputs": [
        {
          "output_type": "execute_result",
          "data": {
            "text/plain": [
              "array([[ 1,  6],\n",
              "       [ 2,  7],\n",
              "       [ 3,  8],\n",
              "       [ 4,  9],\n",
              "       [ 5, 10]])"
            ]
          },
          "metadata": {
            "tags": []
          },
          "execution_count": 53
        }
      ]
    },
    {
      "cell_type": "markdown",
      "metadata": {
        "id": "09xZQXtCXjyl"
      },
      "source": [
        "Note - We need to make sure that the rows and columns can be interchangeable for example here we can change rows and columns from (2,5) to (5,2) but can not to (5,3) because for that we need 15 elements and here we have only 10. Doing so will give an error as mentioned below.\n",
        "\n",
        "**ValueError: cannot reshape array of size 10 into shape (5,3)**\n",
        "\n",
        "\n",
        "\n"
      ]
    },
    {
      "cell_type": "markdown",
      "metadata": {
        "id": "w3OdG0DSaT3n"
      },
      "source": [
        "#Sorting and Concatinating\n",
        "\n",
        "Sorting an array is simple with np.sort(). \n",
        "\n",
        "You can specify the axis when you call the function.\n",
        "\n"
      ]
    },
    {
      "cell_type": "code",
      "metadata": {
        "colab": {
          "base_uri": "https://localhost:8080/"
        },
        "id": "5vo91lCeaupf",
        "outputId": "d521ba74-8c45-48c9-8640-8b04fb85c749"
      },
      "source": [
        "arr = np.array([2, 1, 5, 3, 7, 4, 6, 8])\n",
        "np.sort(arr)"
      ],
      "execution_count": null,
      "outputs": [
        {
          "output_type": "execute_result",
          "data": {
            "text/plain": [
              "array([1, 2, 3, 4, 5, 6, 7, 8])"
            ]
          },
          "metadata": {
            "tags": []
          },
          "execution_count": 23
        }
      ]
    },
    {
      "cell_type": "code",
      "metadata": {
        "colab": {
          "base_uri": "https://localhost:8080/"
        },
        "id": "cqAW8UlDa3lF",
        "outputId": "f9c95ed9-f855-4d48-ef51-3d2b622f4b37"
      },
      "source": [
        "arr = np.array([[2, 1, 15],[ 3, 7, 4],[ 6, 8,9]])\n",
        "arr"
      ],
      "execution_count": null,
      "outputs": [
        {
          "output_type": "execute_result",
          "data": {
            "text/plain": [
              "array([[ 2,  1, 15],\n",
              "       [ 3,  7,  4],\n",
              "       [ 6,  8,  9]])"
            ]
          },
          "metadata": {
            "tags": []
          },
          "execution_count": 97
        }
      ]
    },
    {
      "cell_type": "code",
      "metadata": {
        "colab": {
          "base_uri": "https://localhost:8080/"
        },
        "id": "3jSOnbRsb9Us",
        "outputId": "9c6bb8bf-f5bb-41be-a982-58d30f26bbda"
      },
      "source": [
        "np.sort(arr , axis =1) #by default axis =1 (sort row wise)"
      ],
      "execution_count": null,
      "outputs": [
        {
          "output_type": "execute_result",
          "data": {
            "text/plain": [
              "array([[ 1,  2, 15],\n",
              "       [ 3,  4,  7],\n",
              "       [ 6,  8,  9]])"
            ]
          },
          "metadata": {
            "tags": []
          },
          "execution_count": 98
        }
      ]
    },
    {
      "cell_type": "code",
      "metadata": {
        "colab": {
          "base_uri": "https://localhost:8080/"
        },
        "id": "NUnRXor4bQvk",
        "outputId": "d96e1ea5-f684-49cc-d79b-97d6d31ea8fa"
      },
      "source": [
        "np.sort(arr , axis =0) #axis =0: sort column wise"
      ],
      "execution_count": null,
      "outputs": [
        {
          "output_type": "execute_result",
          "data": {
            "text/plain": [
              "array([[ 2,  1,  4],\n",
              "       [ 3,  7,  9],\n",
              "       [ 6,  8, 15]])"
            ]
          },
          "metadata": {
            "tags": []
          },
          "execution_count": 99
        }
      ]
    },
    {
      "cell_type": "markdown",
      "metadata": {
        "id": "PsrwbTC-cTPE"
      },
      "source": [
        "Concatenate: keeping different array's one after the other in one array together.\n"
      ]
    },
    {
      "cell_type": "code",
      "metadata": {
        "colab": {
          "base_uri": "https://localhost:8080/"
        },
        "id": "MeVi44XRclxI",
        "outputId": "7937453c-ee4a-4a70-dc51-ff18e093e3e6"
      },
      "source": [
        "a = np.array([1, 2, 3, 4])\n",
        "b = np.array([5, 6, 7, 8])\n",
        "print(a)\n",
        "print(b)"
      ],
      "execution_count": null,
      "outputs": [
        {
          "output_type": "stream",
          "text": [
            "[1 2 3 4]\n",
            "[5 6 7 8]\n"
          ],
          "name": "stdout"
        }
      ]
    },
    {
      "cell_type": "code",
      "metadata": {
        "colab": {
          "base_uri": "https://localhost:8080/"
        },
        "id": "rY1H5c8ocyWA",
        "outputId": "161e489d-02ad-420d-abfa-f85ad05e3d79"
      },
      "source": [
        "concat= np.concatenate((a, b))\n",
        "print(concat)"
      ],
      "execution_count": null,
      "outputs": [
        {
          "output_type": "stream",
          "text": [
            "[1 2 3 4 5 6 7 8]\n"
          ],
          "name": "stdout"
        }
      ]
    },
    {
      "cell_type": "code",
      "metadata": {
        "id": "zijo_OjIOYTi"
      },
      "source": [
        "a1 = np.array([[1, 1],\n",
        "               [2, 2]])\n",
        "\n",
        "a2 = np.array([[3, 3],\n",
        "               [4, 4]])"
      ],
      "execution_count": null,
      "outputs": []
    },
    {
      "cell_type": "code",
      "metadata": {
        "colab": {
          "base_uri": "https://localhost:8080/"
        },
        "id": "vMPf97Pz8a6x",
        "outputId": "a08a5ef1-ed8d-4a06-e0bc-2bbb4cf3640b"
      },
      "source": [
        "concat= np.concatenate((a1, a2))\n",
        "print(concat)"
      ],
      "execution_count": null,
      "outputs": [
        {
          "output_type": "stream",
          "text": [
            "[[1 1]\n",
            " [2 2]\n",
            " [3 3]\n",
            " [4 4]]\n"
          ],
          "name": "stdout"
        }
      ]
    },
    {
      "cell_type": "code",
      "metadata": {
        "colab": {
          "base_uri": "https://localhost:8080/"
        },
        "id": "vX8tdVFOOdS9",
        "outputId": "aedac5a7-296f-449f-a619-d677751f93af"
      },
      "source": [
        "#You can stack them vertically with vstack\n",
        "q=np.vstack((a1, a2))\n",
        "print(q)"
      ],
      "execution_count": null,
      "outputs": [
        {
          "output_type": "stream",
          "text": [
            "[[1 1]\n",
            " [2 2]\n",
            " [3 3]\n",
            " [4 4]]\n"
          ],
          "name": "stdout"
        }
      ]
    },
    {
      "cell_type": "code",
      "metadata": {
        "colab": {
          "base_uri": "https://localhost:8080/"
        },
        "id": "T6pQg5oCO_IK",
        "outputId": "3d9395b2-b0de-4221-fd12-d65c06455fe6"
      },
      "source": [
        "np.hstack((a1, a2))"
      ],
      "execution_count": null,
      "outputs": [
        {
          "output_type": "execute_result",
          "data": {
            "text/plain": [
              "array([[1, 1, 3, 3],\n",
              "       [2, 2, 4, 4]])"
            ]
          },
          "metadata": {
            "tags": []
          },
          "execution_count": 121
        }
      ]
    },
    {
      "cell_type": "markdown",
      "metadata": {
        "id": "VblVkrnxMBeb"
      },
      "source": [
        "#Slicing\n",
        "You may want to take a section of your array or specific array elements to use in further analysis or additional operations. To do that, you’ll need to subset, slice, and/or index your arrays.\n",
        "![np_indexing.png](data:image/png;base64,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)\n"
      ]
    },
    {
      "cell_type": "code",
      "metadata": {
        "colab": {
          "background_save": true,
          "base_uri": "https://localhost:8080/"
        },
        "id": "_RFTkuPQMjBV",
        "outputId": "c5cfede4-a329-42f3-f86c-504b4fb91f14"
      },
      "source": [
        "data = np.array([[1, 2, 3 , 4],\n",
        "                 [5 , 6 , 7 , 8],\n",
        "                 [57 , 76 , 37 , 18]])\n",
        "\n",
        "print(data[1])\n",
        "print()\n",
        "print(data[0:2])\n",
        "print()\n",
        "print(data[1:])\n",
        "print()\n",
        "print(data[-3:])\n",
        "print()\n",
        "print(data[1: , :-1])"
      ],
      "execution_count": null,
      "outputs": [
        {
          "output_type": "stream",
          "text": [
            "[5 6 7 8]\n",
            "\n",
            "[[1 2 3 4]\n",
            " [5 6 7 8]]\n",
            "\n",
            "[[ 5  6  7  8]\n",
            " [57 76 37 18]]\n",
            "\n",
            "[[ 1  2  3  4]\n",
            " [ 5  6  7  8]\n",
            " [57 76 37 18]]\n",
            "\n",
            "[[ 5  6  7]\n",
            " [57 76 37]]\n"
          ],
          "name": "stdout"
        }
      ]
    },
    {
      "cell_type": "markdown",
      "metadata": {
        "id": "Bf0Z79DRMLEK"
      },
      "source": [
        "# Basic Operations On Array\n",
        "\n",
        "Once you’ve created your arrays, you can start to work with them.\n",
        "\n",
        "1. Sum"
      ]
    },
    {
      "cell_type": "code",
      "metadata": {
        "id": "BpfPlIvGP05Y"
      },
      "source": [
        "data1 =np.array([[1, 2],\n",
        "                [3, 4]])"
      ],
      "execution_count": null,
      "outputs": []
    },
    {
      "cell_type": "code",
      "metadata": {
        "colab": {
          "base_uri": "https://localhost:8080/"
        },
        "id": "GrW-D5QVRmdX",
        "outputId": "f1543350-265a-4b2d-87f2-82954e866216"
      },
      "source": [
        "addition = np.sum(data1)\n",
        "addition"
      ],
      "execution_count": null,
      "outputs": [
        {
          "output_type": "execute_result",
          "data": {
            "text/plain": [
              "10"
            ]
          },
          "metadata": {
            "tags": []
          },
          "execution_count": 130
        }
      ]
    },
    {
      "cell_type": "code",
      "metadata": {
        "colab": {
          "base_uri": "https://localhost:8080/"
        },
        "id": "rQfMCOMTTKFT",
        "outputId": "ae665051-6ac9-459f-8202-b8173ebaec6b"
      },
      "source": [
        "addition = np.sum(data1 , axis=0) #column wise addition\n",
        "addition"
      ],
      "execution_count": null,
      "outputs": [
        {
          "output_type": "execute_result",
          "data": {
            "text/plain": [
              "array([4, 6])"
            ]
          },
          "metadata": {
            "tags": []
          },
          "execution_count": 131
        }
      ]
    },
    {
      "cell_type": "code",
      "metadata": {
        "colab": {
          "base_uri": "https://localhost:8080/"
        },
        "id": "wukmFmEjTVq-",
        "outputId": "15f33d5f-5bcb-40db-90cc-c557b79064fa"
      },
      "source": [
        "addition = np.sum(data1 , axis=1) #row wise addition\n",
        "addition"
      ],
      "execution_count": null,
      "outputs": [
        {
          "output_type": "execute_result",
          "data": {
            "text/plain": [
              "array([3, 7])"
            ]
          },
          "metadata": {
            "tags": []
          },
          "execution_count": 132
        }
      ]
    },
    {
      "cell_type": "markdown",
      "metadata": {
        "id": "pJpgESxETq-f"
      },
      "source": [
        "Now to add two array all we have to use is + operator for example:\n",
        "\n",
        "![Capture.JPG](data:image/jpeg;base64,/9j/4AAQSkZJRgABAQEAeAB4AAD/4RDgRXhpZgAATU0AKgAAAAgABAE7AAIAAAAHAAAISodpAAQAAAABAAAIUpydAAEAAAAOAAAQyuocAAcAAAgMAAAAPgAAAAAc6gAAAAgAAAAAAAAAAAAAAAAAAAAAAAAAAAAAAAAAAAAAAAAAAAAAAAAAAAAAAAAAAAAAAAAAAAAAAAAAAAAAAAAAAAAAAAAAAAAAAAAAAAAAAAAAAAAAAAAAAAAAAAAAAAAAAAAAAAAAAAAAAAAAAAAAAAAAAAAAAAAAAAAAAAAAAAAAAAAAAAAAAAAAAAAAAAAAAAAAAAAAAAAAAAAAAAAAAAAAAAAAAAAAAAAAAAAAAAAAAAAAAAAAAAAAAAAAAAAAAAAAAAAAAAAAAAAAAAAAAAAAAAAAAAAAAAAAAAAAAAAAAAAAAAAAAAAAAAAAAAAAAAAAAAAAAAAAAAAAAAAAAAAAAAAAAAAAAAAAAAAAAAAAAAAAAAAAAAAAAAAAAAAAAAAAAAAAAAAAAAAAAAAAAAAAAAAAAAAAAAAAAAAAAAAAAAAAAAAAAAAAAAAAAAAAAAAAAAAAAAAAAAAAAAAAAAAAAAAAAAAAAAAAAAAAAAAAAAAAAAAAAAAAAAAAAAAAAAAAAAAAAAAAAAAAAAAAAAAAAAAAAAAAAAAAAAAAAAAAAAAAAAAAAAAAAAAAAAAAAAAAAAAAAAAAAAAAAAAAAAAAAAAAAAAAAAAAAAAAAAAAAAAAAAAAAAAAAAAAAAAAAAAAAAAAAAAAAAAAAAAAAAAAAAAAAAAAAAAAAAAAAAAAAAAAAAAAAAAAAAAAAAAAAAAAAAAAAAAAAAAAAAAAAAAAAAAAAAAAAAAAAAAAAAAAAAAAAAAAAAAAAAAAAAAAAAAAAAAAAAAAAAAAAAAAAAAAAAAAAAAAAAAAAAAAAAAAAAAAAAAAAAAAAAAAAAAAAAAAAAAAAAAAAAAAAAAAAAAAAAAAAAAAAAAAAAAAAAAAAAAAAAAAAAAAAAAAAAAAAAAAAAAAAAAAAAAAAAAAAAAAAAAAAAAAAAAAAAAAAAAAAAAAAAAAAAAAAAAAAAAAAAAAAAAAAAAAAAAAAAAAAAAAAAAAAAAAAAAAAAAAAAAAAAAAAAAAAAAAAAAAAAAAAAAAAAAAAAAAAAAAAAAAAAAAAAAAAAAAAAAAAAAAAAAAAAAAAAAAAAAAAAAAAAAAAAAAAAAAAAAAAAAAAAAAAAAAAAAAAAAAAAAAAAAAAAAAAAAAAAAAAAAAAAAAAAAAAAAAAAAAAAAAAAAAAAAAAAAAAAAAAAAAAAAAAAAAAAAAAAAAAAAAAAAAAAAAAAAAAAAAAAAAAAAAAAAAAAAAAAAAAAAAAAAAAAAAAAAAAAAAAAAAAAAAAAAAAAAAAAAAAAAAAAAAAAAAAAAAAAAAAAAAAAAAAAAAAAAAAAAAAAAAAAAAAAAAAAAAAAAAAAAAAAAAAAAAAAAAAAAAAAAAAAAAAAAAAAAAAAAAAAAAAAAAAAAAAAAAAAAAAAAAAAAAAAAAAAAAAAAAAAAAAAAAAAAAAAAAAAAAAAAAAAAAAAAAAAAAAAAAAAAAAAAAAAAAAAAAAAAAAAAAAAAAAAAAAAAAAAAAAAAAAAAAAAAAAAAAAAAAAAAAAAAAAAAAAAAAAAAAAAAAAAAAAAAAAAAAAAAAAAAAAAAAAAAAAAAAAAAAAAAAAAAAAAAAAAAAAAAAAAAAAAAAAAAAAAAAAAAAAAAAAAAAAAAAAAAAAAAAAAAAAAAAAAAAAAAAAAAAAAAAAAAAAAAAAAAAAAAAAAAAAAAAAAAAAAAAAAAAAAAAAAAAAAAAAAAAAAAAAAAAAAAAAAAAAAAAAAAAAAAAAAAAAAAAAAAAAAAAAAAAAAAAAAAAAAAAAAAAAAAAAAAAAAAAAAAAAAAAAAAAAAAAAAAAAAAAAAAAAAAAAAAAAAAAAAAAAAAAAAAAAAAAAAAAAAAAAAAAAAAAAAAAAAAAAAAAAAAAAAAAAAAAAAAAAAAAAAAAAAAAAAAAAAAAAAAAAAAAAAAAAAAAAAAAAAAAAAAAAAAAAAAAAAAAAAAAAAAAAAAAAAAAAAAAAAAAAAAAAAAAAAAAAAAAAAAAAAAAAAAAAAAAAAAAAAAAAAAAAAAAAAAAAAAAAAAAAAAAAAAAAAAAAAAAAAAAAAAAAAAAAAAAAAAAAAAAAAAAAAAAAAAAAAAAAAAAAAAAAAAAAAAAAAAAAAAAAAAAAAAAAAAAAAAAAAAAAAAAAAAAAAAAAAAAAAAAAAAAAAAAAAAAAAAAAAAAAAAAAAAAAAAAAAAAAAAAAAAAAAAAAAAAAAAAAAAAAAAAAAAAAAAAAAAAAAAAAAAAAAAAAAAAAAAAAAAAAAAAAAAAAAAAAAAAAAAAAAAAAAAAAAAAAAAAAAAAAAAAAAAAAAAAAAAAAAAAAAAAAAAAAAAAAAAAAAAAAAAAAAAAAAAAAAAAAAAAAAAAAAAAAAAAAAAAAAAAAAAAAAAAAAAAAAAAAAAAAAAAAAAAAAAAAAAAAAAAAAAAAAAAAAAAAAAAAAAAAAAAAAAAAAAAAAAAAAAAAAAAAAAAAAAAAAAAAAAAAAAAAAAAAAAAAAAAAAAAAAAAAAAAAAAAAAAAAAAAAAAAAAAAAAAAAAAAAAAAAAAAAAAAAAAAAAAAAAAAAAAAAAAAAAAAAAAAAAAAAAAAAAAAAAAAAAAAAAAAAAAAAAAAAAAAAAAAAAAAAAAAAAAAAAAAAAAAAAAAAAAAAAAAAAAAAAAAAAAAAAAAAAAAAAAAAAAAAAAAAAAAAAAAAAAAAAAAAAAAAAAAAAAAAAAAAAAAAAAAAAAAAAAAAAAAAAAAAAAAAAAAAE1hbGlrYQAAAAWQAwACAAAAFAAAEKCQBAACAAAAFAAAELSSkQACAAAAAzE1AACSkgACAAAAAzE1AADqHAAHAAAIDAAACJQAAAAAHOoAAAAIAAAAAAAAAAAAAAAAAAAAAAAAAAAAAAAAAAAAAAAAAAAAAAAAAAAAAAAAAAAAAAAAAAAAAAAAAAAAAAAAAAAAAAAAAAAAAAAAAAAAAAAAAAAAAAAAAAAAAAAAAAAAAAAAAAAAAAAAAAAAAAAAAAAAAAAAAAAAAAAAAAAAAAAAAAAAAAAAAAAAAAAAAAAAAAAAAAAAAAAAAAAAAAAAAAAAAAAAAAAAAAAAAAAAAAAAAAAAAAAAAAAAAAAAAAAAAAAAAAAAAAAAAAAAAAAAAAAAAAAAAAAAAAAAAAAAAAAAAAAAAAAAAAAAAAAAAAAAAAAAAAAAAAAAAAAAAAAAAAAAAAAAAAAAAAAAAAAAAAAAAAAAAAAAAAAAAAAAAAAAAAAAAAAAAAAAAAAAAAAAAAAAAAAAAAAAAAAAAAAAAAAAAAAAAAAAAAAAAAAAAAAAAAAAAAAAAAAAAAAAAAAAAAAAAAAAAAAAAAAAAAAAAAAAAAAAAAAAAAAAAAAAAAAAAAAAAAAAAAAAAAAAAAAAAAAAAAAAAAAAAAAAAAAAAAAAAAAAAAAAAAAAAAAAAAAAAAAAAAAAAAAAAAAAAAAAAAAAAAAAAAAAAAAAAAAAAAAAAAAAAAAAAAAAAAAAAAAAAAAAAAAAAAAAAAAAAAAAAAAAAAAAAAAAAAAAAAAAAAAAAAAAAAAAAAAAAAAAAAAAAAAAAAAAAAAAAAAAAAAAAAAAAAAAAAAAAAAAAAAAAAAAAAAAAAAAAAAAAAAAAAAAAAAAAAAAAAAAAAAAAAAAAAAAAAAAAAAAAAAAAAAAAAAAAAAAAAAAAAAAAAAAAAAAAAAAAAAAAAAAAAAAAAAAAAAAAAAAAAAAAAAAAAAAAAAAAAAAAAAAAAAAAAAAAAAAAAAAAAAAAAAAAAAAAAAAAAAAAAAAAAAAAAAAAAAAAAAAAAAAAAAAAAAAAAAAAAAAAAAAAAAAAAAAAAAAAAAAAAAAAAAAAAAAAAAAAAAAAAAAAAAAAAAAAAAAAAAAAAAAAAAAAAAAAAAAAAAAAAAAAAAAAAAAAAAAAAAAAAAAAAAAAAAAAAAAAAAAAAAAAAAAAAAAAAAAAAAAAAAAAAAAAAAAAAAAAAAAAAAAAAAAAAAAAAAAAAAAAAAAAAAAAAAAAAAAAAAAAAAAAAAAAAAAAAAAAAAAAAAAAAAAAAAAAAAAAAAAAAAAAAAAAAAAAAAAAAAAAAAAAAAAAAAAAAAAAAAAAAAAAAAAAAAAAAAAAAAAAAAAAAAAAAAAAAAAAAAAAAAAAAAAAAAAAAAAAAAAAAAAAAAAAAAAAAAAAAAAAAAAAAAAAAAAAAAAAAAAAAAAAAAAAAAAAAAAAAAAAAAAAAAAAAAAAAAAAAAAAAAAAAAAAAAAAAAAAAAAAAAAAAAAAAAAAAAAAAAAAAAAAAAAAAAAAAAAAAAAAAAAAAAAAAAAAAAAAAAAAAAAAAAAAAAAAAAAAAAAAAAAAAAAAAAAAAAAAAAAAAAAAAAAAAAAAAAAAAAAAAAAAAAAAAAAAAAAAAAAAAAAAAAAAAAAAAAAAAAAAAAAAAAAAAAAAAAAAAAAAAAAAAAAAAAAAAAAAAAAAAAAAAAAAAAAAAAAAAAAAAAAAAAAAAAAAAAAAAAAAAAAAAAAAAAAAAAAAAAAAAAAAAAAAAAAAAAAAAAAAAAAAAAAAAAAAAAAAAAAAAAAAAAAAAAAAAAAAAAAAAAAAAAAAAAAAAAAAAAAAAAAAAAAAAAAAAAAAAAAAAAAAAAAAAAAAAAAAAAAAAAAAAAAAAAAAAAAAAAAAAAAAAAAAAAAAAAAAAAAAAAAAAAAAAAAAAAAAAAAAAAAAAAAAAAAAAAAAAAAAAAAAAAAAAAAAAAAAAAAAAAAAAAAAAAAAAAAAAAAAAAAAAAAAAAAAAAAAAAAAAAAAAAAAAAAAAAAAAAAAAAAAAAAAAAAAAAAAAAAAAAAAAAAAAAAAAAAAAAAAAAAAAAAAAAAAAAAAAAAAAAAAAAAAAAAAAAAAAAAAAAAAAAAAAAAAAAAAAAAAAAAAAAAAAAAAAAAAAAAAAAAAAAAAAAAAAAAAAAAAAAAAAAAAAAAAAAAAAAAAAAAAAAAAAAAAAAAAAAAAAAAAAAAAAAAAAAAAAAAAAAAAAAAAAAAAAAAAAAAAAAAAAAAAAAAAAAAAAAAAAAAAAAAAAAAAAAAAAAAAAAAAAAAAAAAAAAAAAAAAAAAAAAAAAAAAAAAAAAAAAAAAAAAAAAAAAAAAAAAAAAAAAAAAAAAAAAAAAAAAAAAAAAAAAAAAAAAAAAAAAAAAAAAAAAAAAAAAAAAAAAAAAAAAAAAAAAAAAAAAAAAAAAAAAAAAAAAAAAAAAAAAAAAAAAAAAAAAAAAAAAAAAAAAAAAAAAAAAAAAAAAAAAAAAAAAAAAAAAAAAAAAAAAAAAAAAAAAAAAAAAAAAAAAAAAAAAAAAAAAAAAAAAAAAAAAAAAAAAAAAAAAAAAAAAAAAAAAAAAAAAAAAAAAAAAAAAAAAAAAAAAAAAAAAAAAAAAAAAAAAAAAAAAAAAAAAAAAAAAAAAAAAAAAAAAAAAAAAAAAAAAAAAAAAAAAAAAAAAAAAAAAAAAAAAAAAAAAAAAAAAAAAAAAAAAAAAAAAAAAAAAAAAAAAAAAAAAAAAAAAAAAAAAAAAAAAAAAAAAAAAAAAAAAAAAAAAAAAAAAAAAAAAAAAAAAAAAAAAAAAAAAAAAAAAAAAAAAAAAAAAyMDIxOjAxOjE4IDE3OjE1OjU0ADIwMjE6MDE6MTggMTc6MTU6NTQAAABNAGEAbABpAGsAYQAAAP/hCxlodHRwOi8vbnMuYWRvYmUuY29tL3hhcC8xLjAvADw/eHBhY2tldCBiZWdpbj0n77u/JyBpZD0nVzVNME1wQ2VoaUh6cmVTek5UY3prYzlkJz8+DQo8eDp4bXBtZXRhIHhtbG5zOng9ImFkb2JlOm5zOm1ldGEvIj48cmRmOlJERiB4bWxuczpyZGY9Imh0dHA6Ly93d3cudzMub3JnLzE5OTkvMDIvMjItcmRmLXN5bnRheC1ucyMiPjxyZGY6RGVzY3JpcHRpb24gcmRmOmFib3V0PSJ1dWlkOmZhZjViZGQ1LWJhM2QtMTFkYS1hZDMxLWQzM2Q3NTE4MmYxYiIgeG1sbnM6ZGM9Imh0dHA6Ly9wdXJsLm9yZy9kYy9lbGVtZW50cy8xLjEvIi8+PHJkZjpEZXNjcmlwdGlvbiByZGY6YWJvdXQ9InV1aWQ6ZmFmNWJkZDUtYmEzZC0xMWRhLWFkMzEtZDMzZDc1MTgyZjFiIiB4bWxuczp4bXA9Imh0dHA6Ly9ucy5hZG9iZS5jb20veGFwLzEuMC8iPjx4bXA6Q3JlYXRlRGF0ZT4yMDIxLTAxLTE4VDE3OjE1OjU0LjE1MTwveG1wOkNyZWF0ZURhdGU+PC9yZGY6RGVzY3JpcHRpb24+PHJkZjpEZXNjcmlwdGlvbiByZGY6YWJvdXQ9InV1aWQ6ZmFmNWJkZDUtYmEzZC0xMWRhLWFkMzEtZDMzZDc1MTgyZjFiIiB4bWxuczpkYz0iaHR0cDovL3B1cmwub3JnL2RjL2VsZW1lbnRzLzEuMS8iPjxkYzpjcmVhdG9yPjxyZGY6U2VxIHhtbG5zOnJkZj0iaHR0cDovL3d3dy53My5vcmcvMTk5OS8wMi8yMi1yZGYtc3ludGF4LW5zIyI+PHJkZjpsaT5NYWxpa2E8L3JkZjpsaT48L3JkZjpTZXE+DQoJCQk8L2RjOmNyZWF0b3I+PC9yZGY6RGVzY3JpcHRpb24+PC9yZGY6UkRGPjwveDp4bXBtZXRhPg0KICAgICAgICAgICAgICAgICAgICAgICAgICAgICAgICAgICAgICAgICAgICAgICAgICAgICAgICAgICAgICAgICAgICAgICAgICAgICAgICAgICAgICAgICAgICAgICAgICAgIAogICAgICAgICAgICAgICAgICAgICAgICAgICAgICAgICAgICAgICAgICAgICAgICAgICAgICAgICAgICAgICAgICAgICAgICAgICAgICAgICAgICAgICAgICAgICAgICAgICAgCiAgICAgICAgICAgICAgICAgICAgICAgICAgICAgICAgICAgICAgICAgICAgICAgICAgICAgICAgICAgICAgICAgICAgICAgICAgICAgICAgICAgICAgICAgICAgICAgICAgICAKICAgICAgICAgICAgICAgICAgICAgICAgICAgICAgICAgICAgICAgICAgICAgICAgICAgICAgICAgICAgICAgICAgICAgICAgICAgICAgICAgICAgICAgICAgICAgICAgICAgIAogICAgICAgICAgICAgICAgICAgICAgICAgICAgICAgICAgICAgICAgICAgICAgICAgICAgICAgICAgICAgICAgICAgICAgICAgICAgICAgICAgICAgICAgICAgICAgICAgICAgCiAgICAgICAgICAgICAgICAgICAgICAgICAgICAgICAgICAgICAgICAgICAgICAgICAgICAgICAgICAgICAgICAgICAgICAgICAgICAgICAgICAgICAgICAgICAgICAgICAgICAKICAgICAgICAgICAgICAgICAgICAgICAgICAgICAgICAgICAgICAgICAgICAgICAgICAgICAgICAgICAgICAgICAgICAgICAgICAgICAgICAgICAgICAgICAgICAgICAgICAgIAogICAgICAgICAgICAgICAgICAgICAgICAgICAgICAgICAgICAgICAgICAgICAgICAgICAgICAgICAgICAgICAgICAgICAgICAgICAgICAgICAgICAgICAgICAgICAgICAgICAgCiAgICAgICAgICAgICAgICAgICAgICAgICAgICAgICAgICAgICAgICAgICAgICAgICAgICAgICAgICAgICAgICAgICAgICAgICAgICAgICAgICAgICAgICAgICAgICAgICAgICAKICAgICAgICAgICAgICAgICAgICAgICAgICAgICAgICAgICAgICAgICAgICAgICAgICAgICAgICAgICAgICAgICAgICAgICAgICAgICAgICAgICAgICAgICAgICAgICAgICAgIAogICAgICAgICAgICAgICAgICAgICAgICAgICAgICAgICAgICAgICAgICAgICAgICAgICAgICAgICAgICAgICAgICAgICAgICAgICAgICAgICAgICAgICAgICAgICAgICAgICAgCiAgICAgICAgICAgICAgICAgICAgICAgICAgICAgICAgICAgICAgICAgICAgICAgICAgICAgICAgICAgICAgICAgICAgICAgICAgICAgICAgICAgICAgICAgICAgICAgICAgICAKICAgICAgICAgICAgICAgICAgICAgICAgICAgICAgICAgICAgICAgICAgICAgICAgICAgICAgICAgICAgICAgICAgICAgICAgICAgICAgICAgICAgICAgICAgICAgICAgICAgIAogICAgICAgICAgICAgICAgICAgICAgICAgICAgICAgICAgICAgICAgICAgICAgICAgICAgICAgICAgICAgICAgICAgICAgICAgICAgICAgICAgICAgICAgICAgICAgICAgICAgCiAgICAgICAgICAgICAgICAgICAgICAgICAgICAgICAgICAgICAgICAgICAgICAgICAgICAgICAgICAgICAgICAgICAgICAgICAgICAgICAgICAgICAgICAgICAgICAgICAgICAKICAgICAgICAgICAgICAgICAgICAgICAgICAgICAgICAgICAgICAgICAgICAgICAgICAgICAgICAgICAgICAgICAgICAgICAgICAgICAgICAgICAgICAgICAgICAgICAgICAgIAogICAgICAgICAgICAgICAgICAgICAgICAgICAgICAgICAgICAgICAgICAgICAgICAgICAgICAgICAgICAgICAgICAgICAgICAgICAgICAgICAgICAgICAgICAgICAgICAgICAgCiAgICAgICAgICAgICAgICAgICAgICAgICAgICAgICAgICAgICAgICAgICAgICAgICAgICAgICAgICAgICAgICAgICAgICAgICAgICAgICAgICAgICAgICAgICAgICAgICAgICAKICAgICAgICAgICAgICAgICAgICAgICAgICAgICAgICAgICAgICAgICAgICAgICAgICAgICAgICAgICAgICAgICAgICAgICAgICAgICAgICAgICAgICAgICAgICAgICAgICAgIAogICAgICAgICAgICAgICAgICAgICAgICAgICAgICAgICAgICAgICAgICAgICAgICAgICAgICAgICAgICAgICAgICAgICAgICAgICAgICAgICAgICAgICAgICAgICAgICAgICAgCiAgICAgICAgICAgICAgICAgICAgICAgICAgICA8P3hwYWNrZXQgZW5kPSd3Jz8+/9sAQwAHBQUGBQQHBgUGCAcHCAoRCwoJCQoVDxAMERgVGhkYFRgXGx4nIRsdJR0XGCIuIiUoKSssKxogLzMvKjInKisq/9sAQwEHCAgKCQoUCwsUKhwYHCoqKioqKioqKioqKioqKioqKioqKioqKioqKioqKioqKioqKioqKioqKioqKioqKioq/8AAEQgAxgJiAwEiAAIRAQMRAf/EAB8AAAEFAQEBAQEBAAAAAAAAAAABAgMEBQYHCAkKC//EALUQAAIBAwMCBAMFBQQEAAABfQECAwAEEQUSITFBBhNRYQcicRQygZGhCCNCscEVUtHwJDNicoIJChYXGBkaJSYnKCkqNDU2Nzg5OkNERUZHSElKU1RVVldYWVpjZGVmZ2hpanN0dXZ3eHl6g4SFhoeIiYqSk5SVlpeYmZqio6Slpqeoqaqys7S1tre4ubrCw8TFxsfIycrS09TV1tfY2drh4uPk5ebn6Onq8fLz9PX29/j5+v/EAB8BAAMBAQEBAQEBAQEAAAAAAAABAgMEBQYHCAkKC//EALURAAIBAgQEAwQHBQQEAAECdwABAgMRBAUhMQYSQVEHYXETIjKBCBRCkaGxwQkjM1LwFWJy0QoWJDThJfEXGBkaJicoKSo1Njc4OTpDREVGR0hJSlNUVVZXWFlaY2RlZmdoaWpzdHV2d3h5eoKDhIWGh4iJipKTlJWWl5iZmqKjpKWmp6ipqrKztLW2t7i5usLDxMXGx8jJytLT1NXW19jZ2uLj5OXm5+jp6vLz9PX29/j5+v/aAAwDAQACEQMRAD8A+kaKKKACiiigAooooAKKKKACiiigAooooAKKKKACiiigAooooAKKKKACiiigAooooAKKKKACiiigAooooAKKKKACiiigAooooAKKKKACiiigAoozRQAUUUUAFFFFABRRRQAUUUZoAKKKKACiiigAooooAKKKKACiiigAooooAKKKKACiiigAooooAKKKKACiiigAooooAKKKKACiiigAooooAKKKKACiiigAooooAKKKKACiiigAooooAKKKKACiiigAooooAKKKKACiiigAooooAKKKKACiiigAooooAKKKKACiiigAooooAQ0UtIaAMy7123tpDGMuw6gCn2WsQXr7BlH9DUd3/Z+nOZZYhvk9s5rJtWW+11JLZPLReTivCq4qvSrKLknd7HXGnCUG7HVUtNJCjniqMGqJPfSW4GNg+9nrXrzrQptKT3OZRb1RoVXu7uOztzLKeOw9alZgqbieB3rmbyaTWL4xRZEMeSa5cbivYQ9zWT2NKVPneuxs6bqi6jv2oV2+taFc74aXbJOo7cVp3+pixZVMTOW9KnCYpywyq1mOpTtU5Yl6qd/qKWCqXVm3egqkniBXkUfZ5Bk4rWZElUb1BB9RWyrKvBqi9SOTkfvIyP8AhJYf+eT/AJVNaa7Bd3CxIrAt04qHW3gtLXakS+ZJwOOlO0PTRbwieVf3jjI9hXnQq4v6yqXMnbc3cafs+axsUtFFe6cgUUUUAFFFFABRRRQAUUUUAFFFFABRRRQAUUUUAFFFFABRRRQAUUUUAFFFFABRRRQAUUUUAFFFFABRRRQAUUUUAFFFFABRQaKACikozigBaKgmvILcEyyKv1NZ0/iK1j/1eXPtXNUxdCl8ckaRpzlsjXormpfE0rcQxAe5qs2ralcNhCwHoFrz5ZxQWkbs2WFm9WdfmkzXH41aT/nt+tJ9k1Y/89v++jWf9rSfw0mx/Vl/Mjss0ma477Lqw/57f99GlB1aPp5tH9rS60mH1ZdJI7GkrkRqmqQffLY91qWPxJcof3kYb8K0jnFD7SaF9Vn0OqorCi8TQsQJYyv0q/Bq9nOfllUH0JxXZTx2GqfDJGUqNSO6L1FNV1cZUgj2p1diaexkFFFFMAooooAKKKKACiiigAooooAShjgZpaQjIwaXQCkZLHUAUYpJtOOe1YckaWWvRLZn5SeQDV668P752ktpmi3dQDUllpENjL588u+TsWPSvArU61aaU4JWfxHZGUILR38i5f2X26JV81o9vPy965610mSTU5IWd1Cg/PjrXSNf2qfemQfjUB1ewRj++TPcg10Yqjhas4znK1vMinOpFNJDLjTpTpn2aCY59W71kpo+o2qOYpVUEc4J5rXOu2IP+tpra5YspXzOorGvTwVV83PqvMqDrRVrGNokV014xhk2qp+fJ61t6leva7AtsZs9x2qhpt1YWUkrCfhznmtRdUsZBxPGfqanBRpww7pqok2VW5nU5uXQz4dWkaZVawYAnGcdK28/LmoUuLZz8kiE+xqSQeZEyq2MjANelh4uEX73Mc82m9rHOODquvBescZ5rpQNqgDtVDTNM+w72Zt7uetaFTgaMqcXOfxSY6s1JpLZBS0GivQMQooooAKKKKACiiigAooooAKKKKACiiigAooooAKKKKACiiigAooooAKKKKACiiigAooooAKKKKACiiigAooooAKKShiFGWOBSbtuAtMeRY1LOwUe9ZN/4ghgykH7x/UdBWNnUNXk/iK/kBXk18zpwlyUlzSOmGHk1eWiNm88QwQ5WD9436VkS6pqF822LcoPGErStPDcaANdNvP90dK2IbaKBdsUaqPYVzfV8ditasuVdkXz0qfwq5zEOhXtycyttz3JzWjB4Zt1wZnZz7cVtilrqpZVhobq78yJYipLyKcWlWkP3IVz6kVZWGNPuoB9BT6K9GNGnBWjFGDlJ7sTb7UYpaK0siRMUbR6UtFFkAxokbqoP4VDJp9rKPnhU/hVmiolSpy3Q1JrYyZvDtnIPlDIfY1nz+GZF5t5s+xFdNQa4qmWYap9m3obRr1I9TjTb6np7ZG8Af3TkVbtvEc0ZC3KbvfvXTFQRyMiqN3pFrd/fjCt6rxXC8ur0NcPP5M19vCf8SI611W2ugNkgB9DV0EEcVy134dngO+1feB+BqC21a9sH2TbmUdQ9OOZVaL5MVC3mDoRnrTZ2FFZ9lq9veAANtf+6av17NKtCrHmg7nLKLi7MWiikrUkXNFFQXF3DapumcL+NRKcYK8nZDSb0RPTHlSMZdgB7mufu/EpJK2if8CIqgttqOptubeQe7HAryKuawvyUI8zOmOGdrzdkb9xrtpDkB959BWXN4kmfIt4gPTPNS2/hgcG4lJ9lrVt9KtLfGyIZ9TzWXLmOI3agir0IbanNm71W6OFMnPYUq6TqVw3z5/4E1dcqKvCqAPYUtUso5tatRsX1m3wxOXXw1ct9+VR+tTL4WOPmuPyWujoreOUYVdCXiajOfHhePvO35Up8Lx/89m/Kt+itP7Lwv8AKT9Yqdznj4WXtOR/wGom8Lyj7k4I9xiumoqHlOFfQaxFRdTlG8O3i/cdSfriofsOqW33d4+hrsaSsZZPS3hJr5lrFS6o5FNW1G1OJNxx/fFX7fxMp4uIyPcVuPBFIMPGp+orPuNBs5s4Uo3qpqPqeNo60ql/UftaMvijYsW2pW1z/q5Bn0PFWwQRxzXLXPh24hO62feP1FQw6lqGnNsl3EDs9Ecyq0XbEwt5oHQjPWmzsKKyLLX7e4wsp8tvfpWqrKwypBB7ivWo4mlXjeDuc0oSg7SQ7NGaZJKkS7pGCj1JxSRypKu6Nw49Qa25o35b6k2drklFFFUIKKKKACiiigAooooAKKKKACiiigAooooAKKKKACiiigAooooAKKKKACiiigAooooAKKSs3WNQeyt/3K5Zu/pWNatGjBzlsioxcnZFi91CCyQmVuew9a5q61K71OTy4dwTPCrTLazuNUuN88hAzyzV09lp8FlHiEAnu3c14Klicxej5YfizstCh5sytP8ADoGJLw5P90VuxxJCoWNQoHpT6WvZw+EpYeNoI5Z1ZTeoUlFLXWZhRRRQAUUUUAFFFJQAtFFFABRRRQAUUUUAFFFFABVa5sLe7QiaMH3HWrNFZzpwqLlkrjTa1Ry15oE9uxktGLAdu4pLHW57STybzLKOOeorqTWff6RBeqTjZJ/eFeLVy6dCXtMI7Pt0OuNdSXLURat7qK6jDwsCD+lTEhRkniuNZLzRbrIJxnqOhqW+1ue+RYoQUB4OOppRzeMYNVY2mugPCtu8XoaWp6+sJMVthn6Z9KyYbG+1WTfIW2n+Jq0NL0HpNec9wtdAiLGoVQAB0AqKeEr45+0xLtHohupCl7tPfuZlloVvagM48x/U1pqoQYUACnUV7dHD0qMeWCscspyk7thRRRW5AUUUUAFFFFABRRRQAUUUUAFFFFABRRRQAlRTW0M6kSorfUVNRUyjGStJXGm1sc9e+GwctaPg/wB01nR3N/pMu1923+6ehrrLl3S3dohlgpIrlLrVrm4BSaNSP92vmcwo0cNLnpNxk+2x30ZzqK0tUXrvUYdU010B2SryBmmeHLvZK9u7deRmsI9emKdFK0MqyIcMpyDXkxzKp9YjVnuvxOl0I8jij0GiqenXy3tqrg/N/EKtlgOpxX3NOrGpBTjszyJRcXZi0U3ev94fnSgg9K0TT2JFooopgFFFFABRRRQAUUUlAC0UUUAFFJS0AFFFFABRRRQAUUUUAFMllSGNpJWCIoyWJwBT65v4gu0fgHVmQlWEPBH1FXTjzzUe5FSXJBy7F/8A4SbR/wDoI2//AH8FSw65ptw4SC8hkY9FVwSa8U8C/DuDxborXs1/LAVcrhVz0/Gup0T4ZLoWvQ3yai8ywtnaVxn9a7MTRw1BNOfvLyOKhXr1bS5NGeiS3JY4TgetVpFEqlZBuB9aWgsFGWIA96+YnJz+I9qKtsIqhBhBge1SJI6H5SaiWaN/uOrfQ0+lF2XujaezL0FwJOG4NT1lAkHI61ft5fMj56jrXfRrc2jMJRtqTUUUZxXUZhRTPPiDbTIu70zTs56UXQ7NBTJpkghaWZgkaDLMTgAVJVLVtOXVdJubF3KLPGULDtkU42b1Jle2hVPinRAcHUrf/v4KmtNe0y+nENpewyyHoquCa8+/4UlZd9Unz/uf/XrkrPRT4b+LVppllcSSBJFy2eoIBNelHDYeon7ObulfY82WJr05Lnjo2e/0Ug6ClrzD0wooooAKKKKACiiigBrMEUsxAAGST2rMPiXRwxU6hb5U4P7wU/xASvh6+KnBELY/KvDPAfgePxja3c9xeyQGF8fKM54z613YfD06lOVSpKyRxV684VIwgrtnucev6XMwWK+hZj0Acc1NJdnpGPxrzDTvhSunarDdLqTuInztK9f1r0avNxk6cWlRlc68N7SaftI2Gzr9pQrN8wNZ1vpQhvPMLZVeVrSqM3MKyiMyqH7LnmvDq0adSalPdHoQcknGJfiuuzj8atKQ3IrLqW3lMbgE/Ka9KlXe0jnlBdDQopAc0tdxiFFGaha7t0fa0yBvQtSbS3Gk3sTUlAYMMqcj2opiGu6xoXcgKoySe1ZZ8UaKrEHUrcEf9NBWhd24u7SWBjtEilcjtXmr/BSyd2Y6pPknP3P/AK9dFGNGV/aysc1adWNvZxud9b+ItJup1igv4HkY4VQ4ya0xXzxq/hz/AIRP4g6XY2NzJIzSxsGPB5avoSEHykz12jNa4rDwpcrg7pkYavKq5KSs0PoooriOwKKKKACiiigAooooAQjI5qI2sB/5ZJ/3zU1QXrFLGdl6rGxH5VLhGbs0HM4q5Vn07T5sh1RT7HFZV14fhVS8FyBjnDEV434c0HVfGmrX3k6k8EkbFjkkjrXQR/DPXbe6UnV3ZVYEjnn9a1xmSYGzVWST9DjoZjiZawg7Houk2slpuZmIJ4wDxWiWZupJqOJSkKq3JAwaUsB1IFeBTpqjHki9Eew5Ob5nuOzTlldPusaj3L6j86UEHoc1opNPQm3dF6G5D8PwasVlDjpV62l8xOeoruo1ub3WYzjbYnooorqMwopCwHU0uaACiikIyDQAzz4+7r+dAmjPAdfzryS7+Eer3N5LKuslFdiQvJx+tcn4m8Oan4K1GyDak80krArgkY5+tenTwdKppGpqebPF1aesqeh9FdqWq1gzPp1uz/eMak/lVmvM2dj0U7q4UUUUDCiiigAooooAK5n4iH/i3+rZ/wCeP9RXTVyXxOfZ8PtR5xlAP1rfDq9aPqjHEO1KXoYXwbOzwVKf+mrfzrta434SQsngDeejysR/30a7GuTNpXxUh5ev9niFch4t0/X9Suo4NLn8m2YfMw4P5119Z+t295daXLHp03kzkHa2OleNUjzRse1g6rpVlJW+ex5hqFprHg6eG5/tJpgzYKFy36V6rpl0b7S7e5I2mWMMR6ZFeOaxp2q6bqUMviEyXEO7ru617DpE0NxpNtJajbE0YKj0GK5MM/ektj3M4gvYU56Nvqti5U9q22XHrUFSwf65a9Km7SR8vLY0a5Xx94gm0DQGktOJpW2I2Pu+9dVXDfFK4sk8O+TdAtLI37oKe9duKk40ZNOxtl0I1MXCMldXONl8O62PD39vya3N5mzzQolPTrXf/DrW7nXPDCzXrb5Y5DGWI+9gDn9a8tbRfFbeHQ7GY2Gzd5ef4a9D+Fuo2c3h/wCx2qFJIWzICc5J7/pXk4Kb9ulZq669T6XNqK+pyldSal06Lszu6KKK98+LENeNTfN8fFPuP/QK9lNeNPx8ex9R/wCgV6OB+36M8/G/Y9T2YUUUV5x6AUUUUAFFFFABRRRQBmeIjjw5f5/54N/KvMvgySNK1HHQz4P5CvRPGLbPCGpEHH7k1558Glxot83rP/QV2NuOAqPzRwS1xsF5M9JoopsjiKJnPRRk180e0ld2M3xBrUWiaXJcykbsYRfU15Jp2qX974xtbi4lkXzZchdxxj6VP4l8Q/234iCXLMtlC2No7+tQ3er2P/CTWVzaqUt4MAivIrVued09Ez7rL8B9WoNSjeUk9e3ZHtq8qPpS1T0vUYdUsI7m2JMbDjNXK9ZO6ufDzi4yakX7V90eD2qeqln/ABCrderSd4JnJLRnJ+PfEjaBo222bF1Odsft71xlh4A1vV7D+0brVZo55RvVd5q38VA3/CRaL5n+pyc/99LXplrtFjF5eNuwYx9K4HTWIryU9on0Ea8sDg6cqKXNO7b9OhwPgHxHepqs/h7WHMk8GdjnqQK9FryXS/3nxmn8rsrbsfhXrVbYKUnBxetnY5c2pwjWjOKtzRTfqLRRRXceOeLeNfm+M2ke0sP/AKEK9oX7o+leL+MuPjRpOf8AnrF/6EK9oX7o+lejjP4dL0POwn8Sp6i0UUV5x6IUUUUAFFFFABRRRQAVBf8A/IOuP+uTfyqequqNs0q6J7RN/Kqjq0TL4WeRfBttut6u3baf516kTlia8w+DUJNxrEwPfbj8a9OozqX+02RhlithwrjvFGkeIr3UBJpV4I4McJ6V2NBOBmvBnBTjY9zDV5UJ88Un6nkesjxTodr595qIxnAA6muh+HtzrV/vuNQmZ7bHyhgOaxNdmm8W+Mo9PgY/Z4mwcdPrXp9lZxWNpHbwKFRAAAK4aNO9RtPRH0WYYlQwkac4LnlrotkT1NbPtmHvUNPi/wBav1r1IO0kz5N7GnWfrmpDSNGuL1hnykzitAVi+Lvsp8MXgvm2wmM5NelUbjBtEUIqVWMXtdHm9jL4u8XQzala6iLeFSSqA4HHbiuk+HPie+1Y3Vjqb+ZLbHG/HXr/AIV55oM3iVNLuI9D802fOcD88V1fwnuLSK6u4ZiwvnPzbu9eDhazdWG+u99n6H2uZYWMcNV0i0rWstV6nq1FFFfRHwgV458Yfm8SaQPcfzr2OvHPi/8A8jRpGfUfzrvy/wDjr0Zw47+CeuWP/HhB/wBc1/lU9QWX/HjB/wBc1/lU9cL3OyPwoKKKKRQUUUUAFFFFABXGfFVtvgG898V2dcP8W2I8B3GO7qP5104X+PD1OfFfwZeg34Ux5+Hlsvqzn/x410pGDWD8LF2+AbP/AIF/M101zAQd69O9ceZQ5q0peZpgnajFeRWrgvE2t67oPiD7RFGZrE4+QCu9pkkMcy4lRXHowzXi1IuasnY9nC14UJ8048yfQ8n13X77xl5NjaWDIN3JxXpmh2LabottauctHGqk++KsxWdtAcwwRofVVAqaop0nGTlJ3Z04vHRrU40aUOWKCrFomZM+lQqpdsAc1oQx+WgHfvXfQhzSueRN6EleffFHRr29tba8sozMLdssg616DTWUOCGAI9DXXWpKtBwZeExMsLWVWK2PLh8SV/sIWR02bzxF5e3bxnGKv/C3RLuygur+8jMX2l/lQ9cf5Ndx/ZVgZN/2SHd67BVpVCDCgAegrmp4WSmp1JXtsd9fMKToypUIcvNvrcdRRRXeeMBrxi5Ii+PabzgEj9Ur2evE9f8Al+PEGOP3kX/oIr0MDvNeTPPx20H5o9rFLSD7tLXnnoBSUUhYeooE3YrPqdnHeC1kuY1nPSMtyatZry7WmB+LFsQe6d/YV6erLtHzCuvEYdUowa+0rnFhsV7aU09OV2H0lANLXIdxz3jptvgrUD/0zrifg9CR4ZuZMcGf+grsfiC23wTf/wC5XPfB2Ld4NlH96Y/yrua5svkvM4G/9tj6HY0MoZSGGQetOZSrEGm18w9HY9m/VGRL4W0eaQu9lGWPJIFcBrvh+ODxxZwQWmLZzyAODXq1NaKNnDMilh0JHIrCpQjNHqYXMq1CTbbd1bcjtLWKztUht4xGijgAVNRTo0LuAK3iuiPMlJt8zLdmuELetWaai7FAHanV61OPLFI5W7s434ieHZdb0hZrQZubZtyD1HpXLWnxE1Wy0oafNpkrXaLsVtp5969aIz1qA2VqZN5t4y/97aM1y1cNKU+eErN7nq4fMIQoqjXhzparyOB+Hfh28W/uNd1ZNs8/3A3Xnr/SvRqRVC8KMD2pa3o0lRhyo48XipYqq6ktP0CiiitjlPFfHB2fGTSGbp5kR/8AHhXtKcqMdMV4n8SPl+K2lEccxf8AoVe1Q/6lP90V6WMX7qk/I87Cfxai8x9FFFeaeiFFVdSumstPmuI03tGuQvrXAH4lakGI/shuv9011UMJVrpumjjxGMpYdpVD0mivNf8AhZWpf9Ahv++TU9l8RNRub6CB9KKrLKqFtp4BOM1u8txCV2vxOdZphpOyb+49CpaQHpS15x6gVQ1xtmhXh9Im/lV+svxK+zw1fN6Qmrp/GiKnwM84+CqbodV/2nr0ZhhiK8++CQ/0LUD6y16VdQnO9R9aecQcq8muhjlrtQRVrH8Vam2leH7i4jOJAhCH37Vs1Bd2dvfQGG7jWWM9VNeBNNxaR7NGUYVFKaukcN8NdKYQzapcKRJKflJHau/qO3tobWFYreMRovRR2qSppQ9nGxtjMS8TWdRhU9sm6XPYVCBk4HNaEEXlpz1NddGHNI4JuyJa5T4i2VxfeEbiO1Uu4wxUdxXV0jKGUhgCD1Bruqw9pBw7hh6zoVY1F0Z5T4O8cabo/h1bG+heGaLPAT71V/BFvNqvjqfVbe3aK1yTkjANelTeG9Jnk8yWwhLZ67avW1nb2cey2iSJfRRiuCGEqXipy0iezVzOhy1HSg1Ke93oT0UUV6Z8+FeOfGLjxJpB9x/OvY68c+NJ8vWdJk9Of1rvy/8Ajr5nDj/4J65Y/wDHjB/1zX+VT1W05t2m2x9Yl/lVmuGW52R+FBRRRSKCiiigAooooAK4T4vZ/wCEFm/66L/Wu7rhPi9/yIsv/XRf6104T+PD1ObFfwJehb+F4/4oOyx6H+ddeRnrXI/C/wD5EOx+h/nXXmpxP8aXqVhv4MfQqy2mcmP8jVZonXqprSoPvXBKhGT0OpTZmbGPY1Ils79Rge9c54h+IVloeqpYiMzPnD4/hrrbWdbq1jnThZFDD8RWFOFKcnFSu0dNWjWpQjUnGylsLFCsY45PrUtFFdqioqyOS9wpKWkY7Rk9KoQUorlLjx1ZJ4hj0m1ie4lZ9rsnIWuqByBWcKkZ35XsbVaFSjbnVr6i0UUVoYga8U1tTN8eIAgyQ8Z/JRXtZrxmUlvj4v1H/oFehgd5vyZ5+N+wvNHso6CloFFeeegNcEqQOuK83u/BniqW7leLVgEZiVHmEYH5V6VSV00MTOg24217nJiMLDEJKbenY8HvdF1e38Vx2M11vvWI2y7j6etdVH4K8W5U/wBrjGf+erf4VY1fTbyT4nW9zHbyNApXMgU4HAr0ZR8or2MXmFRQp8ttVroeHgsspuc+a+j01IbOKSGzijmbdIqAM3qanoor59u7ufTJWVjlviN/yI99/u1jfBsY8Gn3lNbPxG/5Ee+/3ax/g5/yJp/66mvRj/uT9Tz5f74vQ7uaAScjg1SeJ0PzD8a06QgEc8141Sipu56kZtGXRTtX1Gx0eza5vmVEA7nrWR4V8V2fiee6W2gZFgIwW7g1xypxU1C+rOuNKrKk6yj7q6mwkLyHgVdihES+9SdBxS12U6MYHJKTYUUUVuQFFJWfrOtWeh2TXN9KEUdBnk1MpKKvIuEJTkoxV2zRorz3/hbNgLgb7KdYCceYV4rtdM1S21ayS6s5A8bjqD0rKniKVV2gzpr4LEYeKlUjZF3NFJS1ucZ4l8RgZPixpSryd0QH/fVe1RDEKZ/uivGfGp3fGfSB6Sw/+hCvaF+6PpXo4t/uqS8jzsJ/FqPzFooorzj0Rkrxxxs0pAQDknpWZ/ami5/4+bb/AL6FXr60S+spbaXISRdpxXFn4VaUWJ+0T8n2rqoKg0/aya9DixLrpr2UE/U6b+1NF/5+bb8xTo9S0d5FWO4ti5ICgEcmuX/4VTpX/PxP+YqW1+GGmWt5DcJPMWhkVwDjqDmuhxwltKj+45oyxl1ekvvO2+lLSDilrzT1grI8Vf8AIrah/wBcTWvWP4s/5FTUP+uJrSn8a9TOp8DOE+Cf/INv/wDrqf516kRnrXlvwS/5Bt9/11r1OunH/wC8SObA/wACJVltM8x/lVdoXXqtaNZHiHxHZeHLVZ77dtY4GBXkVaVNJybsepSVSpJQgrtkmxvQ09IJH7Y+tct/wtXQvST/AL5roPD3iWz8RwvJZBwEODuGK56aozdoyudNbC4mjHmqQaRqRQLH7n1qakpa9CMVFWR597hRRRVAFJSmuH8TfEEaRqDWFjZvc3K9QFJA/KsqlWNJXkdGHw9TET5KauzuM0Zrz/RPiT9q1JLHWLJrOVztUkEDP4134OQCO9KlWhVV4MeJwtXDSUaqtcWvHPjSPM1jSU7nj9a9irx34w/N4l0ge4/nXq5f/HXzPIx38E9a04bdNth6RL/KrNQWX/HhB/1zX+VT1wy3OyPwoKKKKRQUUUUAFFFFABXCfF7/AJEWX/rov9a7uuE+L3/Iiy/9dF/rXThP48PU5sV/Bl6Fz4X/APIh2P0P866+uQ+GH/Ih2P0P866+pxP8aXqVhv4MfQSuY8beKI/D2jSGNh9qkG2Jc9/WunNeV+MvA+v6zrsl3DIksP8AApb7orzcXOpGn+7V2e1ldKhUxC+sStFa69TitQ0q7itLXVNQdjLdSAjd6V73ovOh2X/XBP5CvDvE+neILCO1j1mQFQcRAHgV6t4Cg1aHQl/tiVZAwBhx2XHFeZl/uV5Rsz6HPF7TCU6nOnZu1u3l6HVUUUV7x8WFcZ8R/EcmiaGY7Z9s9wdqn0Heuzryv4qxh9W00TD9yWw36Vx42coUW4nq5TShVxcVU23+4yPBHiHQ9DzPqCySXkhyZSM4r2DTdSttUs0ubOQSRt0Irlr7wroDeF3kFvEqi3LLJ3Hy9ayfhE8v2O9i3EwLL8nPFcmGdShONKVmmejmEaGMpTxVO6cXaz/Q9Kooor1z5kDXjMREnx5J9G/9lr2U14xYHf8AHSUns7fyr0cDtU9Dz8bvD1PaBRRRXnHoBSUtFADdoznAz9KdRRQAUUUUAct8Rv8AkR77/drH+Dn/ACJp/wCuprY+I3/Ij33+7WP8HP8AkTT/ANdTXox/3J+p50v98Xoeg0lFFeceic74w8N2/iDTQLiR08gFl2nrXIfCGMRz6oq9FdQP1r0fUnVNPmLsFGw9TXnXwlkQXOrAsMmRcDPXrXmVoRWLhJbu59BhatSWWVoN6K35np9LSClr0z58KKK4zxVaeLZ9QU6Fcxx2237p65rOpU5I3Sub0KKrT5XJL1Oyz715Z8UHz4n0iG6JFmSpk9Pvc/pWv4e03xlDq8Umr30b2q/fTua6HxL4Ys/ElmIrv5GX7kg6rXJV58RRaSs/M9LCulgcXFylzLuulyhqNj4em8NMjCAReX8pBHBxXN/CWd/Nv7ZXLQI2Uz9a5bxV4cj8P24hGrvcMxwsIP8AMV3/AMMNCfS9BNxOu2S4O7B7CuKlKVTFRXLblWp62Ip0qGWzl7Ry53pc7miiivcPkDxbxZ8/xq0wekkX8xXtC/dH0rxbxId/xusB6SR/zFe0r0H0r0cZ8FP0PPwfx1PUWiiivOPQCkpaKACiiigBKWiigArI8V8+FdQ/64mtesjxV/yK2of9cTWlP416mdT4GcH8E/8AkG33/XSvU68s+Cf/ACDb7/rrXqddOP8A94kc2B/gRErzf4wvjRrZP70lekVz3ivQNM12GCPVJvKCPlecZ9q8nFQdSi4rqe7ltaNDFQqT2TPL7DxFHFYR+T4cSWOMYaQjOa9L8Ga3pmsabu06BbZ1/wBZEOxrS/s/TtO0doo440hSMjoOmK8++GQB8T6m1t/x77jjHTrXBThPD1IRk73PZr1KOOw9WpGLjy67vU9WoopK9g+WFppde5H51HcxPNbSRxyFGZSAw7V59N4D8Qyyuf8AhI7jax6eY1YVak4fDG514ejSq39pUUT0UEMMqciue8S3tjoFsdSl0/7RKTjKjmrHhrSLrRdN8i+vpLx85DOSce1UU8Z6NeapPptydjxHH70cNU1Jpw97RvuaUaTVV+zTnFb20ujzb+1H8Z+NLIiGO0VJAcd8Cvb412RKvXAxXjnjNdPi8VWDaBtE5kG4Q9P0r1+z3/YofM+/sG764rjwF1Kak7u+56mc8sqVGcFyxts90TV478Wzu8XaQvuv869irxz4qnd420pcdGX+dfS5f/H+TPjcf/B+aPXrPiyh/wCua/yqaorX/j0i/wBwfyqWuB7ndHZBRRRSGFFFFABRRRQAVwnxfP8AxQsv/XRf613dcz4+0KfxD4UuLOzAM2QyAnqRXRhpKNaLe1znxMXKjJIrfDD/AJEOx+h/nXXV4Vpln8SdGsls7C1kSFPuj5T/AFrpvCdx4/fxBAuvQutln5ycf4114jCpylUU133OTD4m0Y03F3PT6KKWvMPTOa8W+FF8TQQKJvJeGQNuxnI9K3rO3FpZxQKciNAgPrgYqbFLWapxUnNLVm0q9SVNU5PRbAKKKK0MQrC8U+GbfxJprW8vyyLzG4/hNbtGKicIzi4y2NKVWdGanB2aPKR8PfE7xi0m1nNoONoHb0rv/DmgW3h3S0tLbnHLMerGtbFFYUsLTpPmidmJzGviYck3p5aBQaWub8bf23/YJ/4RsH7XvGMHtXZCPPJRuebOXLHmOjzxXjGlEH45T45+dv5U3PxSGflf8x/jV7wD4Q1+Pxc+s+IIvKbBJJPLE161KlHDwm5TTuuh5NSrKvOCjFqzPW6WgUV457AUUUUAFFFFABRRRQBy3xG48D33+6Kx/g5/yJp/66muo8V6VJrXhu7soceZIny59a8f0rSviL4et2tNMtHSHcTwQc+/WvUoRjVwzp8yTv1PMrylSxCqWurHvFFeUeH7n4jNrtouqwuLPePNJA4H516vXFWo+ydrp+h2UavtVe1vU5/xX4dn8Q2ccMF7Ja7Sc7f4q53w/wDDSXRdWjvP7TcqhyVQY3fWvQsUYrz54anOaqNanq08fiKVF0YS91gOlFGKWuk4QpMUtFACVg+LbHV7/SxDodwsErN8zHrit/FFROPPFxZpSqOlNTXQ890L4aLFdLe69dNeTg5Cnpmu/jjWKMJGoVVGABTqKilRhSVoo2xOLrYqXNVdworE8W/2p/wj039ggm9yNmDXmOfikP4X/Mf416FHD+1V+ZL1PLrYj2Ttyt+guvHPxxs/+uif0r2gdBXjXhbwf4nvPHEGseIojGIjuZmIySOleyitsc43hGLvZGOCUrSlJWuxaKKK889AKKKKACiiigAooooAKx/Fn/Iq6h/1xNbFUNbsn1DRLq1jwHljKrn1q6btNNkVE3BpHnfwT/5Bd7/11NepV4Dol94u8EyXNnaaWzBnOSVyPwrbtviF41kuo0k0nCswBPl9q9XF4SdWpKpFq3qeXhcVGnTVOSdz2Oua8aeGZfEenIlrO0M8R3IQeK6RclQT1xS4rxKkFOLjI9yjWlRmqkN0eTyeEPG9zD9iuNSBtunUdP513PhPwvD4Z0wQId8rcySHua38UYrnpYWnTlzLV+Z24jMq2Ip+zdkvJWuLRRiius80SiloxQAlcl4g+H2m65dG6DPb3B6tGcZrrqTFZ1KUKitNXN6GIq4eXNSdmcj4f+Hum6Jdi6ZnuZx0aQ5xXXYx0oxis/Xrm6s9BvLjT08y5jhZo1xnLAcU6VGMFywVhYjE1Kz9pVd2aFeOfFA58e6UAP4l/nUX/Ce/EAddLz/2xqhDaeKPGfjCyudTsDCIXUsxXaABXu4bDSoSdSbVrdzwMRiY1oqEU73Pc7b/AI9Yv9wfyqWmRrsjVf7oAp9eL1PYWwUUUUDCiiigAooooAKSlooASiiloASloooAKKKKACiiigAooooAKKKKAEoIpaKAExRS0UAAooooAKKKKACiiigAooooAKTFLRQAlFLRQAUUUUAFFFFABRRRQAUUUUAFFFFACUYpaKAEpaKKACiiigAooooAKKKKACiiigAoNFFADCik8qp/Cjy0/uL+VPop3YrIBRRRSGFFFFABRRRQAUUUUAFFFFABSEZ4NLRmgBuxf7o/KgIB0AH0FONJQKyCloooGFFFFABRRRQAUUUUAFFFFABRRRQAUUUUAFFFFABRRRQAUUUUAFFFFABRRRQAUUUUAFFFFABRRRQAUUUUAFFFFABRRRQAUUUUAFFFFABRRRQAUUUUAFFFFABRRRQAUUUUAFFFFABRRRQAUUUUAFFFFABRRRQAUUUUAFFFFABRRRQAUUUUAFFFFABRRRQAUUUUAFFFFABRRRQAUUUUAFFFFABRRRQB/9k=)"
      ]
    },
    {
      "cell_type": "code",
      "metadata": {
        "id": "yA8ESqo0985F"
      },
      "source": [
        "data1 =np.array([[1, 2],\n",
        "                [3, 4]])\n",
        "data2 = np.array([[5, 6],\n",
        "                 [7, 8]])"
      ],
      "execution_count": null,
      "outputs": []
    },
    {
      "cell_type": "code",
      "metadata": {
        "colab": {
          "base_uri": "https://localhost:8080/"
        },
        "id": "M6v8WQwXRcl7",
        "outputId": "7e00754a-274e-45c2-d91f-55a7066ba592"
      },
      "source": [
        "addition = data1 + data2\n",
        "addition"
      ],
      "execution_count": null,
      "outputs": [
        {
          "output_type": "execute_result",
          "data": {
            "text/plain": [
              "array([[ 6,  8],\n",
              "       [10, 12]])"
            ]
          },
          "metadata": {
            "tags": []
          },
          "execution_count": 127
        }
      ]
    },
    {
      "cell_type": "code",
      "metadata": {
        "colab": {
          "base_uri": "https://localhost:8080/"
        },
        "id": "T3EbSYnKUYNQ",
        "outputId": "ceaeb3be-2c60-441d-bb2d-cac7de60f27e"
      },
      "source": [
        "# Another way to do that\n",
        "print(np.add(data1 , data2))"
      ],
      "execution_count": null,
      "outputs": [
        {
          "output_type": "stream",
          "text": [
            "[[ 6  8]\n",
            " [10 12]]\n"
          ],
          "name": "stdout"
        }
      ]
    },
    {
      "cell_type": "markdown",
      "metadata": {
        "id": "w7xNQSboUmve"
      },
      "source": [
        "Similarly we can do the subtraction, division and multiplication."
      ]
    },
    {
      "cell_type": "code",
      "metadata": {
        "colab": {
          "base_uri": "https://localhost:8080/"
        },
        "id": "OHmlJXMrUoGZ",
        "outputId": "3af7d183-ca20-41cd-b7cf-50b98b3f7eaa"
      },
      "source": [
        "# subtraction = data1- data2\n",
        "\n",
        "print(np.subtract(data1 , data2))"
      ],
      "execution_count": null,
      "outputs": [
        {
          "output_type": "stream",
          "text": [
            "[[-4 -4]\n",
            " [-4 -4]]\n"
          ],
          "name": "stdout"
        }
      ]
    },
    {
      "cell_type": "code",
      "metadata": {
        "colab": {
          "base_uri": "https://localhost:8080/"
        },
        "id": "sVYZYwxnUx2e",
        "outputId": "b5e60ffd-cea6-4685-aca8-edfb98a1dedb"
      },
      "source": [
        "#multiplication\n",
        "multiply = data1 * data2\n",
        "print(np.multiply(data1 , data2))"
      ],
      "execution_count": null,
      "outputs": [
        {
          "output_type": "stream",
          "text": [
            "[[ 5 12]\n",
            " [21 32]]\n"
          ],
          "name": "stdout"
        }
      ]
    },
    {
      "cell_type": "code",
      "metadata": {
        "colab": {
          "base_uri": "https://localhost:8080/"
        },
        "id": "j6Few7IQVQ87",
        "outputId": "772f4fff-2b52-4533-b8dd-6e00d0d7b8f9"
      },
      "source": [
        "# division\n",
        "print(np.divide(data1 , data2))"
      ],
      "execution_count": null,
      "outputs": [
        {
          "output_type": "stream",
          "text": [
            "[[0.2        0.33333333]\n",
            " [0.42857143 0.5       ]]\n"
          ],
          "name": "stdout"
        }
      ]
    },
    {
      "cell_type": "markdown",
      "metadata": {
        "id": "_o1G36PxLE5y"
      },
      "source": [
        "# Arithmetic Functions in Numpy\n",
        "\n",
        "1. Reciprocal\n",
        "\n",
        "This function returns the reciprocal of argument, element-wise."
      ]
    },
    {
      "cell_type": "code",
      "metadata": {
        "colab": {
          "base_uri": "https://localhost:8080/"
        },
        "id": "-FGyyH1zLAvb",
        "outputId": "34d7e862-d694-4540-bbff-04cad042974f"
      },
      "source": [
        "# a = np.array([0.25])\n",
        "# a = np.array([1])\n",
        "# a = np.array([1.33])\n",
        "a = np.array([0]) \n",
        "# a = np.array([15])\n",
        "# 0.066\n",
        "print(a)\n",
        "print(np.reciprocal(a))"
      ],
      "execution_count": null,
      "outputs": [
        {
          "output_type": "stream",
          "name": "stdout",
          "text": [
            "[0]\n",
            "[-9223372036854775808]\n"
          ]
        },
        {
          "output_type": "stream",
          "name": "stderr",
          "text": [
            "/usr/local/lib/python3.7/dist-packages/ipykernel_launcher.py:8: RuntimeWarning: divide by zero encountered in reciprocal\n",
            "  \n",
            "/usr/local/lib/python3.7/dist-packages/ipykernel_launcher.py:8: RuntimeWarning: invalid value encountered in reciprocal\n",
            "  \n"
          ]
        }
      ]
    },
    {
      "cell_type": "markdown",
      "metadata": {
        "id": "H4PbMi3wMwi7"
      },
      "source": [
        "For elements with absolute values larger than 1, the result is always 0 because of the way in which Python handles integer division."
      ]
    },
    {
      "cell_type": "markdown",
      "metadata": {
        "id": "nUKcY7EFL7BJ"
      },
      "source": [
        "Q: What will be the reciprocal of the following array"
      ]
    },
    {
      "cell_type": "code",
      "metadata": {
        "colab": {
          "base_uri": "https://localhost:8080/"
        },
        "id": "qHJCkSG_Lg_F",
        "outputId": "e1d9109a-e5fc-466f-a391-baadf71f7944"
      },
      "source": [
        "arr = np.array([[1, 2],[3, 0]] , dtype='f')\n",
        "print(np.reciprocal(arr))"
      ],
      "execution_count": null,
      "outputs": [
        {
          "output_type": "stream",
          "name": "stdout",
          "text": [
            "[[1.         0.5       ]\n",
            " [0.33333334        inf]]\n"
          ]
        },
        {
          "output_type": "stream",
          "name": "stderr",
          "text": [
            "/usr/local/lib/python3.7/dist-packages/ipykernel_launcher.py:2: RuntimeWarning: divide by zero encountered in reciprocal\n",
            "  \n"
          ]
        }
      ]
    },
    {
      "cell_type": "code",
      "source": [],
      "metadata": {
        "id": "Aje9-rJUVt0D"
      },
      "execution_count": null,
      "outputs": []
    },
    {
      "cell_type": "markdown",
      "metadata": {
        "id": "wxY1YIB2NMlH"
      },
      "source": [
        "2. *Power*\n",
        "\n",
        "**np.power(x1 , x2)**\n",
        "\n",
        "First array elements raised to powers from second array, element-wise.\n",
        "\n",
        "x1 and x2 must be broadcastable to the same shape. \n",
        "\n",
        "**Note** that an integer type raised to a negative integer power will raise a ValueError."
      ]
    },
    {
      "cell_type": "code",
      "metadata": {
        "colab": {
          "base_uri": "https://localhost:8080/"
        },
        "id": "6bbf6V7ffu56",
        "outputId": "29f3286b-ff1c-452d-901e-c1f5843f3201"
      },
      "source": [
        "x1 =[2 , 4 , 6 , 8 , 10]\n",
        "x2 = 2\n",
        "np.power(x1 , x2)"
      ],
      "execution_count": null,
      "outputs": [
        {
          "output_type": "execute_result",
          "data": {
            "text/plain": [
              "array([  4,  16,  36,  64, 100])"
            ]
          },
          "metadata": {
            "tags": []
          },
          "execution_count": 16
        }
      ]
    },
    {
      "cell_type": "code",
      "metadata": {
        "colab": {
          "base_uri": "https://localhost:8080/"
        },
        "id": "1KExHlFxfeSg",
        "outputId": "ac97d7ce-1430-478b-e294-8f12df1f9e71"
      },
      "source": [
        "x1 = [0, 1, 2, 3, 4, 5]\n",
        "x2 = [1.0, 2.0, 3.0, 3.0, 2.0, 1.0]\n",
        "\n",
        "np.power(x1, x2)"
      ],
      "execution_count": null,
      "outputs": [
        {
          "output_type": "execute_result",
          "data": {
            "text/plain": [
              "array([ 0.,  1.,  8., 27., 16.,  5.])"
            ]
          },
          "metadata": {
            "tags": []
          },
          "execution_count": 14
        }
      ]
    },
    {
      "cell_type": "code",
      "metadata": {
        "colab": {
          "base_uri": "https://localhost:8080/"
        },
        "id": "q0xrXu5ZQU__",
        "outputId": "3aabacf2-d070-47aa-8581-b738a7279030"
      },
      "source": [
        "x1 = [0,1,2,3,4]\n",
        "x2 = 2\n",
        "\n",
        "np.power(x1, x2)"
      ],
      "execution_count": null,
      "outputs": [
        {
          "output_type": "execute_result",
          "data": {
            "text/plain": [
              "array([ 0,  1,  4,  9, 16])"
            ]
          },
          "metadata": {
            "tags": []
          },
          "execution_count": 5
        }
      ]
    },
    {
      "cell_type": "code",
      "metadata": {
        "colab": {
          "base_uri": "https://localhost:8080/"
        },
        "id": "3ui2j7JsfnR9",
        "outputId": "5822886f-f158-4b7f-d9e2-0735ac21f8cc"
      },
      "source": [
        "x1 = [0, 1, 2, 3, 4, 5]\n",
        "x2 = np.array([[1, 2, 3, 3, 2, 1], [1, 3, 4, 4, 1, 2]])\n",
        "np.power(x1, x2)\n"
      ],
      "execution_count": null,
      "outputs": [
        {
          "output_type": "execute_result",
          "data": {
            "text/plain": [
              "array([[ 0,  1,  8, 27, 16,  5],\n",
              "       [ 0,  1, 16, 81,  4, 25]])"
            ]
          },
          "metadata": {
            "tags": []
          },
          "execution_count": 23
        }
      ]
    },
    {
      "cell_type": "markdown",
      "metadata": {
        "id": "b6wlsUckoVBq"
      },
      "source": [
        "3. Max\n",
        "\n",
        "Returns the maximum element in the array\n",
        "\n",
        "4. Min \n",
        "\n",
        "returns the minimum element in the array"
      ]
    },
    {
      "cell_type": "code",
      "metadata": {
        "colab": {
          "base_uri": "https://localhost:8080/"
        },
        "id": "5xe7YdxdolyV",
        "outputId": "9cdc4c3b-d684-4dd8-bc3a-9fa1bf17bd72"
      },
      "source": [
        "arr= np.array([[3 , 23 , 45],[123, 165, 78],[41, 568, 72]])\n",
        "print('maximun:  ',arr.max())\n",
        "print('minimum:  ',arr.min())"
      ],
      "execution_count": null,
      "outputs": [
        {
          "output_type": "stream",
          "text": [
            "maximun:   568\n",
            "minimum:   3\n"
          ],
          "name": "stdout"
        }
      ]
    },
    {
      "cell_type": "markdown",
      "metadata": {
        "id": "nyhbrGCSh1QD"
      },
      "source": [
        "#Broadcasting\n",
        "\n",
        "The term broadcasting describes how numpy treats arrays with different shapes during arithmetic operations. Subject to certain constraints, the smaller array is “broadcast” across the larger array so that they have compatible shapes.\n",
        "\n",
        "NumPy understands that the multiplication should happen with each cell. **That concept is called broadcasting**. Broadcasting is a mechanism that allows NumPy to perform operations on arrays of **different shapes.**\n",
        "\n",
        "The simplest broadcasting example occurs when an array and a scalar value are combined in an operation:"
      ]
    },
    {
      "cell_type": "code",
      "metadata": {
        "colab": {
          "base_uri": "https://localhost:8080/"
        },
        "id": "T1TA5biUjpkU",
        "outputId": "1cce25fc-830d-4734-c2b3-ff837c3ea879"
      },
      "source": [
        "a = np.array([1.0, 2.0, 3.0])\n",
        "b = np.array([2.0, 2.0, 2.0])\n",
        "a*b"
      ],
      "execution_count": null,
      "outputs": [
        {
          "output_type": "execute_result",
          "data": {
            "text/plain": [
              "array([2., 4., 6.])"
            ]
          },
          "metadata": {
            "tags": []
          },
          "execution_count": 19
        }
      ]
    },
    {
      "cell_type": "code",
      "metadata": {
        "colab": {
          "base_uri": "https://localhost:8080/"
        },
        "id": "1wO44FeVizKn",
        "outputId": "30600e60-0457-4cad-87b2-835a4ce6639f"
      },
      "source": [
        "a = np.array([1.0, 2.0, 3.0])\n",
        "b = 2\n",
        "a*b"
      ],
      "execution_count": null,
      "outputs": [
        {
          "output_type": "execute_result",
          "data": {
            "text/plain": [
              "array([2., 4., 6.])"
            ]
          },
          "metadata": {},
          "execution_count": 8
        }
      ]
    },
    {
      "cell_type": "markdown",
      "metadata": {
        "id": "2S5U7M85ju85"
      },
      "source": [
        "The result is equivalent to the previous example where b was an array.\n",
        "\n",
        "**The code in the second example is more efficient than that in the first because broadcasting requires less memory during the multiplication (b is a scalar rather than an array).**"
      ]
    },
    {
      "cell_type": "markdown",
      "metadata": {
        "id": "WKg5OLeBpPgZ"
      },
      "source": [
        "# Reverse An array\n",
        "\n",
        "NumPy’s np.flip() function allows you to flip, or reverse, the contents of an array along an axis.\n",
        "\n",
        "When using np.flip, specify the array you would like to reverse and the axis. If you don’t specify the axis, NumPy will reverse the contents along all of the axes of your input array."
      ]
    },
    {
      "cell_type": "code",
      "metadata": {
        "colab": {
          "base_uri": "https://localhost:8080/"
        },
        "id": "OlXedI3bjuSF",
        "outputId": "e81bac6c-7ab8-4324-aef0-93c3d60c2221"
      },
      "source": [
        "arr = np.array([1, 2, 3, 4, 5, 6, 7, 8])\n",
        "reversed_arr = np.flip(arr)\n",
        "print('Reversed Array: ', reversed_arr)"
      ],
      "execution_count": null,
      "outputs": [
        {
          "output_type": "stream",
          "text": [
            "Reversed Array:  [8 7 6 5 4 3 2 1]\n"
          ],
          "name": "stdout"
        }
      ]
    },
    {
      "cell_type": "markdown",
      "metadata": {
        "id": "ICTEtjJEpsYe"
      },
      "source": [
        "Q: What would be the output of the following code?"
      ]
    },
    {
      "cell_type": "code",
      "metadata": {
        "colab": {
          "base_uri": "https://localhost:8080/"
        },
        "id": "A80AFNEOpj8u",
        "outputId": "3dc6218b-aed0-482b-d5f8-c396ede108c3"
      },
      "source": [
        "arr_2d = np.array([[1, 2, 3], [4, 5, 6], [7, 8, 9]])\n",
        "reversed_arr = np.flip(arr_2d)\n",
        "print('Reversed Array: ')\n",
        "print(reversed_arr)"
      ],
      "execution_count": null,
      "outputs": [
        {
          "output_type": "stream",
          "name": "stdout",
          "text": [
            "Reversed Array: \n",
            "[[9 8 7]\n",
            " [6 5 4]\n",
            " [3 2 1]]\n"
          ]
        }
      ]
    },
    {
      "cell_type": "markdown",
      "metadata": {
        "id": "lclXD2xkCImt"
      },
      "source": [
        "**H.W**. What if we specify the axis in the flip fuction. How different output the output will be"
      ]
    },
    {
      "cell_type": "code",
      "source": [
        "reversed_arr = np.flip(arr_2d, axis=1)"
      ],
      "metadata": {
        "id": "oq4VFbnZhPX7"
      },
      "execution_count": null,
      "outputs": []
    },
    {
      "cell_type": "code",
      "source": [
        "reversed_arr"
      ],
      "metadata": {
        "colab": {
          "base_uri": "https://localhost:8080/"
        },
        "id": "0MKmCV9LhWZy",
        "outputId": "8900590c-025b-4ceb-eccc-f000d65a53c2"
      },
      "execution_count": null,
      "outputs": [
        {
          "output_type": "execute_result",
          "data": {
            "text/plain": [
              "array([[3, 2, 1],\n",
              "       [6, 5, 4],\n",
              "       [9, 8, 7]])"
            ]
          },
          "metadata": {},
          "execution_count": 26
        }
      ]
    },
    {
      "cell_type": "code",
      "source": [],
      "metadata": {
        "id": "V0yMr6YshX3Z"
      },
      "execution_count": null,
      "outputs": []
    }
  ]
}